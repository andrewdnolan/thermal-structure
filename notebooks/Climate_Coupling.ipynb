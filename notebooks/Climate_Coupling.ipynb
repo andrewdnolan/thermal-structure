{
 "cells": [
  {
   "cell_type": "markdown",
   "id": "9c4cd6cc-d67a-4b2c-a54b-5a541bc6bc32",
   "metadata": {},
   "source": [
    "# Mass Balance ($\\dot{b}$) and Air Termperature Coupling ($T$)\n",
    "\n",
    "In order to find glacier of the correct size we must prescribe mass balance anomolies $\\Delta \\dot{b}$ to the KMR data. We follow _Cuffey and Paterson_ (2010) in making a linear approximation such that: \n",
    "\n",
    "$$\n",
    "\\begin{equation} \\label{eqn:MB_sens_full}\n",
    "    \\Delta \\dot{b} = \\frac{\\partial \\dot{b}}{\\partial T} \\, \\Delta T +\n",
    "                     \\frac{\\partial \\dot{b}}{\\partial P} \\, \\Delta P + \\ldots\n",
    "\\end{equation}\n",
    "$$\n",
    "where $ \\frac{\\partial \\dot{b}}{\\partial T}$ & $\\frac{\\partial \\dot{b}}{\\partial P}$ are the local mass balance sensivities to temperature and precipitation, $\\Delta T$ & $ \\Delta P$  are the temperature and percipitation anomolies, and \"$\\ldots$\" includes additional variables like cloud cover, wind speed, and humidity (_Cuffey and Paterson_ 2010; pg. 106). Given our simplified approach to prescribing the next balance, we only consider the first term on the r.h.s. of the equation above. \n",
    "\n",
    "In this notebook we seek to: \n",
    "\n",
    "1. Determine a value for  $ \\frac{\\partial \\dot{b}}{\\partial T}$ from the KMR mass balance data\n",
    "2. Asses whether local mass balance sensivities suffice, or if we need to use the glacier wide values"
   ]
  },
  {
   "cell_type": "code",
   "execution_count": 1,
   "id": "11b99646-48c7-4cce-8439-9b55314ac07b",
   "metadata": {},
   "outputs": [],
   "source": [
    "import sys\n",
    "import numpy as np\n",
    "import xarray as xr\n",
    "from scipy import interpolate\n",
    "import matplotlib.pyplot as plt\n",
    "import matplotlib.colors as colors\n",
    "\n",
    "# Set global matplotlib style parameters\n",
    "plt.rcParams.update({'text.usetex': True})\n",
    "\n",
    "# class for having a custom diverging colormap\n",
    "class MidpointNormalize(colors.Normalize):\n",
    "    def __init__(self, vmin=None, vmax=None, vcenter=None, clip=False):\n",
    "        self.vcenter = vcenter\n",
    "        super().__init__(vmin, vmax, clip)\n",
    "\n",
    "    def __call__(self, value, clip=None):\n",
    "        # I'm ignoring masked values and all kinds of edge cases to make a\n",
    "        # simple example...\n",
    "        # Note also that we must extrapolate beyond vmin/vmax\n",
    "        x, y = [self.vmin, self.vcenter, self.vmax], [0, 0.5, 1.]\n",
    "        return np.ma.masked_array(np.interp(value, x, y,\n",
    "                                            left=-np.inf, right=np.inf))\n",
    "\n",
    "    def inverse(self, value):\n",
    "        y, x = [self.vmin, self.vcenter, self.vmax], [0, 0.5, 1]"
   ]
  },
  {
   "cell_type": "markdown",
   "id": "b38ed12b-65f8-467e-b1a6-07345d23e15f",
   "metadata": {},
   "source": [
    "## Load and Clean the Kaskawulsh Data"
   ]
  },
  {
   "cell_type": "markdown",
   "id": "8992bf2e-c541-45d3-9b18-4e6d1fdc9c9d",
   "metadata": {},
   "source": [
    "We will use the KMR result from the Kaskawulsh to determine the mass balance sensivity"
   ]
  },
  {
   "cell_type": "code",
   "execution_count": 2,
   "id": "7eec88af-ff7c-46e0-b0ff-a0a8f951e988",
   "metadata": {},
   "outputs": [],
   "source": [
    "# File path to the full KMR data\n",
    "nc_fp = \"/Users/andrewnolan/Library/CloudStorage/OneDrive-SimonFraserUniversity(1sfu)/KMR_debrisfree_NetBalance/Kaskawulsh_NetBalance_with_DailyTemp.nc\"\n",
    "\n",
    "# load the NetCDF file and preview\n",
    "MB_new = xr.open_dataset(nc_fp)"
   ]
  },
  {
   "cell_type": "markdown",
   "id": "d1bf6af7-5e3b-4473-b500-eb706859b4a9",
   "metadata": {},
   "source": [
    "We need to extra numpy arrays, since scipy can not opeate on xarray datasets"
   ]
  },
  {
   "cell_type": "code",
   "execution_count": 3,
   "id": "2aec5c47-5d7e-4e6f-b859-95ca89e9af42",
   "metadata": {},
   "outputs": [],
   "source": [
    "# Let's subset the data we need, and extra as numpy array\n",
    "z = MB_new.stack(z=('x', 'y')).Z.values\n",
    "b = MB_new.stack(z=('x', 'y')).B.values\n",
    "T = MB_new.stack(z=('x', 'y')).Temp.mean('time').values\n",
    "\n",
    "# calculat the mean annual air temp at z_ref = mean elevation\n",
    "T_ma = MB_new.Temp.mean()"
   ]
  },
  {
   "cell_type": "markdown",
   "id": "84888e14-05f0-4b65-b569-42461b6ae1d0",
   "metadata": {},
   "source": [
    "Now let's remove all the `nan`s from our data, and sort the dependent variable.\n",
    "The sorting step is necessary for the `scipy` interpolation schemes. "
   ]
  },
  {
   "cell_type": "code",
   "execution_count": 4,
   "id": "f4bb2155-edc7-44f3-ab0f-f76ac108eca0",
   "metadata": {},
   "outputs": [],
   "source": [
    "# find indexes of nans and sort indexes\n",
    "mask = np.where(~np.isnan(z))\n",
    "idxs = np.argsort(z[mask])\n",
    "\n",
    "# Remove the nans and sort the data and downsample data so there are\n",
    "# less verically overlappig points, causing the spline fitting to fail\n",
    "z_sub = z[~np.isnan(z)]\n",
    "b_sub = b[~np.isnan(z)]\n",
    "T_sub = T[~np.isnan(z)]\n",
    "\n",
    "# Sort the data based on Temperature, since it's out dependent variable \n",
    "idxs   = np.argsort(T_sub, kind='heapsort')\n",
    "z_     = z_sub[idxs]\n",
    "b_     = b_sub[idxs]\n",
    "T_     = T_sub[idxs]"
   ]
  },
  {
   "cell_type": "markdown",
   "id": "e7ae4093-e8c9-4661-9d09-8b2ca648369d",
   "metadata": {},
   "source": [
    "## Determine $\\frac{\\partial \\dot{b}}{\\partial T}$"
   ]
  },
  {
   "cell_type": "markdown",
   "id": "2eca8024-0a2a-4574-913c-60171edcfa38",
   "metadata": {},
   "source": [
    "Next, lets create to new set of vectors which we will use to evaluate the fitted functions "
   ]
  },
  {
   "cell_type": "code",
   "execution_count": 5,
   "id": "c4306d84-f7a0-4729-8515-539954a8bfda",
   "metadata": {},
   "outputs": [],
   "source": [
    "# create an evenly spaced vector across air temp\n",
    "T_full = np.linspace(T_.min(), T_.max(), 1000)\n",
    "z_full = np.linspace(z_.min(), z_.max(), 1000)\n",
    "# assign an abritary length to the Kaskawulsh\n",
    "x_full = np.linspace(0, 20e3, 1000)"
   ]
  },
  {
   "cell_type": "markdown",
   "id": "8c8ce5c9-bfce-4138-863a-5bce3942661e",
   "metadata": {},
   "source": [
    "First we will fit a simple first order polynomial for the data. \n",
    "This approach assumes a constant mass balance sensitivity $\\frac{\\partial \\dot{b}}{\\partial T}$ for all elevations, such that \n",
    "$$\n",
    "\\begin{equation}\n",
    "\\Delta \\dot{b} = \\frac{\\partial \\dot{b}}{\\partial T} \\Delta T\n",
    "\\end{equation}\n",
    "$$\n",
    "where $\\Delta \\dot{b}$ is the mass balance anomoly and $\\Delta T$ is the temperature anomoly, per equation 4.8 of Cuffey and Paterson (pg. 106). "
   ]
  },
  {
   "cell_type": "code",
   "execution_count": 6,
   "id": "eab6c44b-551b-4945-9057-52b14bcacbc9",
   "metadata": {},
   "outputs": [],
   "source": [
    "# fit a first order polynomial to the data\n",
    "p = np.polyfit(T_, b_, 1)\n",
    "# evalute the polynomial \n",
    "poly_1 = np.polyval(p, T_full)\n",
    "\n",
    "# extract the slope from the least squares fitting\n",
    "dbdT_linear = p[0]"
   ]
  },
  {
   "cell_type": "markdown",
   "id": "220939ee-7954-4ab2-a321-ef3966995a4d",
   "metadata": {},
   "source": [
    "Next lets fit a spline to the mass balance data as a function of elevation. "
   ]
  },
  {
   "cell_type": "code",
   "execution_count": 7,
   "id": "344131f0-feee-446b-bd56-f07d72eb4c7f",
   "metadata": {},
   "outputs": [],
   "source": [
    "# fit a spline to the data\n",
    "tck    = interpolate.splrep(T_[::10], b_[::10], w=None, k=5, s=111)\n",
    "# evaluate the spline \n",
    "spline = interpolate.splev(T_full, tck)"
   ]
  },
  {
   "cell_type": "markdown",
   "id": "7a031b74-109f-4bfa-ab4c-ef58886fb445",
   "metadata": {},
   "source": [
    "This allow us to find the local, in our case elevation dependent, mass balance sensivities $\\frac{\\partial \\dot{b}(T(z))}{\\partial T(z)}$. \n",
    "\n",
    "Following Equations 4.9 and 4.10 from Cuffey and Paterson (pg. 107), we define the glacier wide mass balance sensivities ($\\Delta \\bar{\\dot{b}}$) as \n",
    "$$\n",
    "\\begin{equation}\n",
    "\\Delta \\bar{\\dot{b}} = C_{\\rm T} \\Delta T\n",
    "\\end{equation}\n",
    "$$\n",
    "\n",
    "where \n",
    "$$\n",
    "\\begin{equation}\n",
    "C_{\\rm T} =\\frac{1}{\\mathcal{A}} \\int_{\\mathcal{A}} \\frac{\\partial \\dot{b}}{\\partial T} d\\mathcal{A}\n",
    "\\end{equation}\n",
    "$$\n",
    "\n",
    "Due to constant gridcell spacing in the single horizontal dimension ($x$), the integral above is equivalent to the average of the elevation dependent $\\frac{\\partial \\dot{b}}{\\partial T}$. "
   ]
  },
  {
   "cell_type": "code",
   "execution_count": 8,
   "id": "9f54b344-9390-4c49-b664-d22c83b421ed",
   "metadata": {},
   "outputs": [],
   "source": [
    "# find the elevation dependent mass balance sensitivty for the slpine \n",
    "dbdT_spline = np.gradient(spline, T_full)\n",
    "\n",
    "# Find the glacier wide, mass balance sensivity \n",
    "C_T = np.trapz(dbdT_spline, x_full) / (x_full.max() - x_full.min())\n",
    "\n",
    "# using the slope calculated above, evaluate the other linear method\n",
    "spline_p_1 = np.array([C_T, -C_T*T_ma])\n",
    "spline_poly_1 = np.polyval(spline_p_1, T_full)"
   ]
  },
  {
   "cell_type": "markdown",
   "id": "225e425c-1cbd-4eab-9500-9e7890dc7803",
   "metadata": {},
   "source": [
    "Now let's see how different the two different methods are by calculating the percent differecne"
   ]
  },
  {
   "cell_type": "code",
   "execution_count": 9,
   "id": "9fd4e887-e68b-4b23-9ec3-d1bc9203e9b8",
   "metadata": {},
   "outputs": [
    {
     "name": "stdout",
     "output_type": "stream",
     "text": [
      "3.7 % difference between the two methods\n"
     ]
    }
   ],
   "source": [
    "# calculate the percent difference b/w the two methods\n",
    "diff = (C_T - dbdT_linear)/(dbdT_linear) * 100 \n",
    "\n",
    "print(f\"{diff:1.1f} % difference between the two methods\")"
   ]
  },
  {
   "cell_type": "markdown",
   "id": "4cbd3a6c-5458-4502-a778-4228df918316",
   "metadata": {},
   "source": [
    "## Visualization"
   ]
  },
  {
   "cell_type": "markdown",
   "id": "0f08218d-3882-466a-b34f-4d5035cf2bf6",
   "metadata": {},
   "source": [
    "Finally, let's visualize the results "
   ]
  },
  {
   "cell_type": "code",
   "execution_count": 10,
   "id": "ef9702d3-170d-4dd4-a40c-69047c9b10bc",
   "metadata": {},
   "outputs": [
    {
     "data": {
      "text/plain": [
       "<matplotlib.legend.Legend at 0x1171d3f10>"
      ]
     },
     "execution_count": 10,
     "metadata": {},
     "output_type": "execute_result"
    },
    {
     "data": {
      "image/png": "[encoded data removed]",
      "text/plain": [
       "<Figure size 600x300 with 2 Axes>"
      ]
     },
     "metadata": {},
     "output_type": "display_data"
    }
   ],
   "source": [
    "fig, ax = plt.subplots(figsize=(6, 3))\n",
    "\n",
    "# create the special diverging color map\n",
    "midnorm = MidpointNormalize(vmin=-10., vcenter=0, vmax=5)\n",
    "\n",
    "ax2 = ax.twiny()\n",
    "ax2.invert_xaxis()\n",
    "\n",
    "# plot the data\n",
    "ax2.scatter(z_, b_, c=b_, s=1.0, cmap='RdBu', norm=midnorm)\n",
    "ax.plot(T_full, poly_1, c='tab:green', lw=1.0, label='global')\n",
    "# ax.plot(T_full, spline, c='tab:orange', lw=1.0, label='spline')\n",
    "ax.plot(T_full, spline_poly_1, c='tab:orange', lw=1.0, label='local')\n",
    "\n",
    "ax.axvline(MB_new.Temp.mean(), c='k', ls=\":\", lw=1.0, label='$T_{\\\\rm ma}$ at $z_{\\\\rm ref} \\\\approx  2200 $ m a.s.l.')\n",
    "\n",
    "# add some labels\n",
    "ax.set_ylabel('Mass balance [m a$^{-1}$]')\n",
    "ax.set_xlabel(r'Air Temp [$^\\circ C$]')\n",
    "ax2.set_xlabel(r'Elevation [m a.s.l.]')\n",
    "ax.grid()\n",
    "\n",
    "ax.zorder = 2 # then the line\n",
    "ax2.zorder = 1 # then the points\n",
    "\n",
    "# need to make facecolor transparent\n",
    "ax.set_facecolor([0.0, 0.0, 0.0, 0.0])\n",
    "ax.legend()"
   ]
  },
  {
   "cell_type": "markdown",
   "id": "09429ee2-751f-428c-baab-e8fa05f5dff8",
   "metadata": {},
   "source": [
    "# Wrapping Up \n",
    "\n",
    "From the work above, we concluded: \n",
    "\n",
    "1. $\\frac{\\partial \\dot{b}}{\\partial T} \\approx -0.77$ [m a$^{-1}$ C$^{-1}$]\n",
    "2. the global linear approximation is sufficent for our purposes. Is only 3% different than the more complete method"
   ]
  },
  {
   "cell_type": "code",
   "execution_count": null,
   "id": "7331e733-c75c-41e7-b500-140685053966",
   "metadata": {},
   "outputs": [],
   "source": []
  }
 ],
 "metadata": {
  "kernelspec": {
   "display_name": "Python 3 (ipykernel)",
   "language": "python",
   "name": "python3"
  },
  "language_info": {
   "codemirror_mode": {
    "name": "ipython",
    "version": 3
   },
   "file_extension": ".py",
   "mimetype": "text/x-python",
   "name": "python",
   "nbconvert_exporter": "python",
   "pygments_lexer": "ipython3",
   "version": "3.9.6"
  }
 },
 "nbformat": 4,
 "nbformat_minor": 5
}
