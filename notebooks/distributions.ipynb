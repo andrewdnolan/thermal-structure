{
 "cells": [
  {
   "cell_type": "markdown",
   "metadata": {},
   "source": [
    "# Parameter Distributions \n",
    "\n",
    "Here we define parameter distributions to facilitate a sensitivty analysis of our surface heating model. \n",
    "\n",
    "For reference: \n",
    "- https://advances.sciencemag.org/content/5/6/eaav9396/tab-pdf\n",
    "- https://github.com/pism/pism-gris/blob/master/uncertainty_qunatification/draw_samples.py"
   ]
  },
  {
   "cell_type": "code",
   "execution_count": 28,
   "metadata": {},
   "outputs": [],
   "source": [
    "import numpy as np\n",
    "import pandas as pd\n",
    "\n",
    "from SALib.sample import latin, saltelli\n",
    "from scipy.stats.distributions import truncnorm, gamma, uniform, randint"
   ]
  },
  {
   "cell_type": "code",
   "execution_count": null,
   "metadata": {},
   "outputs": [],
   "source": []
  }
 ],
 "metadata": {
  "kernelspec": {
   "display_name": "Python 3",
   "language": "python",
   "name": "python3"
  },
  "language_info": {
   "codemirror_mode": {
    "name": "ipython",
    "version": 3
   },
   "file_extension": ".py",
   "mimetype": "text/x-python",
   "name": "python",
   "nbconvert_exporter": "python",
   "pygments_lexer": "ipython3",
   "version": "3.7.8"
  }
 },
 "nbformat": 4,
 "nbformat_minor": 4
}
