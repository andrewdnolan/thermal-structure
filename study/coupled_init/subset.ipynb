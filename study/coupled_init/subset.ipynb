{
 "cells": [
  {
   "cell_type": "code",
   "execution_count": 1,
   "id": "4e415f5a-56d9-4def-a883-5021ea73dfd9",
   "metadata": {},
   "outputs": [],
   "source": [
    "import sys\n",
    "from glob import glob\n",
    "import xarray as xr\n",
    "import os.path as path \n",
    "import matplotlib.pyplot as plt \n",
    "\n",
    "from dask.distributed import Client\n",
    "from dask_jobqueue import SLURMCluster"
   ]
  },
  {
   "cell_type": "code",
   "execution_count": null,
   "id": "ea685300-d2e6-4aec-9431-4f29d1eb7d81",
   "metadata": {},
   "outputs": [],
   "source": [
    "cluster = SLURMCluster(cores=4,\n",
    "                       memory=\"1000MB\",\n",
    "                       walltime='00:30:00')\n",
    "\n",
    "client = Client(cluster)\n",
    "cluster"
   ]
  },
  {
   "cell_type": "code",
   "execution_count": null,
   "id": "227b1afa-c257-47d3-8a35-9a7c5d5bf751",
   "metadata": {},
   "outputs": [],
   "source": [
    "cluster.scale(10)"
   ]
  },
  {
   "cell_type": "code",
   "execution_count": 3,
   "id": "bd4b982d-bc76-4589-9950-6d031ca6364a",
   "metadata": {},
   "outputs": [
    {
     "name": "stdout",
     "output_type": "stream",
     "text": [
      "CPU times: user 2.09 s, sys: 1.81 s, total: 3.9 s\n",
      "Wall time: 8.45 s\n"
     ]
    }
   ],
   "source": [
    "%%time \n",
    "\n",
    "src_fp = 'glc1-a/nc/glc1-a_dx_50_NT_2000_dt_1.0_MB_*_OFF_Tma_*_prog_gridded.nc'\n",
    "gs_ds  = xr.open_mfdataset(src_fp, parallel=True)"
   ]
  },
  {
   "cell_type": "code",
   "execution_count": 10,
   "id": "066b3f88-ac51-4e3a-8cf7-9e9f40b07581",
   "metadata": {},
   "outputs": [
    {
     "data": {
      "text/plain": [
       "0.010280168"
      ]
     },
     "execution_count": 10,
     "metadata": {},
     "output_type": "execute_result"
    }
   ],
   "source": [
    "# select the final timestep for local processing\n",
    "subset = gs_ds.isel(t=-1)"
   ]
  }
 ],
 "metadata": {
  "kernelspec": {
   "display_name": "Python 3 (ipykernel)",
   "language": "python",
   "name": "python3"
  },
  "language_info": {
   "codemirror_mode": {
    "name": "ipython",
    "version": 3
   },
   "file_extension": ".py",
   "mimetype": "text/x-python",
   "name": "python",
   "nbconvert_exporter": "python",
   "pygments_lexer": "ipython3",
   "version": "3.7.12"
  }
 },
 "nbformat": 4,
 "nbformat_minor": 5
}
