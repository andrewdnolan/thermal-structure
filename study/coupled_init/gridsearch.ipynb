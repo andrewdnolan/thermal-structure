{
 "cells": [
  {
   "cell_type": "code",
   "execution_count": null,
   "metadata": {},
   "outputs": [],
   "source": [
    "import sys\n",
    "from glob import glob\n",
    "import xarray as xr\n",
    "import os.path as path \n",
    "import matplotlib.pyplot as plt \n",
    "\n",
    "from dask.distributed import Client\n",
    "\n",
    "sys.path.append('../../src/thermal') \n",
    "\n",
    "from open import dataset as open_dataset, mf_dataset as open_mfdataset\n",
    "\n",
    "\n",
    "def strip_Temp(fp): \n",
    "    return float(fp.split('Tma_')[-1].split('_')[0])\n",
    "\n",
    "def preproccess(ds): \n",
    "    # get filepath from datasource\n",
    "    fp = ds.encoding[\"source\"]\n",
    "    \n",
    "    # find ensemble parameter values\n",
    "    T_ma = strip_Temp(fp)\n",
    "    \n",
    "    # expand the dimmension to allow concatetnation along \n",
    "    ds = ds.expand_dims(\"T_ma\").assign_coords(T_ma=('T_ma', [T_ma]))\n",
    "    \n",
    "    # Thin the data by a factor of ten to speed things up. \n",
    "    ds = ds.isel(t=slice(0,-1,10))\n",
    "    \n",
    "    return ds\n",
    "\n",
    "def calc_perc_temp(src): \n",
    "    # number of valid nodes above minimum ice-thickness\n",
    "    # NN = src.height.where(src.height < 10).count(dim=('nMesh_node'))#.count(dim=('coord_1', 'coord_2'))\n",
    "    \n",
    "\n",
    "    NN = src.height.where(src.height > 10).count(dim=('coord_1', 'coord_2'))\n",
    "\n",
    "    # mask for determining where nodes are temperate \n",
    "    mask = (src['enthalpy_h'] > src['phase change enthalpy']) & (src.height > 10)\n",
    "    # number of nodes where ethalpy exceeds phase chnage enthalpy\n",
    "    NT = src.enthalpy_h.where(mask).count(dim=('coord_1', 'coord_2'))\n",
    "    return NT/NN * 100"
   ]
  },
  {
   "cell_type": "code",
   "execution_count": null,
   "metadata": {},
   "outputs": [],
   "source": [
    "client = Client()"
   ]
  },
  {
   "cell_type": "code",
   "execution_count": null,
   "metadata": {},
   "outputs": [
    {
     "name": "stdout",
     "output_type": "stream",
     "text": [
      "CPU times: user 2.09 s, sys: 1.81 s, total: 3.9 s\n",
      "Wall time: 8.45 s\n"
     ]
    }
   ],
   "source": [
    "%%time \n",
    "\n",
    "src_fp = '/Volumes/thermal_ssd/DataDir/glc1-a_dx_50_NT_2000_dt_1.0_MB_*_OFF_Tma_-7.*_prog_gridded.nc'\n",
    "test   = xr.open_mfdataset(src_fp, parallel=True)"
   ]
  },
  {
   "cell_type": "code",
   "execution_count": null,
   "metadata": {},
   "outputs": [
    {
     "data": {
      "text/plain": [
       "0.010280168"
      ]
     },
     "execution_count": 10,
     "metadata": {},
     "output_type": "execute_result"
    }
   ],
   "source": [
    "test"
   ]
  },
  {
   "cell_type": "code",
   "execution_count": null,
   "metadata": {},
   "outputs": [],
   "source": [
    "subset = test.isel(t=-1, T_ma=slice(0,None,2))"
   ]
  },
  {
   "cell_type": "code",
   "execution_count": null,
   "metadata": {},
   "outputs": [],
   "source": [
    "fig, axes = plt.subplots(2, 5, figsize=(10, 2), \n",
    "                         sharex=True, sharey=True)\n",
    "\n",
    "for i, ax in enumerate(axes[0,:].ravel()):\n",
    "    \n",
    "    ax.pcolormesh(subset.X[:,::-1], \n",
    "                  subset.Z.isel(T_ma=i, Delta_MB=0), \n",
    "                  subset['temperature'].isel(T_ma=i, Delta_MB=0), \n",
    "                   shading='gouraud')\n",
    "    \n",
    "\n",
    "for i, ax in enumerate(axes[1,:].ravel()):\n",
    "    \n",
    "    ax.pcolormesh(subset.X[:,::-1], \n",
    "                  subset.Z.isel(T_ma=i, Delta_MB=-1), \n",
    "                  subset['temperature'].isel(T_ma=i, Delta_MB=-1), \n",
    "                   shading='gouraud')\n",
    "    \n",
    "ax.set_xlim(None, 6e3)\n",
    "ax.set_ylim(1.75e3, None)"
   ]
  },
  {
   "cell_type": "code",
   "execution_count": null,
   "metadata": {},
   "outputs": [],
   "source": [
    "subset['temperature'].isel(T_ma=i)"
   ]
  },
  {
   "cell_type": "code",
   "execution_count": null,
   "metadata": {},
   "outputs": [],
   "source": [
    "Vol = test.height.isel(coord_2=-1).integrate(\"coord_1\") /\\\n",
    "      test.height.isel(coord_2=-1).isel(t=0).integrate(\"coord_1\")"
   ]
  },
  {
   "cell_type": "code",
   "execution_count": null,
   "metadata": {},
   "outputs": [],
   "source": [
    "Volume = Vol.compute()"
   ]
  },
  {
   "cell_type": "code",
   "execution_count": null,
   "metadata": {},
   "outputs": [],
   "source": [
    "Volume.sel(t=200)"
   ]
  },
  {
   "cell_type": "code",
   "execution_count": null,
   "metadata": {},
   "outputs": [],
   "source": [
    "# src_dir = '/Volumes/thermal/Thesis/thermal-structure/study/coupled_init/'\n",
    "# src_fp  = path.join(src_dir, 'glc1-a/nc/glc1-a_dx_50_NT_2000_dt_1.0_MB_-1.500_OFF_Tma_-7.50_prog.nc')"
   ]
  },
  {
   "cell_type": "code",
   "execution_count": null,
   "metadata": {},
   "outputs": [],
   "source": [
    "%%time \n",
    "\n",
    "src_fp  = '/Volumes/thermal_ssd/DataDir/glc1-a_dx_50_NT_2000_dt_1.0_MB_-1.075_OFF_Tma_*_prog.nc'\n",
    "\n",
    "test = open_mfdataset(src_fp, concat_dim='T_ma', preprocess=preproccess, parallel=True)\n",
    "test"
   ]
  },
  {
   "cell_type": "code",
   "execution_count": null,
   "metadata": {},
   "outputs": [],
   "source": [
    "Vol = test.height.isel(coord_2=-1).integrate(\"coord_1\") /\\\n",
    "      test.height.isel(coord_2=-1).isel(t=0).integrate(\"coord_1\")"
   ]
  },
  {
   "cell_type": "code",
   "execution_count": null,
   "metadata": {},
   "outputs": [],
   "source": [
    "Vol.plot(hue='T_ma');"
   ]
  },
  {
   "cell_type": "code",
   "execution_count": null,
   "metadata": {},
   "outputs": [],
   "source": [
    "calc_perc_temp(test).plot(hue='T_ma');"
   ]
  },
  {
   "cell_type": "code",
   "execution_count": null,
   "metadata": {},
   "outputs": [],
   "source": [
    "%%time\n",
    "\n",
    "# load the external hard drive\n",
    "ds = open_dataset(src_fp)"
   ]
  },
  {
   "cell_type": "code",
   "execution_count": null,
   "metadata": {},
   "outputs": [],
   "source": [
    "%%time\n",
    "\n",
    "src_fp = '/Users/andrewnolan/Desktop/glc1-a_dx_50_NT_2000_dt_1.0_MB_-1.500_OFF_Tma_-7.50_prog.nc'\n",
    "\n",
    "# load directly from my laptops SSD\n",
    "ds = open_dataset(src_fp)"
   ]
  },
  {
   "cell_type": "code",
   "execution_count": null,
   "metadata": {},
   "outputs": [],
   "source": [
    "with xr.open_dataset(src_fp) as src: \n",
    "    pass"
   ]
  },
  {
   "cell_type": "code",
   "execution_count": null,
   "metadata": {},
   "outputs": [],
   "source": [
    "src.attrs"
   ]
  },
  {
   "cell_type": "code",
   "execution_count": null,
   "metadata": {},
   "outputs": [],
   "source": [
    "ds"
   ]
  },
  {
   "cell_type": "code",
   "execution_count": null,
   "metadata": {},
   "outputs": [],
   "source": [
    "%%time\n",
    "\n",
    "src_fp = '/Volumes/Extreme_SSD/glc1-a_dx_50_NT_2000_dt_1.0_MB_-1.500_OFF_Tma_-7.50_prog.nc'\n",
    "\n",
    "# load directly from Emily's SSD\n",
    "ds = open_dataset(src_fp)"
   ]
  },
  {
   "cell_type": "code",
   "execution_count": null,
   "metadata": {},
   "outputs": [],
   "source": [
    "%%time \n",
    "\n",
    "src_fp = '/Volumes/Glacier/glc1-a_dx_50_NT_2000_dt_1.0_MB_-1.500_OFF_Tma_-7.50_prog.nc'\n",
    "\n",
    "ds = open_dataset(src_fp)"
   ]
  },
  {
   "cell_type": "code",
   "execution_count": null,
   "metadata": {},
   "outputs": [],
   "source": [
    "test = open_mfdataset(src_fp, preprocess=preproccess)\n",
    "test"
   ]
  },
  {
   "cell_type": "code",
   "execution_count": null,
   "metadata": {},
   "outputs": [],
   "source": [
    "Vol = ds.height.isel(coord_2=-1).integrate(\"coord_1\") /\\\n",
    "      ds.height.isel(coord_2=-1).isel(t=0).integrate(\"coord_1\")\n",
    "\n",
    "def calc_perc_temp(src): \n",
    "    # number of valid nodes above minimum ice-thickness\n",
    "    # NN = src.height.where(src.height < 10).count(dim=('nMesh_node'))#.count(dim=('coord_1', 'coord_2'))\n",
    "    \n",
    "\n",
    "    NN = src.height.where(src.height > 10).count(dim=('coord_1', 'coord_2'))\n",
    "\n",
    "    # mask for determining where nodes are temperate \n",
    "    mask = (src['enthalpy_h'] > src['phase change enthalpy']) & (src.height > 10)\n",
    "    # number of nodes where ethalpy exceeds phase chnage enthalpy\n",
    "    NT = src.enthalpy_h.where(mask).count(dim=('coord_1', 'coord_2'))\n",
    "    return NT/NN * 100"
   ]
  },
  {
   "cell_type": "code",
   "execution_count": null,
   "metadata": {},
   "outputs": [],
   "source": [
    "Vol.plot()"
   ]
  },
  {
   "cell_type": "code",
   "execution_count": null,
   "metadata": {},
   "outputs": [],
   "source": [
    "calc_perc_temp(ds).plot()"
   ]
  },
  {
   "cell_type": "code",
   "execution_count": null,
   "metadata": {},
   "outputs": [],
   "source": [
    "fig, ax = plt.subplots()\n",
    "\n",
    "im = ax.pcolormesh(ds.X[:,::-1], \n",
    "                   ds.Z.isel(t=-3), \n",
    "                   ds['temperature'].isel(t=-1), \n",
    "                   shading='gouraud')\n",
    "\n",
    "fig.colorbar(im)"
   ]
  },
  {
   "cell_type": "code",
   "execution_count": null,
   "metadata": {},
   "outputs": [],
   "source": [
    "files = 'fdsjlkd'\n",
    "\n",
    "(type(files) == str) and ('*' not in files)"
   ]
  },
  {
   "cell_type": "code",
   "execution_count": null,
   "metadata": {},
   "outputs": [],
   "source": []
  }
 ],
 "metadata": {
  "kernelspec": {
   "display_name": "Python 3 (ipykernel)",
   "language": "python",
   "name": "python3"
  },
  "language_info": {
   "codemirror_mode": {
    "name": "ipython",
    "version": 3
   },
   "file_extension": ".py",
   "mimetype": "text/x-python",
   "name": "python",
   "nbconvert_exporter": "python",
   "pygments_lexer": "ipython3",
   "version": "3.7.12"
  }
 },
 "nbformat": 4,
 "nbformat_minor": 4
}
