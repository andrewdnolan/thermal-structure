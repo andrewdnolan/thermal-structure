{
 "cells": [
  {
   "cell_type": "code",
   "execution_count": null,
   "metadata": {},
   "outputs": [],
   "source": [
    "import sys\n",
    "import numpy as np\n",
    "import xarray as xr\n",
    "from glob import glob\n",
    "from scipy import interpolate\n",
    "import matplotlib.pyplot as plt \n",
    "\n",
    "from dask.distributed import Client\n",
    "\n",
    "plt.rcParams['text.usetex']    = True\n",
    "\n",
    "\n",
    "def calc_perc_temp(src): \n",
    "    # number of valid nodes above minimum ice-thickness\n",
    "    # NN = src.height.where(src.height < 10).count(dim=('nMesh_node'))#.count(dim=('coord_1', 'coord_2'))\n",
    "    NN = src.height.where(src.height > 10).count(dim=('coord_1', 'coord_2'))\n",
    "\n",
    "    # mask for determining where nodes are temperate \n",
    "    mask = (src['enthalpy_h'] > src['phase change enthalpy']) & (src.height > 10)\n",
    "    # number of nodes where ethalpy exceeds phase chnage enthalpy\n",
    "    NT = src.enthalpy_h.where(mask).count(dim=('coord_1', 'coord_2'))\n",
    "    return NT/NN * 100"
   ]
  },
  {
   "cell_type": "code",
   "execution_count": null,
   "metadata": {},
   "outputs": [],
   "source": [
    "# client = Client()"
   ]
  },
  {
   "cell_type": "code",
   "execution_count": null,
   "metadata": {},
   "outputs": [],
   "source": [
    "src_fp = '/Volumes/thermal_ssd/glc1-a_dx_50_SS@_2000_dt_1.0_MB_-1.5__-1.0_OFF_Tma_-9.0__-7.0_prog_gridded.nc'\n",
    "\n",
    "SS_2kya = xr.open_dataset(src_fp)"
   ]
  },
  {
   "cell_type": "code",
   "execution_count": null,
   "metadata": {},
   "outputs": [],
   "source": [
    "def basal_temp(ds): \n",
    "    basal = ds.isel(coord_2=0)\n",
    "    \n",
    "    xr.where(basal.enthalpy_h >= basal['phase change enthalpy'], 1, 0).sum('coord_1')"
   ]
  },
  {
   "cell_type": "code",
   "execution_count": null,
   "metadata": {},
   "outputs": [],
   "source": [
    "basal = SS_2kya.isel(coord_2=0)"
   ]
  },
  {
   "cell_type": "code",
   "execution_count": null,
   "metadata": {},
   "outputs": [],
   "source": [
    "basal.depth > 10"
   ]
  },
  {
   "cell_type": "code",
   "execution_count": null,
   "metadata": {},
   "outputs": [],
   "source": [
    "xr.where((basal.enthalpy_h >= basal['phase change enthalpy']) & (basal.depth > 10), 1, 0).sum('coord_1') / basal.coord_1.size"
   ]
  },
  {
   "cell_type": "code",
   "execution_count": null,
   "metadata": {},
   "outputs": [],
   "source": [
    "Vol = SS_2kya.height.isel(coord_2=-1).integrate(\"coord_1\") /\\\n",
    "      SS_2kya.height.isel(coord_2=-1).isel(t=0).integrate(\"coord_1\")\n",
    "\n",
    "SS_2kya['Vol']  = Vol.interpolate_na(dim=\"T_ma\")\n",
    "# interpolate the missing model runs\n",
    "SS_2kya['Perc'] = calc_perc_temp(SS_2kya.isel(t=-1)).interpolate_na(dim=\"T_ma\")"
   ]
  },
  {
   "cell_type": "code",
   "execution_count": null,
   "metadata": {},
   "outputs": [],
   "source": [
    "# Modeled grid of parameter vals\n",
    "T_mgrid, B_mgrid = np.meshgrid(SS_2kya.T_ma, SS_2kya.Delta_MB)\n",
    "\n",
    "# Dense grid of parameter vals for visulaization\n",
    "T_dgrid, B_dgrid = np.meshgrid(np.linspace(T_mgrid.min(),T_mgrid.max(),100), \n",
    "                               np.linspace(B_mgrid.min(),B_mgrid.max(),100))"
   ]
  },
  {
   "cell_type": "code",
   "execution_count": null,
   "metadata": {},
   "outputs": [],
   "source": [
    "tck  = interpolate.bisplrep(B_mgrid, T_mgrid, SS_2kya['Perc'].values)\n",
    "znew = interpolate.bisplev(B_dgrid[:,0], T_dgrid[0,:], tck)\n",
    "\n",
    "\n",
    "fig, ax = plt.subplots(1,1, figsize=(6,4), \n",
    "                       constrained_layout=True)\n",
    "\n",
    "im = ax.contourf(T_dgrid, B_dgrid, znew, levels=np.linspace(0, 80, 41))\n",
    "s  = ax.scatter(T_mgrid, B_mgrid, s=0.1, c='k')\n",
    "\n",
    "ax.set_title('glc1-a')\n",
    "ax.set_xlabel('$T_{\\\\rm ma}$ at $z_{\\\\rm ref}$  [$^\\circ$C]')\n",
    "ax.set_ylabel('$\\Delta \\dot{b}$ [m a$^{-1}$]')\n",
    "\n",
    "\n",
    "cbar = fig.colorbar(im, drawedges=True)\n",
    "# annotate the colorbar axes\n",
    "cbar.set_label('\\% Temperate [-]', rotation=270, labelpad=20)\n",
    "\n",
    "# fig.savefig('/Users/andrewnolan/Desktop/Perc.png',  dpi=300, bbox_inches='tight')"
   ]
  },
  {
   "cell_type": "code",
   "execution_count": null,
   "metadata": {},
   "outputs": [],
   "source": [
    "tck  = interpolate.bisplrep(B_mgrid, T_mgrid, SS_2kya['Vol'].isel(t=-1).values)\n",
    "znew = interpolate.bisplev(B_dgrid[:,0], T_dgrid[0,:], tck)\n",
    "\n",
    "\n",
    "fig, ax = plt.subplots(1,1, figsize=(6,4), \n",
    "                       constrained_layout=True)\n",
    "\n",
    "im = ax.contourf(T_dgrid, B_dgrid, znew, levels=np.linspace(0.7,1.3,61), cmap='RdBu')\n",
    "s  = ax.scatter( T_mgrid, B_mgrid, s=0.1, c='k')\n",
    "\n",
    "\n",
    "ax.contour(T_dgrid, B_dgrid, znew, levels=[0.99, 1.0, 1.01], linestyles=[':', '-', ':'], colors='k', linewidths=0.5)\n",
    "# ax.contourf(T_dgrid, B_dgrid, znew, levels=[0.99, 1.01], cmap='binary', alpha=0.25)\n",
    "\n",
    "\n",
    "ax.set_title('glc1-a')\n",
    "ax.set_xlabel('$T_{\\\\rm ma}$ at $z_{\\\\rm ref}$  [$^\\circ$C]')\n",
    "ax.set_ylabel('$\\Delta \\dot{b}$ [m a$^{-1}$]')\n",
    "\n",
    "\n",
    "cbar = fig.colorbar(im, ticks=np.linspace(0.7,1.3, 13), drawedges=True)\n",
    "# annotate the colorbar axes\n",
    "cbar.set_label('Relative Volume per unit Width [-]', rotation=270, labelpad=20)\n",
    "\n",
    "# fig.savefig('/Users/andrewnolan/Desktop/Vol.png', \n",
    "#             dpi=300, bbox_inches='tight', \n",
    "#             facecolor='w')"
   ]
  },
  {
   "cell_type": "code",
   "execution_count": null,
   "metadata": {},
   "outputs": [],
   "source": [
    "subset = SS_2kya.isel(T_ma=slice(0,None,5), Delta_MB=slice(0,None,4))"
   ]
  },
  {
   "cell_type": "code",
   "execution_count": null,
   "metadata": {},
   "outputs": [],
   "source": [
    "fig, axes = plt.subplots(6, 5, figsize=(8.5, 6), \n",
    "                         sharex=True, sharey=True, \n",
    "                         constrained_layout=True)\n",
    "\n",
    "for i in range(6): \n",
    "    δ_b = float(subset.Delta_MB[i])\n",
    "    axes[i,  0].set_ylabel(f'$\\Delta \\dot{{b}}={δ_b}$')\n",
    "\n",
    "    if i > 0: \n",
    "        j = i-1 \n",
    "        T_ma = float(subset.T_ma[j])\n",
    "        axes[-1, j].set_xlabel(f'$T_{{ma}} ={T_ma}$')\n",
    "    \n",
    "    for j in range(5):\n",
    "        \n",
    "        im = axes[i,j].pcolormesh(subset.X[:,::-1], \n",
    "                             subset.Z.isel(T_ma=j, Delta_MB=i, t=-1), \n",
    "                             subset['temperature'].isel(T_ma=j, Delta_MB=i, t=-1), \n",
    "                             vmin=-10, vmax=0.0, \n",
    "                             shading='gouraud')\n",
    "        \n",
    "        V = float(subset['Vol' ].isel(T_ma=j, Delta_MB=i, t=-1))\n",
    "        P = float(subset['Perc'].isel(T_ma=j, Delta_MB=i))/100.0\n",
    "        \n",
    "        axes[i,j].annotate(f\"$V'$ = {V:1.2f} [-]\", \n",
    "                           xy=(0.05,0.1), \n",
    "                           xycoords='axes fraction', \n",
    "                           fontsize='small')\n",
    "        # axes[i,j].annotate(f\"$TIF$ = {P:.2f} [-]\", \n",
    "        #                    xy=(0.60,0.60), \n",
    "        #                    xycoords='axes fraction')\n",
    "        \n",
    "        axes[i,j].get_xaxis().set_ticks([])\n",
    "        axes[i,j].get_yaxis().set_ticks([])\n",
    "        \n",
    "        axes[i,j].spines.right.set_visible(False)\n",
    "        axes[i,j].spines.top.set_visible(False)\n",
    "        \n",
    "        # for spine in axes[i, j].spines.values():\n",
    "        #     spine.set_visible(False)\n",
    "\n",
    "cbar = fig.colorbar(im, ax=axes) \n",
    "\n",
    "cbar.set_label('Homologous Temperature [$^\\circ$C]', \n",
    "               rotation=270, labelpad=10)\n",
    "\n",
    "axes[0,0].set_xlim(None, 6e3)\n",
    "axes[0,0].set_ylim(1.75e3, None)\n",
    "\n",
    "# plt.subplots_adjust(wspace=0.1, hspace=0.1)\n",
    "\n",
    "# fig.savefig('/Users/andrewnolan/Desktop/glaciers.png', dpi=400, bbox_inches='tight', facecolor='w')"
   ]
  },
  {
   "cell_type": "code",
   "execution_count": null,
   "metadata": {},
   "outputs": [],
   "source": [
    "SS_2kya['Vol'].sel(T_ma=-9.0, Delta_MB = -1.225)"
   ]
  },
  {
   "cell_type": "code",
   "execution_count": null,
   "metadata": {},
   "outputs": [],
   "source": []
  }
 ],
 "metadata": {
  "kernelspec": {
   "display_name": "Python 3 (ipykernel)",
   "language": "python",
   "name": "python3"
  },
  "language_info": {
   "codemirror_mode": {
    "name": "ipython",
    "version": 3
   },
   "file_extension": ".py",
   "mimetype": "text/x-python",
   "name": "python",
   "nbconvert_exporter": "python",
   "pygments_lexer": "ipython3",
   "version": "3.7.12"
  }
 },
 "nbformat": 4,
 "nbformat_minor": 4
}
