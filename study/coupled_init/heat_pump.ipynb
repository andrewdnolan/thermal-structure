{
 "cells": [
  {
   "cell_type": "code",
   "execution_count": null,
   "metadata": {},
   "outputs": [],
   "source": [
    "import sys\n",
    "import numpy as np\n",
    "import xarray as xr\n",
    "import seaborn as sns\n",
    "import scipy.special as sp\n",
    "from scipy import interpolate\n",
    "import matplotlib.pyplot as plt\n",
    "from SALib.analyze import sobol\n",
    "from SALib.sample import saltelli\n",
    "from scipy.stats import distributions as dists \n",
    "\n",
    "sys.path.append('../../src/thermal')\n",
    "\n",
    "from utils import *\n",
    "import open as nc_open"
   ]
  },
  {
   "cell_type": "code",
   "execution_count": null,
   "metadata": {},
   "outputs": [],
   "source": [
    "# file paths to input data\n",
    "t_fp  = '../../input_data/mass_balance/KMR_MB_k_2_s_2500_knots.dat'\n",
    "c_fp  = '../../input_data/mass_balance/KMR_MB_k_2_s_2500_coefs.dat'\n",
    "zs_fp = '../../input_data/topography/glc1-a_surf.dat'"
   ]
  },
  {
   "cell_type": "code",
   "execution_count": null,
   "metadata": {
    "jp-MarkdownHeadingCollapsed": true,
    "tags": []
   },
   "outputs": [],
   "source": [
    "δb = -1.000\n",
    "\n",
    "z  = np.loadtxt(zs_fp)[:,1]\n",
    "t  = np.loadtxt(t_fp)\n",
    "c  = np.loadtxt(c_fp)\n",
    "mb = interpolate.splev(z, (t,c,2)) + δb\n",
    "\n",
    "# initalise the classes with default parameter values\n",
    "AirTemp  = surface_AirTemp()\n",
    "HeatPump = heat_pump(r_frac = 0.3, \n",
    "                     f_dd   = 0.003,\n",
    "                     h_aq   = 3.0\n",
    "                     )\n",
    "\n",
    "\n",
    "xarrays = []\n",
    "\n",
    "for T_ma in np.linspace(-9.02, -4.0): \n",
    "    AirTemp  = surface_AirTemp()\n",
    "    ds = HeatPump(z, mb, AirTemp, airtemp_kwarg=dict(T_mean=T_ma, T_σ=[0.0]))\n",
    "    ds = ds.expand_dims(\"T_ma\").assign_coords(T_ma=(\"T_ma\", [T_ma]))\n",
    "    xarrays.append(ds)\n",
    "    \n",
    "result = xr.concat(xarrays, 'T_ma')"
   ]
  },
  {
   "cell_type": "code",
   "execution_count": null,
   "metadata": {},
   "outputs": [],
   "source": [
    "fig, ax = plt.subplots(figsize=(10,5))\n",
    "\n",
    "im = ax.pcolormesh(result.T_ma, \n",
    "                   result.z, \n",
    "                   result['Water_Cont.'].isel(time=-1).T, \n",
    "                   shading='gouraud')\n",
    "\n",
    "fig.colorbar(im, label='Water Content [-]')\n",
    "\n",
    "ax.set_ylabel('Elevation [m a.s.l.]')\n",
    "ax.set_xlabel(r'$\\bar{T}$ at $z_{\\rm ref}$ [m a.s.l.]')\n",
    "\n",
    "# fig.savefig('./figs/heatpump.png', bbox_inches='tight', facecolor='w', dpi=300)"
   ]
  },
  {
   "cell_type": "code",
   "execution_count": null,
   "metadata": {},
   "outputs": [],
   "source": [
    "NT     = 11\n",
    "dt_y   = 0.1\n",
    "dt_doy = int(dt_y * 365)\n",
    "\n",
    "fig, ax = plt.subplots(figsize=(10,5))\n",
    "\n",
    "cmap  = plt.cm.plasma\n",
    "s_map = plt.cm.ScalarMappable(cmap=cmap)\n",
    "\n",
    "xarrays = [] \n",
    "\n",
    "for doy_i in np.linspace(0,365-dt_doy, NT, dtype=int):\n",
    "    \n",
    "    ds = HeatPump(z, mb, AirTemp, doy_i=doy_i, dt=dt_doy, airtemp_kwarg=dict(T_mean=-6.02))\n",
    "        \n",
    "    xarrays.append(ds)    \n",
    "\n",
    "result = xr.concat(xarrays, 'time') \n",
    "\n",
    "\n",
    "im = ax.pcolormesh(result.time, \n",
    "                   result.z, \n",
    "                   result['Enthalpy'].T/1e3, \n",
    "                   vmax=170,\n",
    "                   clim=(None, 170),\n",
    "                   shading='gouraud')\n",
    "\n",
    "fig.colorbar(im)\n"
   ]
  },
  {
   "cell_type": "code",
   "execution_count": null,
   "metadata": {},
   "outputs": [],
   "source": [
    "for t in result.time: \n",
    "    \n",
    "    plt.plot(result.z, result['Enthalpy'].sel(time=t))"
   ]
  },
  {
   "cell_type": "markdown",
   "metadata": {},
   "source": [
    "## Sobol Sensitivities "
   ]
  },
  {
   "cell_type": "code",
   "execution_count": null,
   "metadata": {},
   "outputs": [],
   "source": [
    "distributions = {\n",
    "     'h_aq'  : dists.uniform(loc=1, scale=10), \n",
    "     'f_dd'  : dists.truncnorm(a=-4.15/1.5, b=10, loc=4.1, scale=1.5), \n",
    "     'r_frac': dists.gamma(   a=2.5, scale=0.1), \n",
    "     'T_ma'  : dists.uniform(loc=-9, scale=5)\n",
    "    }\n",
    "\n",
    "units = {\n",
    "     'h_aq'  : '[m]',\n",
    "     'f_dd'  : '[mm K$^{-1}$ d$^{-1}$]',\n",
    "     'r_frac': '[-]', \n",
    "     'T_ma'  : '[C]'\n",
    "    }\n",
    "\n",
    "problem = {\n",
    "    'num_vars' : len(distributions), \n",
    "    'names'    : distributions.keys(), \n",
    "    'bounds'   : [[0,1]] * len(distributions)\n",
    "}\n",
    "\n",
    "n_samples = 3000"
   ]
  },
  {
   "cell_type": "code",
   "execution_count": null,
   "metadata": {},
   "outputs": [],
   "source": [
    "# Generate uniform samples \n",
    "unif_samples = saltelli.sample(problem, n_samples, seed=12345678)\n",
    "\n",
    "# Empty array to hold transformed variables \n",
    "dist_samples = np.zeros_like(unif_samples)\n",
    "\n",
    "# For each variable, transform with the inverse of the CDF (inv(CDF)=ppf)\n",
    "for i, key in enumerate(distributions): \n",
    "    dist_samples[:,i] = distributions[key].ppf(unif_samples[:,i])"
   ]
  },
  {
   "cell_type": "code",
   "execution_count": null,
   "metadata": {},
   "outputs": [],
   "source": [
    "δb = -1.000\n",
    "\n",
    "z  = np.linspace(2e3,3e3,1001)\n",
    "t  = np.loadtxt(t_fp)\n",
    "c  = np.loadtxt(c_fp)\n",
    "mb = interpolate.splev(z, (t,c,2)) + δb\n",
    "\n",
    "result = np.empty((n_samples, 1001))\n",
    "\n",
    "for sample in np.arange(n_samples): \n",
    "    \n",
    "    h_aq, f_dd, r_frac, T_ma = dist_samples[sample]\n",
    "    \n",
    "    \n",
    "    # initalise the classes with default parameter values\n",
    "    AirTemp  = surface_AirTemp(T_mean=T_ma)\n",
    "    \n",
    "    HeatPump = heat_pump(r_frac = r_frac, \n",
    "                         f_dd   = f_dd/1e3,\n",
    "                         h_aq   = h_aq, \n",
    "                         w_max_aq=0.1)\n",
    "        \n",
    "    ds = HeatPump(z, mb, AirTemp)\n",
    "    \n",
    "    result[sample] = ds['Enthalpy'].isel(time=-1)"
   ]
  },
  {
   "cell_type": "code",
   "execution_count": null,
   "metadata": {},
   "outputs": [],
   "source": [
    "sobol_indices = [sobol.analyze(problem, Y, seed=12345678) for Y in result.T]"
   ]
  },
  {
   "cell_type": "code",
   "execution_count": null,
   "metadata": {},
   "outputs": [],
   "source": [
    "S1s = np.array([s['S1'] for s in sobol_indices])\n",
    "STs = np.array([s['ST'] for s in sobol_indices])"
   ]
  },
  {
   "cell_type": "code",
   "execution_count": null,
   "metadata": {},
   "outputs": [],
   "source": [
    "fig, ax = plt.subplots(figsize=(10,5))\n",
    "\n",
    "for i, key in enumerate(distributions): \n",
    "    plt.plot(z, STs[:,i], label=key, alpha=0.5)\n",
    "    \n",
    "plt.legend()"
   ]
  },
  {
   "cell_type": "code",
   "execution_count": null,
   "metadata": {},
   "outputs": [],
   "source": [
    "fig, ax = plt.subplots(len(distributions), 1,\n",
    "                       figsize=(5,8),\n",
    "                       constrained_layout=True)\n",
    "\n",
    "for i, key in enumerate(distributions): \n",
    "    sns.histplot(dist_samples[:,i], ax=ax[i], stat='density')\n",
    "    sns.kdeplot(dist_samples[:,i], color='k', ax=ax[i])\n",
    "    \n",
    "    \n",
    "    ax[i].set_title(key)\n",
    "    ax[i].set_xlabel(units[key])\n",
    "    "
   ]
  },
  {
   "cell_type": "code",
   "execution_count": null,
   "metadata": {},
   "outputs": [],
   "source": [
    "plt.plot(z, result.mean(0))\n",
    "plt.fill_between(z, \n",
    "                 np.percentile(result, 50-95/2., axis=0), \n",
    "                 np.percentile(result, 50+95/2., axis=0), \n",
    "                 alpha=0.5)"
   ]
  },
  {
   "cell_type": "markdown",
   "metadata": {},
   "source": [
    "## Archived "
   ]
  },
  {
   "cell_type": "code",
   "execution_count": null,
   "metadata": {},
   "outputs": [],
   "source": [
    "# prog_fp = 'glc1-a/nc/glc1-a_dx_50_NT_11_dt_0.1_MB_-1.000_OFF_Tma_-7.02_limit_surf_Cfirn_0.05_prog.nc'\n",
    "# prog_ds = nc_open.dataset(prog_fp)\n",
    "\n",
    "# fig, ax = plt.subplots(figsize=(8,3))\n",
    "\n",
    "\n",
    "\n",
    "# im = ax.pcolormesh(prog_ds.t*365, \n",
    "#                    prog_ds.Z.isel(coord_2=-1, t=-1), \n",
    "#                    prog_ds['surface_enthalpy'].isel(coord_2=-1).T/1e3, \n",
    "#                    vmax=170,\n",
    "#                    clim=(None, 170),\n",
    "#                    shading='auto')\n",
    "\n",
    "# fig.colorbar(im)\n"
   ]
  },
  {
   "cell_type": "code",
   "execution_count": null,
   "metadata": {},
   "outputs": [],
   "source": [
    "result.time"
   ]
  },
  {
   "cell_type": "code",
   "execution_count": null,
   "metadata": {},
   "outputs": [],
   "source": [
    "diag_fp = 'glc1-a/nc/glc1-a_dx_50_MB_-1.000_OFF_Tma_-7.02_limit_surf_Cfirn_0.05_diag.nc'\n",
    "\n",
    "with xr.open_dataset(diag_fp) as diag_ds: \n",
    "    diag_ds[\"height\"] = xr.where(diag_ds.height <= 10, 0, diag_ds.height)\n",
    "    diag_ds[\"Z\"]      = diag_ds.zbed + diag_ds.Z * diag_ds.height \n",
    "    diag_ds['vel_m']  = np.sqrt(diag_ds['velocity 1']**2 + diag_ds['velocity 2']**2)\n"
   ]
  },
  {
   "cell_type": "code",
   "execution_count": null,
   "metadata": {},
   "outputs": [],
   "source": [
    "fig, ax = plt.subplots() \n",
    "\n",
    "ax.pcolormesh(diag_ds.X, \n",
    "              diag_ds.Z.isel(t=-1), \n",
    "              diag_ds['temperature'].isel(t=-1), \n",
    "              shading='gouraud')"
   ]
  },
  {
   "cell_type": "code",
   "execution_count": null,
   "metadata": {},
   "outputs": [],
   "source": [
    "depth = np.linspace(0,100)\n",
    "\n",
    "ρ_i = 910. \n",
    "ρ_s = 350. \n",
    "z_t = 50 \n",
    "z_p = z_t / 1.9\n",
    "fig, ax = plt.subplots()\n",
    "\n",
    "ax.plot(ρ_i - (ρ_i - ρ_s)*np.exp(-depth/z_p), depth)\n",
    "\n",
    "ax.axhline(z_t, c='k', ls=':', lw=0.5)\n",
    "ax.axvline(830, c='k', ls=':', lw=0.5)\n",
    "ax.invert_yaxis()"
   ]
  },
  {
   "cell_type": "markdown",
   "metadata": {},
   "source": [
    "Read the diagnostic file: "
   ]
  },
  {
   "cell_type": "code",
   "execution_count": null,
   "metadata": {},
   "outputs": [],
   "source": [
    "diag_fp = 'glc1-a/nc/glc1-a_dx_50_MB_-1.5_OFF_limit_surf_Cfirn_0.5_diag.nc'\n",
    "diag_fp = 'glc1-a/nc/test_diag.nc'\n",
    "\n",
    "with xr.open_dataset(diag_fp) as diag_ds: \n",
    "    diag_ds[\"height\"] = xr.where(diag_ds.height <= 10, 0, diag_ds.height)\n",
    "    diag_ds[\"Z\"]      = diag_ds.zbed + diag_ds.Z * diag_ds.height \n",
    "    diag_ds['vel_m']  = np.sqrt(diag_ds['velocity 1']**2 + diag_ds['velocity 2']**2)"
   ]
  },
  {
   "cell_type": "markdown",
   "metadata": {},
   "source": [
    "Read the prognostic file: "
   ]
  },
  {
   "cell_type": "code",
   "execution_count": null,
   "metadata": {},
   "outputs": [],
   "source": [
    "prog_fp = 'glc1-a/nc/glc1-a_dx_50_NT_1000_dt_0.1_MB_-1.000_OFF_Tma_-7.02_limit_surf_Cfirn_0.05_prog.nc'\n",
    "prog_ds = nc_open.dataset(prog_fp)"
   ]
  },
  {
   "cell_type": "code",
   "execution_count": null,
   "metadata": {},
   "outputs": [],
   "source": [
    "for t in np.arange(0,10): \n",
    "    \n",
    "    subset = prog_ds.isel(coord_2=-1, t=t)\n",
    "    \n",
    "    plt.plot(subset.zs, subset['surface_enthalpy'])"
   ]
  },
  {
   "cell_type": "code",
   "execution_count": null,
   "metadata": {},
   "outputs": [],
   "source": [
    "prog_ds.t"
   ]
  },
  {
   "cell_type": "code",
   "execution_count": null,
   "metadata": {
    "tags": []
   },
   "outputs": [],
   "source": [
    "plt.plot(prog_ds.Z.isel(coord_2=-1, t=0), prog_ds.surface_enthalpy.isel(coord_2=-1, t=slice(0,10)).mean('t'))\n",
    "\n",
    "\n",
    "# plt.plot(prog_ds.Z.isel(coord_2=-1, t=0), prog_ds.surface_enthalpy.isel(coord_2=-1, t=5))\n",
    "\n",
    "# plt.plot(prog_ds.Z.isel(coord_2=-1, t=0), prog_ds.surface_enthalpy.isel(coord_2=-1, t=6))\n",
    "\n",
    "# plt.plot(prog_doyi.Z.isel(coord_2=-1, t=0), prog_doyi.surface_enthalpy.isel(coord_2=-1, t=5))\n",
    "\n",
    "# plt.plot(prog_doyi.Z.isel(coord_2=-1, t=0), prog_doyi.surface_enthalpy.isel(coord_2=-1, t=6))\n",
    "\n",
    "# plt.plot(prog_ds.Z.isel(coord_2=-1, t=0), prog_ds.surface_enthalpy.isel(coord_2=-1, t=5))\n",
    "\n",
    "plt.plot(diag_ds.Z.isel(coord_2=-1, t=-1), diag_ds.surface_enthalpy.isel(coord_2=-1, t=-1))"
   ]
  },
  {
   "cell_type": "code",
   "execution_count": null,
   "metadata": {},
   "outputs": [],
   "source": [
    "plt.pcolormesh(diag_ds.X, \n",
    "               diag_ds.Z.isel(t=-1), \n",
    "               diag_ds.temperature.isel(t=-1), \n",
    "               shading='gouraud')"
   ]
  },
  {
   "cell_type": "code",
   "execution_count": null,
   "metadata": {},
   "outputs": [],
   "source": [
    "dists.uniform(loc=0, scale=1).ppf(2)"
   ]
  },
  {
   "cell_type": "code",
   "execution_count": null,
   "metadata": {},
   "outputs": [],
   "source": [
    "x = np.linspace(0, 15, 1000)\n",
    "plt.plot(x, dists.uniform.pdf(x, loc=1, scale=10))"
   ]
  },
  {
   "cell_type": "code",
   "execution_count": null,
   "metadata": {},
   "outputs": [],
   "source": [
    "x = np.linspace(-1, 8, 1000)\n",
    "plt.plot(x, dists.truncnorm.pdf(x, a=-4.15/1.5, b=10, loc=4.1, scale=1.5))"
   ]
  },
  {
   "cell_type": "code",
   "execution_count": null,
   "metadata": {},
   "outputs": [],
   "source": [
    "x = np.linspace(-0.1, 1.1, 100)\n",
    "plt.plot(x, dists.gamma.pdf(x, a=2.5, scale=0.1))"
   ]
  },
  {
   "cell_type": "code",
   "execution_count": null,
   "metadata": {},
   "outputs": [],
   "source": [
    "x = np.linspace(-10, -2, 1000)\n",
    "plt.plot(x, dists.uniform.pdf(x, loc=-9, scale=5))"
   ]
  },
  {
   "cell_type": "code",
   "execution_count": null,
   "metadata": {},
   "outputs": [],
   "source": [
    "def erf(x): \n",
    "    \n",
    "    def tau(x): \n",
    "        t = 1 / (1 + 0.5 * np.abs(x))\n",
    "        \n",
    "        return t * np.exp(-x**2             \\\n",
    "                          - 1.26551223      \\\n",
    "                          + 1.00002368*t    \\\n",
    "                          + 0.37409196*t**2 \\\n",
    "                          + 0.09678418*t**3 \\\n",
    "                          - 0.18628806*t**4 \\\n",
    "                          + 0.27886807*t**5 \\\n",
    "                          - 1.13520398*t**6 \\\n",
    "                          + 1.48851587*t**7 \\\n",
    "                          - 0.82215223*t**8 \\\n",
    "                          + 0.17087277*t**9 )\n",
    "                          \n",
    "    return np.where(x >= 0, 1 - tau(x), tau(x) - 1)\n",
    "    \n",
    "def erfc(x): \n",
    "    return 1 - erf(x)"
   ]
  },
  {
   "cell_type": "code",
   "execution_count": null,
   "metadata": {},
   "outputs": [],
   "source": [
    "x = np.linspace(0,3,1000)"
   ]
  },
  {
   "cell_type": "code",
   "execution_count": null,
   "metadata": {},
   "outputs": [],
   "source": [
    "plt.plot(x, erfc(x))\n",
    "plt.plot(x, sp.erfc(x))"
   ]
  },
  {
   "cell_type": "code",
   "execution_count": null,
   "metadata": {},
   "outputs": [],
   "source": []
  }
 ],
 "metadata": {
  "kernelspec": {
   "display_name": "Python 3 (ipykernel)",
   "language": "python",
   "name": "python3"
  },
  "language_info": {
   "codemirror_mode": {
    "name": "ipython",
    "version": 3
   },
   "file_extension": ".py",
   "mimetype": "text/x-python",
   "name": "python",
   "nbconvert_exporter": "python",
   "pygments_lexer": "ipython3",
   "version": "3.7.12"
  },
  "latex_envs": {
   "LaTeX_envs_menu_present": true,
   "autoclose": true,
   "autocomplete": true,
   "bibliofile": "ipython.bib",
   "cite_by": "apalike",
   "current_citInitial": 1,
   "eqLabelWithNumbers": true,
   "eqNumInitial": 1,
   "hotkeys": {
    "equation": "Ctrl-E",
    "itemize": "Ctrl-I"
   },
   "labels_anchors": false,
   "latex_user_defs": false,
   "report_style_numbering": false,
   "user_envs_cfg": false
  }
 },
 "nbformat": 4,
 "nbformat_minor": 4
}
