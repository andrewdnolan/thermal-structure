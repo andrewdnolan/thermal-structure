{
 "cells": [
  {
   "cell_type": "markdown",
   "metadata": {
    "slideshow": {
     "slide_type": "slide"
    },
    "tags": []
   },
   "source": [
    "## Positive Degree Days\n",
    "\n",
    "[Calov and Greeve (2005)](https://www.cambridge.org/core/journals/journal-of-glaciology/article/semianalytical-solution-for-the-positive-degreeday-model-with-stochastic-temperature-variations/6FD568E1D92AA7B21C25E34B012790E1): \n",
    "$$\n",
    "PDD = \\int\\limits_{0}^{A} \\left[ \n",
    "\\frac{\\sigma}{\\sqrt{2\\pi}} \n",
    "\\exp \\left(  -\\frac{T_{\\rm ac}(t)^2}{2\\sigma^2}\\right) \n",
    "+ \\frac{T_{\\rm ac}(t)}{2}  \\rm{erfc}  \\left( -\\frac{T_{\\rm ac}(t)}{\\sqrt{2}\\sigma} \\right)\n",
    " \\right] \\rm{d} t\n",
    "$$"
   ]
  },
  {
   "cell_type": "code",
   "execution_count": null,
   "metadata": {
    "slideshow": {
     "slide_type": "skip"
    }
   },
   "outputs": [],
   "source": [
    "import sys\n",
    "import numpy as np \n",
    "import scipy.special as sp\n",
    "import matplotlib.pyplot as plt \n",
    "\n",
    "sys.path.append('../../src/thermal')\n",
    "\n",
    "from utils import * \n",
    "\n",
    "def classic_PDDs(T, T_m=0.0): \n",
    "    return np.greater(T, T_m) * T\n",
    "\n",
    "def clavo_greev_PDDs(T, σ=0.0): \n",
    "    import scipy.special as sp\n",
    "\n",
    "    with np.errstate(divide='ignore', invalid='ignore'):\n",
    "        T_norm = T / (np.sqrt(2)*σ) \n",
    "        \n",
    "    clavo_greev = σ / np.sqrt(2*np.pi) * np.exp(-T_norm**2) + T/2*sp.erfc(-T_norm)\n",
    "    \n",
    "    return clavo_greev"
   ]
  },
  {
   "cell_type": "code",
   "execution_count": null,
   "metadata": {
    "slideshow": {
     "slide_type": "skip"
    }
   },
   "outputs": [],
   "source": [
    "# default air temperature parameters from KMR data\n",
    "temp_params = dict(α       = 10.8, \n",
    "                   dTdz    = 6.5E-3, \n",
    "                   z_ref   = 2193.0, \n",
    "                   T_mean  = -6.02, \n",
    "                   T_peak  = 196, \n",
    "                   T_σ     = ( 8.29376332e-05, -3.45256005e-02, 6.31076200e+00))\n",
    "\n",
    "# initialize the AirTemp class with the default parameters\n",
    "AirTemp  = surface_AirTemp(**temp_params)"
   ]
  },
  {
   "cell_type": "code",
   "execution_count": null,
   "metadata": {
    "slideshow": {
     "slide_type": "skip"
    }
   },
   "outputs": [],
   "source": [
    "doy  = np.arange(0,365)\n",
    "Z    = np.linspace(2000,3000)\n",
    "std  = np.polyval(temp_params['T_σ'], doy)[:,None]\n",
    "\n",
    "# temp = AirTemp(Z, T_σ=0.0)\n",
    "temp = AirTemp(Z)"
   ]
  },
  {
   "cell_type": "code",
   "execution_count": null,
   "metadata": {
    "slideshow": {
     "slide_type": "slide"
    }
   },
   "outputs": [],
   "source": [
    "fig, ax = plt.subplots(figsize=(10,5))\n",
    "\n",
    "ax.plot(Z, classic_PDDs(temp).sum(0), \n",
    "       label='Classic PDDs')\n",
    "\n",
    "ax.plot(Z, clavo_greev_PDDs(temp, σ=0.0).sum(0), \n",
    "       label=r'Calvo and Greeve w/ $\\sigma=0$', \n",
    "       ls = ':')\n",
    "\n",
    "ax.plot(Z, clavo_greev_PDDs(temp, σ=std).sum(0), \n",
    "       label=r'Calvo and Greeve w/ $\\sigma(d)$')\n",
    "\n",
    "ax.legend()"
   ]
  },
  {
   "cell_type": "code",
   "execution_count": null,
   "metadata": {
    "slideshow": {
     "slide_type": "subslide"
    }
   },
   "outputs": [],
   "source": [
    "fig, ax = plt.subplots(figsize=(10,5))\n",
    "\n",
    "ax.plot(doy, classic_PDDs(temp).sum(1), \n",
    "       label='Classic PDDs')\n",
    "ax.plot(doy, clavo_greev_PDDs(temp, σ=0.0).sum(1), \n",
    "       label=r'Calvo and Greeve w/ $\\sigma=0$', \n",
    "       ls = ':')\n",
    "ax.plot(doy, clavo_greev_PDDs(temp, σ=std).sum(1), \n",
    "       label=r'Calvo and Greeve w/ $\\sigma(d)$', \n",
    "       zorder=0)\n",
    "\n",
    "ax.legend(fontsize='x-small')\n",
    "\n",
    "\n",
    "ax2 = ax.twinx()\n",
    "\n",
    "ax2.plot(doy, temp.mean(1), \n",
    "         label='$T(d)$', c='k', lw=0.5)\n",
    "\n",
    "ax2.axhline(0.0, ls=':', c='k', lw=0.5)\n",
    "\n",
    "ax2.legend(loc=2)\n",
    "\n",
    "\n",
    "\n",
    "ax.set_xlabel('Day of Year')\n",
    "ax.set_ylabel('Positive Degree Days [$^\\circ$C d]')\n",
    "ax2.set_ylabel('Mean Air Temperature [$^\\circ$ C]')"
   ]
  },
  {
   "cell_type": "code",
   "execution_count": null,
   "metadata": {},
   "outputs": [],
   "source": [
    "print(classic_PDDs(temp).sum())\n",
    "print(clavo_greev_PDDs(temp).sum())\n",
    "print(clavo_greev_PDDs(temp, σ=std).sum())"
   ]
  },
  {
   "cell_type": "markdown",
   "metadata": {},
   "source": []
  },
  {
   "cell_type": "code",
   "execution_count": null,
   "metadata": {},
   "outputs": [],
   "source": [
    "doy  = np.arange(0,365)\n",
    "Z    = np.linspace(2000,3000)\n",
    "std  = np.polyval(temp_params['T_σ'], doy)[:,None]\n",
    "\n",
    "# initialize the AirTemp class with the default parameters\n",
    "AirTemp  = surface_AirTemp(**temp_params)\n",
    "temp = AirTemp(Z, T_σ=0.0)"
   ]
  },
  {
   "cell_type": "code",
   "execution_count": null,
   "metadata": {},
   "outputs": [],
   "source": [
    "fig, ax = plt.subplots(figsize=(10,5))\n",
    "\n",
    "ax.plot(doy, classic_PDDs(temp).sum(1), \n",
    "       label='Classic PDDs')\n",
    "ax.plot(doy, clavo_greev_PDDs(temp, σ=0.0).sum(1), \n",
    "       label=r'Calvo and Greeve w/ $\\sigma=0$', \n",
    "       ls = ':')\n",
    "ax.plot(doy, clavo_greev_PDDs(temp, σ=std).sum(1), \n",
    "       label=r'Calvo and Greeve w/ $\\sigma(d)$', \n",
    "       zorder=0)\n",
    "\n",
    "ax.legend( facecolor='w')\n",
    "\n",
    "\n",
    "ax2 = ax.twinx()\n",
    "\n",
    "ax2.plot(doy, temp.mean(1), \n",
    "         label='$T(d)$', c='k', lw=0.5)\n",
    "\n",
    "ax2.axhline(0.0, ls=':', c='k', lw=0.5)\n",
    "\n",
    "ax2.legend(loc=2)\n",
    "\n",
    "\n",
    "\n",
    "ax.set_xlabel('Day of Year')\n",
    "ax.set_ylabel('Positive Degree Days [$^\\circ$C d]')\n",
    "ax2.set_ylabel('Mean Air Temperature [$^\\circ$ C]')"
   ]
  },
  {
   "cell_type": "code",
   "execution_count": null,
   "metadata": {},
   "outputs": [],
   "source": [
    "print(classic_PDDs(temp).sum())\n",
    "print(clavo_greev_PDDs(temp).sum())\n",
    "print(clavo_greev_PDDs(temp, σ=std).sum())"
   ]
  },
  {
   "cell_type": "code",
   "execution_count": null,
   "metadata": {},
   "outputs": [],
   "source": [
    "def clavo_greev_PDDs(T, σ=0.0): \n",
    "    import scipy.special as sp\n",
    "\n",
    "    with np.errstate(divide='ignore', invalid='ignore'):\n",
    "        T_norm = T / (np.sqrt(2)*σ) \n",
    "        \n",
    "    # clavo_greev = σ / np.sqrt(2*np.pi) * np.exp(-T_norm**2) + T/2*sp.erfc(-T_norm)\n",
    "    clavo_greev = T_norm\n",
    "    return clavo_greev"
   ]
  },
  {
   "cell_type": "markdown",
   "metadata": {},
   "source": [
    "### KMR 3-Hour Model Data"
   ]
  },
  {
   "cell_type": "code",
   "execution_count": null,
   "metadata": {},
   "outputs": [],
   "source": [
    "dat = np.load('/Users/andrewnolan/Desktop/annual_3hourly_T.npy')"
   ]
  },
  {
   "cell_type": "code",
   "execution_count": null,
   "metadata": {},
   "outputs": [],
   "source": [
    "plt.plot(np.greater(dat.mean(0),0) * dat.mean(0) * 3/24)"
   ]
  },
  {
   "cell_type": "code",
   "execution_count": null,
   "metadata": {},
   "outputs": [],
   "source": [
    "np.datetime_data"
   ]
  },
  {
   "cell_type": "code",
   "execution_count": null,
   "metadata": {},
   "outputs": [],
   "source": [
    "dt_3h = np.dtype('timedelta64[3h]')\n",
    "\n",
    "np.array(np.arange(dat.shape[1]),  dtype=dt_3h)"
   ]
  },
  {
   "cell_type": "code",
   "execution_count": null,
   "metadata": {},
   "outputs": [],
   "source": [
    "dat.shape[1]"
   ]
  },
  {
   "cell_type": "code",
   "execution_count": null,
   "metadata": {},
   "outputs": [],
   "source": []
  }
 ],
 "metadata": {
  "celltoolbar": "Slideshow",
  "kernelspec": {
   "display_name": "Python 3 (ipykernel)",
   "language": "python",
   "name": "python3"
  },
  "language_info": {
   "codemirror_mode": {
    "name": "ipython",
    "version": 3
   },
   "file_extension": ".py",
   "mimetype": "text/x-python",
   "name": "python",
   "nbconvert_exporter": "python",
   "pygments_lexer": "ipython3",
   "version": "3.7.12"
  },
  "latex_envs": {
   "LaTeX_envs_menu_present": true,
   "autoclose": true,
   "autocomplete": true,
   "bibliofile": "ipython.bib",
   "cite_by": "apalike",
   "current_citInitial": 1,
   "eqLabelWithNumbers": true,
   "eqNumInitial": 1,
   "hotkeys": {
    "equation": "Ctrl-E",
    "itemize": "Ctrl-I"
   },
   "labels_anchors": false,
   "latex_user_defs": false,
   "report_style_numbering": false,
   "user_envs_cfg": false
  }
 },
 "nbformat": 4,
 "nbformat_minor": 4
}
