{
 "cells": [
  {
   "cell_type": "code",
   "execution_count": null,
   "id": "c332cb3e-6f88-4883-ac14-5bfee4073dbe",
   "metadata": {},
   "outputs": [],
   "source": [
    "import numpy as np \n",
    "import xarray as xr\n",
    "import pandas as pd\n",
    "from datetime import datetime\n",
    "import matplotlib.pyplot as plt \n",
    "from matplotlib.animation import FuncAnimation\n",
    "\n",
    "plt.rcParams['animation.html'] = 'jshtml'\n",
    "\n",
    "\n",
    "def calc_perc_temp(src): \n",
    "    # number of valid nodes above minimum ice-thickness\n",
    "    # NN = src.height.where(src.height < 10).count(dim=('nMesh_node'))#.count(dim=('coord_1', 'coord_2'))\n",
    "    NN = src.height.where(src.height > 10).count(dim=('coord_1', 'coord_2'))\n",
    "\n",
    "    # mask for determining where nodes are temperate \n",
    "    mask = (src['enthalpy_h'] > src['phase change enthalpy']) & (src.height > 10)\n",
    "    # number of nodes where ethalpy exceeds phase chnage enthalpy\n",
    "    NT = src.enthalpy_h.where(mask).count(dim=('coord_1', 'coord_2'))\n",
    "    return NT/NN * 100\n",
    "\n",
    "\n",
    "\n",
    "def load_runs(fp): \n",
    "    arrays = []\n",
    "\n",
    "    for dt in [1.0, 0.5, 0.25, 0.1]: \n",
    "        # open both the heat source datasets for the given timesteps\n",
    "        src = xr.open_mfdataset(fp.format(dt))\n",
    "        # a little basic prepocessing \n",
    "        src = src.isel(Delta_MB=0, T_ma=0)\n",
    "        src = src.rename({\"t\":\"time\"})\n",
    "\n",
    "        if 1/src.dt != 1: \n",
    "            src = src.coarsen(time=10,boundary='trim').mean()\n",
    "            src['time'] = np.floor(src.time)\n",
    "\n",
    "        src['time'] = src.time * 365\n",
    "        src.time.attrs = {\"units\": \"days since 0001-01-01\"}    \n",
    "        # Decode the timestamp \n",
    "        src = xr.decode_cf(src, use_cftime=True)\n",
    "        # Take the annual averages \n",
    "        src = src.groupby('time.year').mean()\n",
    "    \n",
    "        arrays.append(src)\n",
    "    \n",
    "    return arrays"
   ]
  },
  {
   "cell_type": "code",
   "execution_count": null,
   "id": "523a36ea-2a27-457a-993b-ae82a0cdfca7",
   "metadata": {
    "tags": []
   },
   "outputs": [],
   "source": [
    "fp = 'glc1-a/nc/glc1-a_dx_50_NT_*_dt_{}_volumetric_prog_gridded.nc'\n",
    "season_vol = load_runs(fp) "
   ]
  },
  {
   "cell_type": "code",
   "execution_count": null,
   "id": "0b0deb80-ceaa-42e8-b720-0e3bcc426404",
   "metadata": {},
   "outputs": [],
   "source": [
    "test = season_vol[0].height.isel(coord_2 = -1).integrate('coord_1') /\\\n",
    "       season_vol[0].height.isel(coord_2 = -1, year= 0).integrate('coord_1') "
   ]
  },
  {
   "cell_type": "code",
   "execution_count": null,
   "id": "912dfae5-0cc2-4dd8-aa96-2f15cc0c7210",
   "metadata": {},
   "outputs": [],
   "source": [
    "test.plot(x=\"year\")"
   ]
  },
  {
   "cell_type": "code",
   "execution_count": null,
   "id": "203d78a9-72b7-4218-97aa-75a41304d13b",
   "metadata": {},
   "outputs": [],
   "source": [
    "fig, ax = plt.subplots()\n",
    "\n",
    "for i, dt  in enumerate([1.0, 0.5, 0.25, 0.1]): \n",
    "        \n",
    "    (season_vol[i].enthalpy_h.mean(('coord_2', 'coord_1'))/1e3).plot(x=\"year\", marker='x', \n",
    "                                                                     ax=ax, label=f'dt={dt}')\n",
    "\n",
    "plt.legend();\n",
    "ax.set_title('Seasonality, Volumetric Heat Souce [J m$^{-3}$ a$^{-1}$]')\n",
    "ax.set_ylabel('Mean Enthalpy [kJ kg$^{-1}$]');\n",
    "\n",
    "ax.set_ylim(115, 130)\n",
    "\n",
    "\n",
    "fig.savefig('figs/mean_Enth_Season_Vol.png', \n",
    "            dpi=300, bbox_inches='tight', facecolor='w')"
   ]
  },
  {
   "cell_type": "code",
   "execution_count": null,
   "id": "fbebf9bd-33a1-4cfb-912a-0bf300c8fa0b",
   "metadata": {},
   "outputs": [],
   "source": [
    "fp = 'glc1-a/nc/noSeasonality/glc1-a_dx_50_NT_*_dt_{}_volumetric_prog_gridded.nc'\n",
    "\n",
    "noseason_vol = load_runs(fp) "
   ]
  },
  {
   "cell_type": "code",
   "execution_count": null,
   "id": "c2f9811f-af3b-4529-86c8-44aa6f45e63a",
   "metadata": {},
   "outputs": [],
   "source": [
    "fig, ax = plt.subplots()\n",
    "\n",
    "for i, dt  in enumerate([1.0, 0.5, 0.25, 0.1]): \n",
    "    \n",
    "    (noseason_vol[i].enthalpy_h.mean(('coord_2', 'coord_1'))/1e3).plot(x=\"year\", marker='x', ax=ax, label=f'dt={dt}')\n",
    "\n",
    "plt.legend()\n",
    "\n",
    "\n",
    "ax.set_title('No Seasonality, Volumetric Heat Souce [J m$^{-3}$ a$^{-1}$]')\n",
    "ax.set_ylabel('Mean Enthalpy [kJ kg$^{-1}$]');\n",
    "\n",
    "ax.set_ylim(115, 130)\n",
    "\n",
    "\n",
    "fig.savefig('figs/mean_Enth_noSeason_Vol.png', \n",
    "            dpi=300, bbox_inches='tight', facecolor='w')"
   ]
  },
  {
   "cell_type": "code",
   "execution_count": null,
   "id": "a0338f74-9f56-4631-a817-cdc102386e49",
   "metadata": {},
   "outputs": [],
   "source": [
    "fp = 'glc1-a/nc/noSeasonality/glc1-a_dx_50_NT_*_dt_{}_mass_prog_gridded.nc'\n",
    "\n",
    "noseason_mass = load_runs(fp) "
   ]
  },
  {
   "cell_type": "code",
   "execution_count": null,
   "id": "1c03ba21-4ea8-4167-a1fb-1fd441980d7d",
   "metadata": {},
   "outputs": [],
   "source": [
    "fig, ax = plt.subplots()\n",
    "\n",
    "for i, dt  in enumerate([1.0, 0.5, 0.25, 0.1]): \n",
    "    \n",
    "    (noseason_mass[i].enthalpy_h.mean(('coord_2', 'coord_1'))/1e3).plot(x=\"year\", marker='x', ax=ax, label=f'dt={dt}')\n",
    "\n",
    "plt.legend();\n",
    "\n",
    "ax.set_title('No Seasonality, Mass Heat Souce [J kg$^{-1}$ a$^{-1}$]')\n",
    "ax.set_ylabel('Mean Enthalpy [kJ kg$^{-1}$]');\n",
    "\n",
    "ax.set_ylim(115, 130)\n",
    "\n",
    "fig.savefig('figs/mean_Enth_noSeason_Mass.png', \n",
    "            dpi=300, bbox_inches='tight', facecolor='w')"
   ]
  },
  {
   "cell_type": "code",
   "execution_count": null,
   "id": "609ed904-e9e2-4d1e-84be-cf08e33ba99d",
   "metadata": {},
   "outputs": [],
   "source": [
    "# test = xr.open_mfdataset('glc1-a/nc/glc1-a_dx_50_NT_*_dt_*_*_prog_gridded.nc')\n",
    "\n",
    "with xr.open_dataset('glc1-a/nc/glc1-a_dx_50_NT_500_dt_1.0_mass_prog_gridded.nc') as src: \n",
    "    src = src.sel(dt=1.0, heat_source='mass').isel(Delta_MB=0, T_ma=0)\n",
    "    \n",
    "    \n",
    "    src['vol'] =src.height.isel(coord_2=-1).integrate(\"coord_1\") /\\\n",
    "                src.height.isel(coord_2=-1,t=0).integrate(\"coord_1\")\n",
    "    \n",
    "    src = src.rename({\"t\":\"time\"})\n",
    "    src['time'] = np.floor(src.time * 365)\n",
    "    src.time.attrs = {\"units\": \"days since 2000-01-01\"}    \n",
    "    \n",
    "    src = xr.decode_cf(src, use_cftime=True)\n",
    "    \n",
    "    \n",
    "#     src.time.groupby('time.year').count(...).year"
   ]
  },
  {
   "cell_type": "code",
   "execution_count": null,
   "id": "b444a08f-5f3a-446b-9dfe-bb4a9240f42d",
   "metadata": {},
   "outputs": [],
   "source": [
    "test = xr.open_mfdataset('glc1-a/nc/glc1-a_dx_50_NT_*_dt_*_volumetric_prog_gridded.nc')\n",
    "\n",
    "# Process time \n",
    "test = test.rename({\"t\":\"time\"})\n",
    "# test['time'] = np.floor(test.time * 365)\n",
    "# test.time.attrs = {\"units\": \"days since 2000-01-01\"}    \n",
    "\n",
    "# test = xr.decode_cf(test, use_cftime=True)\n",
    "    \n",
    "    \n",
    "# Calculate the relative volume\n",
    "test['vol'] = test.height.isel(coord_2=-1).integrate(\"coord_1\") /\\\n",
    "              test.height.isel(coord_2=-1, time=0).integrate(\"coord_1\")\n",
    "    \n",
    "# test['Perc_temp'] = calc_perc_temp(test.isel(Delta_MB=0, T_ma=0))\n",
    "test = test.isel(Delta_MB=0, T_ma=0)"
   ]
  },
  {
   "cell_type": "code",
   "execution_count": null,
   "id": "91aff7dd-f970-4762-aa2c-e0c3165b57ef",
   "metadata": {},
   "outputs": [],
   "source": [
    "fig, ax = plt.subplots()\n",
    "\n",
    "(test.enthalpy_h.mean(('coord_2', 'coord_1'))/1e3).sel(heat_source='volumetric').plot(x=\"time\", hue='dt', ax=ax);\n",
    "\n",
    "ax.set_ylim(112.5,130);"
   ]
  },
  {
   "cell_type": "code",
   "execution_count": null,
   "id": "c1450a07-09e0-4491-90f9-54430e72e07d",
   "metadata": {},
   "outputs": [],
   "source": [
    "test = xr.open_mfdataset('glc1-a/nc/noSeasonality/glc1-a_dx_50_NT_*_dt_0.25_*_prog_gridded.nc')\n",
    "test = test.isel(Delta_MB=0, T_ma=0, dt=0)"
   ]
  },
  {
   "cell_type": "code",
   "execution_count": null,
   "id": "1817d794-1ccf-4439-8770-2381937cb95b",
   "metadata": {},
   "outputs": [],
   "source": [
    "fig, ax = plt.subplots(1,2, figsize=(10,3), sharex=True, sharey=True, \n",
    "                       constrained_layout=True)\n",
    "\n",
    "norm = plt.Normalize(-10, 0.0)\n",
    "\n",
    "ax[0].set_xlim(0, 5)\n",
    "ax[0].set_ylim(1950, 3000)\n",
    "\n",
    "\n",
    "# def init():\n",
    "#     im = ax[i].pcolormesh(test.X[:,::-1]/1e3, \n",
    "#                      test.Z.sel(heat_source=heat_source).isel(t=0),\n",
    "#                      test.temperature.sel(heat_source=heat_source).isel(t=0),\n",
    "#                      shading='gouraud', \n",
    "#                      norm=norm)\n",
    "#     im.set_array([])\n",
    "#     return im\n",
    "\n",
    "for i, heat_source in enumerate(test.heat_source): \n",
    "    im = ax[i].pcolormesh(test.X[:,::-1]/1e3, \n",
    "                     test.sel(heat_source=heat_source).Z.isel(t=0),\n",
    "                     test.temperature.sel(heat_source=heat_source).isel(t=0),\n",
    "                     shading='gouraud', \n",
    "                     norm=norm)\n",
    "\n",
    "    # Fill between bed and bottom of plot\n",
    "    ax[i].fill_between(test.X[0,::-1]/1e3,\n",
    "                    test.sel(heat_source=heat_source).isel(t=0,coord_2=-1).zbed,\n",
    "                    y2=np.minimum(test.sel(heat_source=heat_source).isel(t=0,coord_2=-1).zbed.min(), 0.0),\n",
    "                    color='gray', alpha=0.5)\n",
    "\n",
    "# Add time annotation\n",
    "label = ax[0].text(0.9, 0.9, r\"$t=0$\",\n",
    "                transform=ax[0].transAxes,\n",
    "                ha='center', va='center')\n",
    "\n",
    "# Set up the colorbar\n",
    "cbar = fig.colorbar(im, ax=ax)\n",
    "cbar.set_label('Homologous Temperature [$^\\circ$ C]', rotation=270, labelpad=20)\n",
    "        \n",
    "def update(t):\n",
    "    for i, heat_source in enumerate(test.heat_source): \n",
    "        \n",
    "        # Wipe the axis\n",
    "        ax[i].clear()\n",
    "        im = ax[i].pcolormesh(test.X[:,::-1]/1e3, \n",
    "                         test.sel(heat_source=heat_source).Z.isel(t=t),\n",
    "                         test.temperature.sel(heat_source=heat_source).isel(t=t),\n",
    "                         shading='gouraud', \n",
    "                         norm=norm)\n",
    "\n",
    "\n",
    "        # Fill between bed and bottom of plot\n",
    "        ax[i].fill_between(test.X[0,::-1]/1e3,\n",
    "                        test.sel(heat_source=heat_source).isel(t=0,coord_2=-1).zbed,\n",
    "                        y2=np.minimum(test.sel(heat_source=heat_source).isel(t=0,coord_2=-1).zbed.min(), 0.0),\n",
    "                        color='gray', alpha=0.5)\n",
    "        # Update time annotation\n",
    "        # label.set_text(\"$t={{{:6.1f}}}$\".format(src.t[i].values))\n",
    "\n",
    "        ax[i].set_title(str(heat_source.values))\n",
    "        \n",
    "    # Add time annotation\n",
    "    label = ax[0].text(0.9, 0.9, \"t={}\".format(test.t[t].values),\n",
    "                    transform=ax[0].transAxes,\n",
    "                    ha='center', va='center')\n",
    "\n",
    "    \n",
    "    ax[0].set_xlim(0, 5)\n",
    "    ax[0].set_ylim(1950, 3000)\n",
    "\n",
    "ani = FuncAnimation(fig, update, frames=np.arange(2, 500, 10), interval=100)\n",
    "plt.close()"
   ]
  },
  {
   "cell_type": "code",
   "execution_count": null,
   "id": "b6e54f99-1326-4b31-8c8e-7a963c1118d9",
   "metadata": {},
   "outputs": [],
   "source": [
    "ani.save('figs/noSeasonality_dt_0.25.mp4', dpi=400)"
   ]
  },
  {
   "cell_type": "code",
   "execution_count": null,
   "id": "8fe30497-30b7-4ee5-bec3-7ef566e2a5a3",
   "metadata": {},
   "outputs": [],
   "source": [
    "test = xr.open_mfdataset('glc1-a/nc/glc1-a_dx_50_NT_*_dt_*_*_prog_gridded.nc', \n",
    "                        compat=\"identical\")"
   ]
  },
  {
   "cell_type": "code",
   "execution_count": null,
   "id": "fab33661-40c1-44c5-bf32-0ef57a31f8fb",
   "metadata": {},
   "outputs": [],
   "source": [
    "test.heat_source"
   ]
  },
  {
   "cell_type": "code",
   "execution_count": null,
   "id": "81defff1-90f1-4bcc-b107-c1d56acfc872",
   "metadata": {},
   "outputs": [],
   "source": [
    "src = test.isel(t=-1, Delta_MB=0, T_ma=0, dt=0)\n",
    "\n",
    "\n",
    "fig, ax = plt.subplots(2,1) \n",
    "\n",
    "for i, heat_source in enumerate(src.heat_source): \n",
    "    \n",
    "    ax[i].pcolormesh(src.X[:,::-1], \n",
    "                     src.Z.sel(heat_source=heat_source),\n",
    "                     src.temperature.sel(heat_source=heat_source))\n",
    "                     \n"
   ]
  },
  {
   "cell_type": "code",
   "execution_count": null,
   "id": "57c6e7de-bb3b-4f81-a06f-570260faaa3e",
   "metadata": {},
   "outputs": [],
   "source": []
  },
  {
   "cell_type": "code",
   "execution_count": null,
   "id": "1bc1a9b2-5487-4dd9-9d26-1d8a2444337d",
   "metadata": {},
   "outputs": [],
   "source": [
    "src = test.sel(dt=0.1, heat_source='volumetric').isel(Delta_MB=0, T_ma=0, t=-3)\n",
    "\n",
    "\n",
    "plt.pcolormesh(src.X[:,::-1], \n",
    "               src.Z,\n",
    "               src.temperature)"
   ]
  },
  {
   "cell_type": "code",
   "execution_count": null,
   "id": "151f4523-5484-4719-85fe-d1cb6bd8634d",
   "metadata": {},
   "outputs": [],
   "source": [
    "test.sel(dt=0.1, heat_source='volumetric').isel(Delta_MB=0, T_ma=0, t=-100)"
   ]
  },
  {
   "cell_type": "code",
   "execution_count": null,
   "id": "53e9f6cb-112c-4900-b1c9-996f28ab2d29",
   "metadata": {},
   "outputs": [],
   "source": []
  }
 ],
 "metadata": {
  "kernelspec": {
   "display_name": "Python 3 (ipykernel)",
   "language": "python",
   "name": "python3"
  },
  "language_info": {
   "codemirror_mode": {
    "name": "ipython",
    "version": 3
   },
   "file_extension": ".py",
   "mimetype": "text/x-python",
   "name": "python",
   "nbconvert_exporter": "python",
   "pygments_lexer": "ipython3",
   "version": "3.7.12"
  }
 },
 "nbformat": 4,
 "nbformat_minor": 5
}
