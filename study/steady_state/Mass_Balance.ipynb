{
 "cells": [
  {
   "cell_type": "code",
   "execution_count": 1,
   "metadata": {},
   "outputs": [],
   "source": [
    "import numpy as np\n",
    "import xarray as xr \n",
    "import scipy.linalg as LA\n",
    "import matplotlib.pyplot as plt \n",
    "\n",
    "SEED = 1234567\n",
    "\n",
    "\n",
    "IC_fp = '../../initialization/coarse/result/glc1-b/nc/glc1-b_3000a_dt_1_dx_50_MB_-1.675_OFF_spline_k2.nc'\n",
    "\n",
    "\n",
    "with xr.open_dataset(IC_fp) as src: \n",
    "    # correct for minimum ice thickness\n",
    "    src[\"height\"] = xr.where(src.height <= 10, 0, src.height)\n",
    "    # apply sigma coordinate transform for vertical coordinate\n",
    "    src[\"Z\"]      = src.zbed + src.Z * src.height \n",
    "    # Calculate the magnitude of the velocity vectors\n",
    "    src['vel_m']  = np.sqrt(src['velocity 1']**2 + src['velocity 2']**2)   \n",
    "    \n",
    "Vol = src.height.isel(coord_2=-1).integrate(\"coord_1\") /\\\n",
    "      src.height.isel(coord_2=-1).isel(t=0).integrate(\"coord_1\")\n",
    "\n",
    "class PositiveDegreeDayModel:\n",
    "    def __init__(self, α, ref_z, T_ma, ΔTΔz, T_p, T_m, T_rs, T_σ):\n",
    "        \"\"\"Theano implementation of the (P)ositive (D)egree (D)ay model.\n",
    "\n",
    "        Inputs:\n",
    "            α     (float)   --> anual air temp. amplitude    []\n",
    "            ref_z (float)   --> reference surface elevation  [m a.s.l.]\n",
    "            T_ma  (float)   --> Mean annual air temp @ ref_z [C]\n",
    "            ΔTΔz  (float)   --> air temp lapse rate          [K m^-1]\n",
    "            T_p   (int)     --> DOY of annual temp peak      [DOY]\n",
    "            T_m   (float)   --> Melting temp. threshold      [C]\n",
    "            T_rs  (float)   --> rain to snow threshold       [C]\n",
    "            T_σ   (ndarray) --> std. dev. of air temp as     [C]\n",
    "                                fuction of DOY\n",
    "\n",
    "        \"\"\"\n",
    "        self.α      = α       # anual air temp. amplitude    []\n",
    "        self.T_ma   = T_ma    # Mean annual air temp @ ref_z [C]\n",
    "        self.ΔTΔz   = ΔTΔz    # air temp lapse rate          [K m^-1]\n",
    "        self.T_p    = T_p     # DOY of annual temp peak      [DOY]\n",
    "        self.ref_z  = ref_z   # reference surface elevation  [m a.s.l.]\n",
    "        self.T_m    = T_m     # Melting temp. threshold      [C]\n",
    "        self.T_rs   = T_rs    # rain to snow threshold       [C]\n",
    "        self.T_σ    = T_σ     # std. dev. of air temp        [C]\n",
    "\n",
    "    def calc_air_temp(self, z):\n",
    "        \"\"\"\"Evaluate the surface air temperature at a given elev. for a given\n",
    "            day of the year\n",
    "\n",
    "        Inputs:\n",
    "            z   (float or Nx1 ndarry) ---> Nodal surface elevation [m a.s.l.]\n",
    "\n",
    "        Outputs:\n",
    "            T   (floar or Nx365 ndarray) ---> Nodal surface elevation for each\n",
    "                                              day of the yeat      [C]\n",
    "        \"\"\"\n",
    "        # Need to seed the Generator every function call to ensure\n",
    "        # all MCMC steps have the same temperature forcing\n",
    "        random = np.random.default_rng(SEED)\n",
    "\n",
    "        # Use array broadcasting to calc temp as function of elevation and doy\n",
    "        doy  = np.arange(1,366)[:, np.newaxis]\n",
    "        Temp = self.α * np.cos( 2*np.pi*(doy-self.T_p)/365 ) + \\\n",
    "               self.ΔTΔz * (self.ref_z-z) + self.T_ma + \\\n",
    "               random.normal(0, self.T_σ, (365,1))\n",
    "\n",
    "        return Temp\n",
    "\n",
    "def find_ElA(Z, MB): \n",
    "    ELA_idx = np.argpartition(np.abs(MB), 2)\n",
    "    return np.mean(Z[ELA_idx[:2]])"
   ]
  },
  {
   "cell_type": "code",
   "execution_count": 115,
   "metadata": {},
   "outputs": [
    {
     "data": {
      "text/plain": [
       "[<matplotlib.lines.Line2D at 0x7f992709b110>]"
      ]
     },
     "execution_count": 115,
     "metadata": {},
     "output_type": "execute_result"
    },
    {
     "data": {
      "image/png": "[encoded data removed]",
      "text/plain": [
       "<Figure size 432x288 with 1 Axes>"
      ]
     },
     "metadata": {
      "needs_background": "light"
     },
     "output_type": "display_data"
    }
   ],
   "source": [
    "plt.plot(Vol.t[:500], Vol[:500])"
   ]
  },
  {
   "cell_type": "code",
   "execution_count": 3,
   "metadata": {},
   "outputs": [],
   "source": [
    "# dictionary of PDD model parameters\n",
    "p = [ 8.29376332e-05, -3.45256005e-02,  6.31076200e+00]\n",
    "doy = np.arange(1,366)\n",
    "fancy_std = np.polyval(p, doy)[:, np.newaxis]\n",
    "\n",
    "const =  dict(T_m = 0.0, \n",
    "              T_rs = 1.0, \n",
    "              α = 10.8, \n",
    "              T_ma = -9.02, \n",
    "              ΔTΔz  = 6.5E-3,\n",
    "              T_p = 196, \n",
    "              ref_z = 2193, \n",
    "              T_σ = fancy_std)\n",
    "\n",
    "# initialize the PDD melt model class\n",
    "PDD_forward = PositiveDegreeDayModel(**const)\n",
    "\n",
    "\n",
    "H = src.height.isel(t=-1, coord_2 = -1).values\n",
    "idxs = np.where(H>0)[0]\n",
    "\n",
    "H = H[idxs]\n",
    "\n",
    "\n",
    "# Exact Mass Balance from NetCDF\n",
    "MB = src['zs accumulation flux 2'].isel(t=-1, coord_2 = -1).values\n",
    "# if we just want to test above the ELA\n",
    "# idxs = np.intersect1d(idxs, np.where(MB > 0)[0])\n",
    "MB = MB[idxs]\n",
    "# Extract surface elevation \n",
    "Z  = src.Z.isel(t=-1, coord_2 = -1).values\n",
    "Z  = Z[idxs]\n"
   ]
  },
  {
   "cell_type": "code",
   "execution_count": 4,
   "metadata": {},
   "outputs": [],
   "source": [
    "# X  = src.coord_1.values\n",
    "# # plt.plot(X,Z)\n",
    "# plt.plot(X, src['zs'].isel(t=-1, coord_2 = -1).values)\n",
    "# plt.plot(X, src['zbed'].isel(t=-1, coord_2 = -1).values)"
   ]
  },
  {
   "cell_type": "code",
   "execution_count": 94,
   "metadata": {
    "jp-MarkdownHeadingCollapsed": true,
    "tags": []
   },
   "outputs": [],
   "source": [
    "f_i = 5.25\n",
    "f_s = 3.8\n",
    "f_r = 0.08\n",
    "\n",
    "def calc_PDDs(Z): \n",
    "    T    = PDD_forward.calc_air_temp(Z)\n",
    "    PDDs = np.where(T>const['T_m'],T-const['T_m'], 0).sum(axis=0)\n",
    "    return PDDs\n",
    "\n",
    "PDDs = calc_PDDs(Z)\n",
    "\n",
    "Z_ELA = find_ElA(Z, MB)\n",
    "n_ELA = np.argmin(np.abs(Z-Z_ELA))\n",
    "\n",
    "R_i   = np.zeros_like(Z)\n",
    "\n",
    "B_i   = np.zeros_like(Z)\n",
    "B_ip1 = np.zeros_like(Z)\n",
    "A_i   = np.zeros_like(Z)\n",
    "A_ip1 = np.zeros_like(Z)\n",
    "M_i   = np.zeros_like(Z)\n",
    "\n",
    "converged = False \n",
    "\n",
    "maxitter = 0\n",
    "i = 0 \n",
    "\n",
    "# First guess\n",
    "# calculate local surface melt assuming f_m = f_snow\n",
    "m_ELA   = f_s*PDDs[n_ELA]\n",
    "m_0     = MB[0]*910\n",
    "m_slope = (m_ELA + m_0) / (Z[n_ELA] - Z[0])\n",
    "m_int   = (m_ELA - m_slope * Z[n_ELA])\n",
    "\n",
    "M_i = np.where(MB<0, \n",
    "               m_slope*Z + m_int, \n",
    "               f_s*PDDs)\n",
    "\n",
    "\n",
    "A_i = MB*910 + M_i\n",
    "while (not converged) and (i < maxitter):     \n",
    "    \n",
    "    A_i = MB*910 + M_i #- R_i\n",
    "    \n",
    "    # # check for negative accumulation \n",
    "    # if any(A_i < 0): \n",
    "    #     corr   = A_i[0]\n",
    "    #     M_corr = M_i - corr\n",
    "    #     A_i    = MB*910 + M_corr\n",
    "    # else: \n",
    "    #     M_corr = M_i\n",
    "        \n",
    "    # compute the ratio b/w accumulated snow and total melt assuming f_m = f_snow\n",
    "    with np.errstate(divide='ignore', invalid='ignore'):\n",
    "        r_s2m = A_i / M_i #M_corr\n",
    "\n",
    "    # Compute nodal specific degree day factor\n",
    "    f_m = np.where(r_s2m > 1, \n",
    "                   f_s,\n",
    "                   f_i - (f_i - f_s)*r_s2m)\n",
    "    \n",
    "    # # We know the where the ELA is. therefore, we need f_s/f_ice transition manually \n",
    "    # f_m = np.where(Z >= Z_ELA, f_s, f_m)\n",
    "    \n",
    "    # calculate surface melt [kg m^{-2} yr^{-1}] with f_m\n",
    "    M_ip1 = (f_m*PDDs)\n",
    "    A_ip1 = MB*910 + M_i\n",
    "    B_ip1 = (A_ip1 - M_ip1)/910\n",
    "    \n",
    "    if LA.norm(MB - B_ip1) < 1e-6: \n",
    "        converged = True\n",
    "    \n",
    "    M_i = M_ip1\n",
    "\n",
    "    i += 1 \n"
   ]
  },
  {
   "cell_type": "code",
   "execution_count": 95,
   "metadata": {},
   "outputs": [
    {
     "name": "stdout",
     "output_type": "stream",
     "text": [
      "Elmer ELA: 2572\n",
      "Model ELA: 2572\n"
     ]
    }
   ],
   "source": [
    "Elmer_ELA = find_ElA(Z, MB)\n",
    "Model_ELA = find_ElA(Z, A_i-M_i)\n",
    "\n",
    "print(f'Elmer ELA: {Elmer_ELA:.0f}')\n",
    "print(f'Model ELA: {Model_ELA:.0f}')"
   ]
  },
  {
   "cell_type": "code",
   "execution_count": 96,
   "metadata": {},
   "outputs": [],
   "source": [
    "# ref_Z = Z\n",
    "# ref_A = A_i \n",
    "# ref_M = M_i"
   ]
  },
  {
   "cell_type": "code",
   "execution_count": 97,
   "metadata": {},
   "outputs": [],
   "source": [
    "M_old = (A_i/r_s2m)"
   ]
  },
  {
   "cell_type": "code",
   "execution_count": 98,
   "metadata": {},
   "outputs": [
    {
     "data": {
      "text/plain": [
       "[<matplotlib.lines.Line2D at 0x7f9921cb62d0>]"
      ]
     },
     "execution_count": 98,
     "metadata": {},
     "output_type": "execute_result"
    },
    {
     "data": {
      "image/png": "[encoded data removed]",
      "text/plain": [
       "<Figure size 432x288 with 1 Axes>"
      ]
     },
     "metadata": {
      "needs_background": "light"
     },
     "output_type": "display_data"
    }
   ],
   "source": [
    "plt.plot(Z, A_i/M_i)\n",
    "# plt.yscale('log')"
   ]
  },
  {
   "cell_type": "code",
   "execution_count": 99,
   "metadata": {},
   "outputs": [
    {
     "data": {
      "text/plain": [
       "[<matplotlib.lines.Line2D at 0x7f99226c1350>]"
      ]
     },
     "execution_count": 99,
     "metadata": {},
     "output_type": "execute_result"
    },
    {
     "data": {
      "image/png": "[encoded data removed]",
      "text/plain": [
       "<Figure size 432x288 with 1 Axes>"
      ]
     },
     "metadata": {
      "needs_background": "light"
     },
     "output_type": "display_data"
    }
   ],
   "source": [
    "plt.plot(Z, f_m)"
   ]
  },
  {
   "cell_type": "code",
   "execution_count": 100,
   "metadata": {},
   "outputs": [
    {
     "data": {
      "text/plain": [
       "2575.2354"
      ]
     },
     "execution_count": 100,
     "metadata": {},
     "output_type": "execute_result"
    }
   ],
   "source": [
    "Z[np.where(r_s2m >1)[0][1]]"
   ]
  },
  {
   "cell_type": "code",
   "execution_count": 101,
   "metadata": {},
   "outputs": [],
   "source": [
    "slope = 1 / (Z[np.where(r_s2m >1)[0][1]] - Z[0])\n",
    "b = 1 - slope*Z[np.where(r_s2m >1)[0][1]]\n",
    "\n",
    "r_s2m_new = np.where(r_s2m < 1, slope*Z+b, r_s2m)\n",
    "\n",
    "# Compute nodal specific degree day factor\n",
    "f_m = np.where(r_s2m_new > 1, \n",
    "               f_s,\n",
    "               f_i - (f_i - f_s)*r_s2m_new)"
   ]
  },
  {
   "cell_type": "code",
   "execution_count": 102,
   "metadata": {},
   "outputs": [
    {
     "data": {
      "text/plain": [
       "[<matplotlib.lines.Line2D at 0x7f992972e290>]"
      ]
     },
     "execution_count": 102,
     "metadata": {},
     "output_type": "execute_result"
    },
    {
     "data": {
      "image/png": "[encoded data removed]",
      "text/plain": [
       "<Figure size 432x288 with 1 Axes>"
      ]
     },
     "metadata": {
      "needs_background": "light"
     },
     "output_type": "display_data"
    }
   ],
   "source": [
    "plt.plot(Z, f_m*PDDs)"
   ]
  },
  {
   "cell_type": "code",
   "execution_count": 105,
   "metadata": {},
   "outputs": [
    {
     "data": {
      "image/png": "[encoded data removed]",
      "text/plain": [
       "<Figure size 432x288 with 1 Axes>"
      ]
     },
     "metadata": {
      "needs_background": "light"
     },
     "output_type": "display_data"
    }
   ],
   "source": [
    "fig, ax =  plt.subplots(1,1)\n",
    "\n",
    "ax.plot(Z, MB, label=r'KMR B+$\\Delta\\dot{b}$')\n",
    "ax.plot(Z, A_i/910, label=\"Accum. = B + M\") \n",
    "# ax.plot(Z, R_i /910 )\n",
    "ax.plot(Z, -M_i/910, label=f'Melt ($f_i={f_i}, \\, f_s={f_s}$)')\n",
    "# ax.plot(Z, (A_i-M_i)/910)\n",
    "\n",
    "# ax.plot(Z, -(A_i/r_s2m)/910)\n",
    "ax.legend()\n",
    "\n",
    "# ax.plot(ref_Z, ref_A/910)\n",
    "# ax.plot(ref_Z, -ref_M/910)\n",
    "\n",
    "ax.set_xlabel('Distance Along Flowline')\n",
    "ax.set_ylabel('m/yr')\n",
    "ax.set_title(f'South Glacier ({i} itters.)')\n",
    "\n",
    "\n",
    "ax.grid(which='both')\n",
    "\n",
    "fig.savefig('A=MB+M_glc1-b_test.png', dpi=300, bbox_inches='tight', facecolor='w')"
   ]
  },
  {
   "cell_type": "code",
   "execution_count": 108,
   "metadata": {},
   "outputs": [],
   "source": [
    "import scipy.optimize as optim"
   ]
  },
  {
   "cell_type": "code",
   "execution_count": null,
   "metadata": {},
   "outputs": [],
   "source": [
    "def func(b): \n",
    "    m = (m_ela - 1) / (x[-1] - x[0]) \n",
    "    b = m_ela - x[-1]*z_ela\n",
    "    \n",
    "    A = m*x + b \n",
    "    M_i = "
   ]
  },
  {
   "cell_type": "code",
   "execution_count": 112,
   "metadata": {},
   "outputs": [
    {
     "data": {
      "text/plain": [
       "0.809016994374947"
      ]
     },
     "execution_count": 112,
     "metadata": {},
     "output_type": "execute_result"
    }
   ],
   "source": [
    "np.cos(2*np.pi*1.1)"
   ]
  },
  {
   "cell_type": "code",
   "execution_count": 111,
   "metadata": {},
   "outputs": [
    {
     "data": {
      "text/plain": [
       "0.8090169943749475"
      ]
     },
     "execution_count": 111,
     "metadata": {},
     "output_type": "execute_result"
    }
   ],
   "source": [
    "np.cos(2*np.pi*0.1)"
   ]
  },
  {
   "cell_type": "code",
   "execution_count": 75,
   "metadata": {},
   "outputs": [
    {
     "data": {
      "text/plain": [
       "0.01919253798194858"
      ]
     },
     "execution_count": 75,
     "metadata": {},
     "output_type": "execute_result"
    }
   ],
   "source": [
    "np.mean((A_i-M_i)/910)"
   ]
  },
  {
   "cell_type": "code",
   "execution_count": 114,
   "metadata": {},
   "outputs": [
    {
     "data": {
      "text/plain": [
       "0.10000000000000009"
      ]
     },
     "execution_count": 114,
     "metadata": {},
     "output_type": "execute_result"
    }
   ],
   "source": [
    "1.1 % 1"
   ]
  },
  {
   "cell_type": "code",
   "execution_count": null,
   "metadata": {},
   "outputs": [],
   "source": [
    "plt.plot(Z, melt_local/ 910)\n",
    "plt.plot(Z, A_snow/ 910)\n",
    "plt.plot(Z, / 910)"
   ]
  },
  {
   "cell_type": "code",
   "execution_count": null,
   "metadata": {},
   "outputs": [],
   "source": []
  },
  {
   "cell_type": "code",
   "execution_count": null,
   "metadata": {},
   "outputs": [],
   "source": [
    "# q_x = (src['velocity 1'].mean(dim='coord_1') * \\\n",
    "#        src.height).isel(coord_2=-1, t=-1).values\n",
    "# q_z = (src['velocity 2'].mean(dim='coord_1') * \\\n",
    "#        src.height).isel(coord_2=-1, t=-1).values\n",
    "\n",
    "\n",
    "# X_ = src.coord_1.values\n",
    "# Z_ = src['Z'].isel(coord_2=-1, t=-1).values"
   ]
  },
  {
   "cell_type": "code",
   "execution_count": null,
   "metadata": {},
   "outputs": [],
   "source": [
    "# plt.plot(X_, src['velocity 1'].isel(coord_2=-1, t=-1).values - np.gradient(q_x, X_) - np.gradient(q_z, Z_))"
   ]
  }
 ],
 "metadata": {
  "kernelspec": {
   "display_name": "Python 3",
   "language": "python",
   "name": "python3"
  },
  "language_info": {
   "codemirror_mode": {
    "name": "ipython",
    "version": 3
   },
   "file_extension": ".py",
   "mimetype": "text/x-python",
   "name": "python",
   "nbconvert_exporter": "python",
   "pygments_lexer": "ipython3",
   "version": "3.7.8"
  }
 },
 "nbformat": 4,
 "nbformat_minor": 4
}
