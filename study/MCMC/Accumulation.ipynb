{
 "cells": [
  {
   "cell_type": "markdown",
   "id": "922c6447",
   "metadata": {},
   "source": [
    "# Accumulation \n",
    "\n",
    "Here we visualize the accumulation results from EMY/KMR modeling results. We also test various acccumulation functions and evaluate their performance in recreating the KMR/EMY accumulation curve. \n",
    "\n",
    "__Simple Model__: \n",
    "\n",
    "Following Gilbert et al. 2020 (which is a simplified version of the accumulation function from Huss and Hocks, 2015) we first attempt to model the accumulation as: \n",
    "\n",
    "\\begin{equation}\n",
    "     A_{\\rm snow}(z) = \\sum^{365}_{d=1} \n",
    "    \\begin{cases}\n",
    "    \\frac{P_{\\rm ref}}{365} +( 1 +  (z-z_{\\rm ref})) \\frac{d P}{d z} & \\text{if } T(d,z) < T_{\\rm snow} ,\\\\\n",
    "    0 & \\text{if } T(d,z) \\geq T_{\\rm snow} ,\n",
    "    \\end{cases}\n",
    "\\end{equation}\n",
    "\n",
    "where:\n",
    " - $P_{\\rm ref}$ is mean annual precipitation at reference elevation $z_{\\rm ref}$  ( kg m$^{-2}$  a$^{-1}$ ) \n",
    " - $\\frac{d P}{d z}$ Precipitation lapse rate   ( m$^{-1}$ )\n",
    " - $T_{\\rm snow} = 1 ^\\circ C$  snow versus rain temperature threshold  \n",
    "\n",
    "\n",
    "__Piece-wise Model__: \n",
    "\n",
    "Given the simple model's inability to recreate the EMY/KMR accumulation curve we also test a piece-wise linear model of the form: \n",
    "\n",
    "\\begin{equation}\n",
    "    A_{\\rm snow}(z) = \n",
    "    \\begin{cases}\n",
    "    A_{\\rm max} & \\text{if } z_{\\rm max} < z\\\\\n",
    "    \\left( \\frac{dP}{dz} \\right)_{\\rm a} z + b_{\\rm a} & \\text{if } z_{\\rm ELA} < z < z_{\\rm max} \\\\\n",
    "    \\left( \\frac{dP}{dz} \\right)_{\\rm b} z + b_{\\rm b} & \\text{if } z < z_{\\rm ELA} \n",
    "    \\end{cases}\n",
    "\\end{equation}\n",
    "\n",
    "The proposed model is a picewise (about the ELA) linear function, with a constant accumulation above a threshold value. All parameters are free, and the ELA is the implicity modeled ELA. "
   ]
  },
  {
   "cell_type": "code",
   "execution_count": 125,
   "id": "95968264",
   "metadata": {},
   "outputs": [],
   "source": [
    "import PDD\n",
    "import theano\n",
    "import numpy as np\n",
    "import pymc3 as pm \n",
    "import arviz as az\n",
    "import xarray as xr\n",
    "from numpy import random\n",
    "from scipy import interpolate\n",
    "from scipy import linalg as LA\n",
    "import matplotlib.pyplot as plt \n",
    "\n",
    "# theano.config.compute_test_value='raise'\n",
    "\n",
    "plt.rcParams.update({'text.usetex': True, \n",
    "                     'animation.html': 'jshtml', \n",
    "                     'figure.facecolor': 'w', \n",
    "                     'savefig.bbox':'tight'})"
   ]
  },
  {
   "cell_type": "markdown",
   "id": "df7fd952",
   "metadata": {},
   "source": [
    "__Load the NetCDF with Kaskawulsh Data__: "
   ]
  },
  {
   "cell_type": "code",
   "execution_count": 2,
   "id": "fdddab32",
   "metadata": {},
   "outputs": [],
   "source": [
    "nc_fp = \"../MB_tune/notebooks/Young_etal_2020_Delta_T_-0.9_C.nc\"\n",
    "\n",
    "with xr.open_dataset(nc_fp) as MB_new: \n",
    "    # Create a precipitation variable\n",
    "    MB_new[\"Precip\"] = MB_new.Accumulation + MB_new.Rain\n",
    "    # Calculate mean annual precipsss\n",
    "    P_mean = float(MB_new[\"Precip\"].mean())\n",
    "    # Calculate mean annual air temp \n",
    "    T_mean = float(MB_new[\"temp\"].mean())"
   ]
  },
  {
   "cell_type": "markdown",
   "id": "9cc9e2f0",
   "metadata": {},
   "source": [
    "__Visualize the Precipitation__: "
   ]
  },
  {
   "cell_type": "code",
   "execution_count": 3,
   "id": "c41961a5",
   "metadata": {},
   "outputs": [
    {
     "data": {
      "text/plain": [
       "Text(0.5, 0, 'Elevation m a.s.l.')"
      ]
     },
     "execution_count": 3,
     "metadata": {},
     "output_type": "execute_result"
    },
    {
     "data": {
      "image/png": "[encoded data removed]",
      "text/plain": [
       "<Figure size 432x288 with 1 Axes>"
      ]
     },
     "metadata": {},
     "output_type": "display_data"
    }
   ],
   "source": [
    "fig, ax = plt.subplots()\n",
    "\n",
    "ax.scatter(MB_new.Elevation, \n",
    "           MB_new.Accumulation,\n",
    "           c=MB_new.Accumulation,\n",
    "           s=0.25,\n",
    "           label='Young et al. 2021')\n",
    "\n",
    "ax.legend()\n",
    "ax.set_ylabel('Accumulation [m i.e./yr]')\n",
    "ax.set_xlabel('Elevation m a.s.l.')"
   ]
  },
  {
   "cell_type": "markdown",
   "id": "04cb3006",
   "metadata": {},
   "source": [
    "__Collpase distributed arrays along Elevation:__"
   ]
  },
  {
   "cell_type": "code",
   "execution_count": 4,
   "id": "6ffb4d05",
   "metadata": {},
   "outputs": [],
   "source": [
    "stacked  = MB_new.stack(z=('x','y'))\n",
    "\n",
    "# Calculate the Kaskawulsh ELA \n",
    "ELA_idxs = np.argpartition(np.abs(stacked.MB.values), 5)\n",
    "z_ELA    = float(stacked.isel(z=ELA_idxs[:5]).Elevation.mean())\n",
    "\n",
    "# Collapse the data along a new (sorted) axis: elevation \n",
    "idxs = stacked.dropna('z').z.values\n",
    "elev = stacked.Elevation.dropna('z').values\n",
    "idxs = idxs[np.argsort(elev)]\n",
    "ds_sort = stacked.sel(z=idxs)"
   ]
  },
  {
   "cell_type": "markdown",
   "id": "3ec73624",
   "metadata": {},
   "source": [
    "__Simple Model Fitting__: "
   ]
  },
  {
   "cell_type": "code",
   "execution_count": null,
   "id": "24a406f8",
   "metadata": {},
   "outputs": [],
   "source": [
    "# dictionary of PDD model parameters\n",
    "const =  dict(T_m   = 0.0,\n",
    "              T_rs   = 1.0,\n",
    "              A_mean = P_mean * 910., \n",
    "              α      = 10.5, \n",
    "              T_ma   = T_mean,\n",
    "              ΔTΔz   = 6.5E-3, \n",
    "              T_p    = 196,\n",
    "              T_σ    = 8.6,\n",
    "              ref_z  = 2193)\n",
    "\n",
    "# initialize the PDD melt model class\n",
    "Accum_def = PDD.Accumulation_default(**const)"
   ]
  },
  {
   "cell_type": "markdown",
   "id": "9277bc5d",
   "metadata": {},
   "source": [
    "MCMC model fitting: "
   ]
  },
  {
   "cell_type": "code",
   "execution_count": null,
   "id": "8b8417c2",
   "metadata": {},
   "outputs": [],
   "source": [
    "# Define Priors\n",
    "with pm.Model() as model: \n",
    "    #~~~~~~~~~~~~~~~~~~~~~~~~~~~~~~~~~~~~~~~~~~~\n",
    "    # ----> Mass balance Model (physical priors)\n",
    "    #~~~~~~~~~~~~~~~~~~~~~~~~~~~~~~~~~~~~~~~~~~~\n",
    "    # Need a reference for the accumulation grad distibution \n",
    "    grad_a     = pm.Uniform(\"grad_a\", lower=0.5e-4, upper=5e-4)\n",
    "    #~~~~~~~~~~~~~~~~~~~~~~~~~~~~~~~~~~~~~~~~~~~~~~~~~~\n",
    "    # ----> Hyperparameters (likelihood related priors)\n",
    "    #~~~~~~~~~~~~~~~~~~~~~~~~~~~~~~~~~~~~~~~~~~~~~~~~~~\n",
    "    sigma      = pm.HalfCauchy(\"sigma\", 10)    \n",
    "\n",
    "\n",
    "# Define Forward model (wrapped through theano)\n",
    "with model: \n",
    "    A_snow = Accum_def.tt_forward(ds_sort.Elevation.values[::10], grad_a)\n",
    "    \n",
    "\n",
    "# Define likelihood (function?)  \n",
    "with model: \n",
    "    # Likelihood (sampling distribution) of observations\n",
    "    Y_obs = pm.Normal(\"Y_obs\", mu=A_snow, sigma=sigma, observed=ds_sort.Accumulation.values[::10])\n",
    "    \n",
    "# run inference: Sample   \n",
    "with model: \n",
    "\n",
    "    # obtain starting values via MAP\n",
    "#     startvals = pm.find_MAP() \n",
    "    \n",
    "    trace = pm.sample(#start=startvals,\n",
    "                      draws=2000, \n",
    "                      tune=2000, \n",
    "                      cores=2, \n",
    "                      return_inferencedata=True);\n",
    "    \n",
    "with model: \n",
    "    ppc = pm.sample_posterior_predictive(\n",
    "    trace, var_names=[\"grad_a\", \"sigma\"])"
   ]
  },
  {
   "cell_type": "code",
   "execution_count": null,
   "id": "a0fc9cd4",
   "metadata": {},
   "outputs": [],
   "source": [
    "fig, ax = plt.subplots()\n",
    "\n",
    "ax.scatter(ds_sort.Elevation.values, \n",
    "           ds_sort.Accumulation.values, s=0.5)\n",
    "\n",
    "for i, j in enumerate(np.random.randint(0,3999,499)):\n",
    "    grad_a = ppc[\"grad_a\"][j]        \n",
    "    \n",
    "    A = Accum_def.eval_forward(ds_sort.Elevation.values[::10], grad_a)\n",
    "    \n",
    "    ax.plot(ds_sort.Elevation.values[::10], A, c='tab:orange', alpha=0.5)\n",
    "    \n",
    "plt.savefig('/Users/andrewnolan/Desktop/MCMC_Accum.png', dpi=300)"
   ]
  },
  {
   "cell_type": "code",
   "execution_count": 5,
   "id": "26d267ae",
   "metadata": {},
   "outputs": [],
   "source": [
    "from scipy import optimize\n",
    "\n",
    "\n",
    "class Accum_default:\n",
    "\n",
    "    def __init__(self, z, P_obs, α, T_ma, ΔTΔz, T_p, ref_z, T_m, T_rs, T_σ, A_mean):\n",
    "        self.z      = z\n",
    "        self.P_obs  = P_obs\n",
    "        self.α      = α       # anual air temp. amplitude    [K]\n",
    "        self.T_ma   = T_ma    # Mean annual air temp @ ref_z [K]\n",
    "        self.ΔTΔz   = ΔTΔz    # air temp lapse rate          [K m^-1]\n",
    "        self.T_p    = T_p     # DOY of annual temp peak      [DOY]\n",
    "        self.ref_z  = ref_z   # reference surface elevation  [m a.s.l.]\n",
    "        self.T_m    = T_m     # Melting temp. threshold      [K]\n",
    "        self.T_rs   = T_rs    # T_\n",
    "        self.T_σ    = T_σ\n",
    "        self.A_mean = A_mean  # Mean annual accum.   @ ref_z [kg m^-2 yr^-1]\n",
    "\n",
    "    def __air_temp(self):\n",
    "        \"\"\"\"Evaluate the surface air temperature at a given evlevation for a given\n",
    "            day of the year\n",
    "\n",
    "        Inputs:\n",
    "            z   (float or Nx1 ndarry) ---> Nodal surface elevation [m a.s.l.]\n",
    "\n",
    "        Outputs:\n",
    "            T   (floar or Nx365 ndarray) ---> Nodal surface elevation for each\n",
    "                                              day of the yeat      [C]\n",
    "        \"\"\"\n",
    "        doy  = np.arange(1,366)[:, np.newaxis]\n",
    "        Temp = self.α*np.cos( 2*np.pi*(doy-self.T_p)/365 ) + \\\n",
    "               self.ΔTΔz*(self.ref_z-self.z)+self.T_ma + \\\n",
    "               np.random.normal(0, self.T_σ, (365,1))\n",
    "\n",
    "        return Temp\n",
    "\n",
    "    def forward(self, ΔPΔz):\n",
    "        T     = self.__air_temp() #+ T_bias\n",
    "\n",
    "        PDDs = np.where(T > self.T_m, T, 0.0).sum(axis=0)\n",
    "\n",
    "        accum_days = np.where(T < self.T_rs, 1/365., 0.0).sum(axis=0)\n",
    "\n",
    "        # calculate snow accumulation\n",
    "        A_snow = np.maximum((accum_days*self.A_mean)* (1+(self.z-self.ref_z)*ΔPΔz),\n",
    "                            0.0)\n",
    "        return A_snow * (1/910)\n",
    "\n",
    "    def __cost(self, p): \n",
    "        return self.forward(p) - self.P_obs\n",
    "\n",
    "    def fit(self, p0, loss='soft_l1'): \n",
    "        res_lsq = optimize.least_squares(self.__cost, p0, loss=loss)\n",
    "        return res_lsq"
   ]
  },
  {
   "cell_type": "code",
   "execution_count": 179,
   "id": "421d023a",
   "metadata": {},
   "outputs": [],
   "source": [
    "class Accum_piece:\n",
    "\n",
    "    def __init__(self, z, P_obs, z_ELA):\n",
    "        self.z      = z\n",
    "        self.P_obs  = P_obs\n",
    "        self.z_ELA  = z_ELA   # ELA elevation (known a prior only in the test case)\n",
    "\n",
    "#     def forward(self, z, z_max, P0, ΔPΔz_1, ΔPΔz_2, P_max):\n",
    "#         accum = np.piecewise(z, \n",
    "#                              [z < self.z_ELA, \n",
    "#                               (self.z_ELA < z) & (z < z_max), \n",
    "#                               z_max < z], \n",
    "#                              [lambda z:ΔPΔz_1*z + P0-ΔPΔz_1*self.z_ELA, \n",
    "#                               lambda z:ΔPΔz_2*z + P0-ΔPΔz_2*self.z_ELA, \n",
    "#                               P_max])\n",
    "#         return accum\n",
    "\n",
    "    def forward(z, z_max, P0, ΔPΔz_1, ΔPΔz_2, P_max):\n",
    "        accum = np.piecewise(z, \n",
    "                             [z < z_ELA, (z_ELA < z) & (z < z_max), z_max < z], \n",
    "                             [lambda z:ΔPΔz_1*z + P0-ΔPΔz_1*z_ELA, \n",
    "                              lambda z:ΔPΔz_2*z + P0-ΔPΔz_2*z_ELA, \n",
    "                              P_max])\n",
    "        return accum\n",
    "    \n",
    "#     def forward(self, x, x1, k1, k2, k3):\n",
    "#         x = ds_sort.Elevation.values[::10]\n",
    "#         x0 = self.z_ELA\n",
    "#         y0 = 0.6\n",
    "# #         print(y0)\n",
    "#         return np.piecewise(x, [x < x0, (x0 < x) & (x < x1), x1 < x], [lambda x:k1*x + y0-k1*x0, lambda x:k2*x + y0-k2*x0, k3])\n",
    "\n",
    "\n",
    "    def __cost(self, p): \n",
    "        return self.forward(*p) - self.P_obs\n",
    "\n",
    "    def fit(self, p0, loss='linear'): \n",
    "#         res_lsq = optimize.least_squares(self.__cost, p0, loss=loss)\n",
    "        p, cov = optimize.curve_fit(forward, self.z, self.P_obs, p0=p0, args=(self.z_ELA))\n",
    "        return p"
   ]
  },
  {
   "cell_type": "code",
   "execution_count": 180,
   "id": "d842230b",
   "metadata": {},
   "outputs": [],
   "source": [
    "# dictionary of PDD model parameters\n",
    "const =  dict(z      = ds_sort.Elevation.values[::10],\n",
    "              P_obs  = ds_sort.Precip.values[::10],\n",
    "              T_m    = 0.0,\n",
    "              T_rs   = 1.0,\n",
    "              A_mean = P_mean * 910., \n",
    "              α      = 10.5, \n",
    "              T_ma   = T_mean,\n",
    "              ΔTΔz   = 6.5E-3, \n",
    "              T_p    = 196,\n",
    "              T_σ    = 8.6,\n",
    "              ref_z  = 2193)\n",
    "\n",
    "# initialize the PDD melt model class\n",
    "default   = Accum_default(**const)\n",
    "def_lstq  = default.fit(p0=[5e-4])\n",
    "def_pred  = default.forward(def_lstq.x)"
   ]
  },
  {
   "cell_type": "code",
   "execution_count": 183,
   "id": "b0951e8f",
   "metadata": {},
   "outputs": [],
   "source": [
    "def forward(z, z_max, P0, ΔPΔz_1, ΔPΔz_2, P_max):\n",
    "    z_ELA = 2226\n",
    "    accum = np.piecewise(z, \n",
    "                         [z < z_ELA, (z_ELA < z) & (z < z_max), z_max < z], \n",
    "                         [lambda z:ΔPΔz_1*z + P0-ΔPΔz_1*z_ELA, \n",
    "                          lambda z:ΔPΔz_2*z + P0-ΔPΔz_2*z_ELA, \n",
    "                          P_max])\n",
    "    return accum\n",
    "\n",
    "p , e = optimize.curve_fit(forward, \n",
    "                           ds_sort.Elevation.values[::10], \n",
    "                           ds_sort.Accumulation.values[::10],\n",
    "                           p0=[3070, 0.0, 10e-4, 10e-3, 4.2])"
   ]
  },
  {
   "cell_type": "code",
   "execution_count": 184,
   "id": "a5d3e5ff",
   "metadata": {},
   "outputs": [
    {
     "ename": "ValueError",
     "evalue": "'args' is not a supported keyword argument.",
     "output_type": "error",
     "traceback": [
      "\u001b[0;31m---------------------------------------------------------------------------\u001b[0m",
      "\u001b[0;31mValueError\u001b[0m                                Traceback (most recent call last)",
      "\u001b[0;32m/var/folders/g3/nkh04ckd39jcftknlklg_vnh0000gn/T/ipykernel_10778/144889059.py\u001b[0m in \u001b[0;36m<module>\u001b[0;34m\u001b[0m\n\u001b[1;32m      6\u001b[0m \u001b[0;31m# # initialize the PDD melt model class\u001b[0m\u001b[0;34m\u001b[0m\u001b[0;34m\u001b[0m\u001b[0m\n\u001b[1;32m      7\u001b[0m \u001b[0mpiece\u001b[0m      \u001b[0;34m=\u001b[0m \u001b[0mAccum_piece\u001b[0m\u001b[0;34m(\u001b[0m\u001b[0;34m**\u001b[0m\u001b[0mconst\u001b[0m\u001b[0;34m)\u001b[0m\u001b[0;34m\u001b[0m\u001b[0;34m\u001b[0m\u001b[0m\n\u001b[0;32m----> 8\u001b[0;31m \u001b[0mpiece_lstq\u001b[0m \u001b[0;34m=\u001b[0m \u001b[0mpiece\u001b[0m\u001b[0;34m.\u001b[0m\u001b[0mfit\u001b[0m\u001b[0;34m(\u001b[0m\u001b[0mp0\u001b[0m\u001b[0;34m=\u001b[0m\u001b[0;34m[\u001b[0m\u001b[0;36m3100\u001b[0m\u001b[0;34m,\u001b[0m \u001b[0;34m-\u001b[0m\u001b[0;36m10.0\u001b[0m\u001b[0;34m,\u001b[0m \u001b[0;36m10e-4\u001b[0m\u001b[0;34m,\u001b[0m \u001b[0;36m10e-3\u001b[0m\u001b[0;34m,\u001b[0m \u001b[0;36m4.1\u001b[0m\u001b[0;34m]\u001b[0m\u001b[0;34m,\u001b[0m  \u001b[0mloss\u001b[0m\u001b[0;34m=\u001b[0m\u001b[0;34m'linear'\u001b[0m\u001b[0;34m)\u001b[0m\u001b[0;34m\u001b[0m\u001b[0;34m\u001b[0m\u001b[0m\n\u001b[0m\u001b[1;32m      9\u001b[0m \u001b[0mpiece_pred\u001b[0m \u001b[0;34m=\u001b[0m \u001b[0mpiece\u001b[0m\u001b[0;34m.\u001b[0m\u001b[0mforward\u001b[0m\u001b[0;34m(\u001b[0m\u001b[0;34m*\u001b[0m\u001b[0mpiece_lstq\u001b[0m\u001b[0;34m)\u001b[0m\u001b[0;34m\u001b[0m\u001b[0;34m\u001b[0m\u001b[0m\n",
      "\u001b[0;32m/var/folders/g3/nkh04ckd39jcftknlklg_vnh0000gn/T/ipykernel_10778/1219209830.py\u001b[0m in \u001b[0;36mfit\u001b[0;34m(self, p0, loss)\u001b[0m\n\u001b[1;32m     37\u001b[0m     \u001b[0;32mdef\u001b[0m \u001b[0mfit\u001b[0m\u001b[0;34m(\u001b[0m\u001b[0mself\u001b[0m\u001b[0;34m,\u001b[0m \u001b[0mp0\u001b[0m\u001b[0;34m,\u001b[0m \u001b[0mloss\u001b[0m\u001b[0;34m=\u001b[0m\u001b[0;34m'linear'\u001b[0m\u001b[0;34m)\u001b[0m\u001b[0;34m:\u001b[0m\u001b[0;34m\u001b[0m\u001b[0;34m\u001b[0m\u001b[0m\n\u001b[1;32m     38\u001b[0m \u001b[0;31m#         res_lsq = optimize.least_squares(self.__cost, p0, loss=loss)\u001b[0m\u001b[0;34m\u001b[0m\u001b[0;34m\u001b[0m\u001b[0m\n\u001b[0;32m---> 39\u001b[0;31m         \u001b[0mp\u001b[0m\u001b[0;34m,\u001b[0m \u001b[0mcov\u001b[0m \u001b[0;34m=\u001b[0m \u001b[0moptimize\u001b[0m\u001b[0;34m.\u001b[0m\u001b[0mcurve_fit\u001b[0m\u001b[0;34m(\u001b[0m\u001b[0mforward\u001b[0m\u001b[0;34m,\u001b[0m \u001b[0mself\u001b[0m\u001b[0;34m.\u001b[0m\u001b[0mz\u001b[0m\u001b[0;34m,\u001b[0m \u001b[0mself\u001b[0m\u001b[0;34m.\u001b[0m\u001b[0mP_obs\u001b[0m\u001b[0;34m,\u001b[0m \u001b[0mp0\u001b[0m\u001b[0;34m=\u001b[0m\u001b[0mp0\u001b[0m\u001b[0;34m,\u001b[0m \u001b[0margs\u001b[0m\u001b[0;34m=\u001b[0m\u001b[0;34m(\u001b[0m\u001b[0mself\u001b[0m\u001b[0;34m.\u001b[0m\u001b[0mz_ELA\u001b[0m\u001b[0;34m)\u001b[0m\u001b[0;34m)\u001b[0m\u001b[0;34m\u001b[0m\u001b[0;34m\u001b[0m\u001b[0m\n\u001b[0m\u001b[1;32m     40\u001b[0m         \u001b[0;32mreturn\u001b[0m \u001b[0mp\u001b[0m\u001b[0;34m\u001b[0m\u001b[0;34m\u001b[0m\u001b[0m\n",
      "\u001b[0;32m~/anaconda3/envs/pymc3_env/lib/python3.9/site-packages/scipy/optimize/minpack.py\u001b[0m in \u001b[0;36mcurve_fit\u001b[0;34m(f, xdata, ydata, p0, sigma, absolute_sigma, check_finite, bounds, method, jac, **kwargs)\u001b[0m\n\u001b[1;32m    778\u001b[0m         \u001b[0;31m# additional arguments. Refer to the `curve_fit` docstring for\u001b[0m\u001b[0;34m\u001b[0m\u001b[0;34m\u001b[0m\u001b[0m\n\u001b[1;32m    779\u001b[0m         \u001b[0;31m# acceptable call signatures of `f`.\u001b[0m\u001b[0;34m\u001b[0m\u001b[0;34m\u001b[0m\u001b[0m\n\u001b[0;32m--> 780\u001b[0;31m         \u001b[0;32mraise\u001b[0m \u001b[0mValueError\u001b[0m\u001b[0;34m(\u001b[0m\u001b[0;34m\"'args' is not a supported keyword argument.\"\u001b[0m\u001b[0;34m)\u001b[0m\u001b[0;34m\u001b[0m\u001b[0;34m\u001b[0m\u001b[0m\n\u001b[0m\u001b[1;32m    781\u001b[0m \u001b[0;34m\u001b[0m\u001b[0m\n\u001b[1;32m    782\u001b[0m     \u001b[0;32mif\u001b[0m \u001b[0mmethod\u001b[0m \u001b[0;34m==\u001b[0m \u001b[0;34m'lm'\u001b[0m\u001b[0;34m:\u001b[0m\u001b[0;34m\u001b[0m\u001b[0;34m\u001b[0m\u001b[0m\n",
      "\u001b[0;31mValueError\u001b[0m: 'args' is not a supported keyword argument."
     ]
    }
   ],
   "source": [
    "# dictionary of PDD model parameters\n",
    "const =  dict(z     = ds_sort.Elevation.values[::10],\n",
    "              P_obs = ds_sort.Precip.values[::10],\n",
    "              z_ELA = z_ELA)\n",
    "\n",
    "# # initialize the PDD melt model class\n",
    "# piece      = Accum_piece(**const)\n",
    "# piece_lstq = piece.fit(p0=[3100, -10.0, 10e-4, 10e-3, 4.1],  loss='linear')\n",
    "# piece_pred = piece.forward(*piece_lstq)\n",
    "piece_pred = forward(*p)"
   ]
  },
  {
   "cell_type": "code",
   "execution_count": 162,
   "id": "26ae72f3",
   "metadata": {},
   "outputs": [
    {
     "data": {
      "text/plain": [
       "array([3.10000000e+03, 7.18916879e-01, 3.94707211e-05, 3.95339067e-03,\n",
       "       4.02148938e+00])"
      ]
     },
     "execution_count": 162,
     "metadata": {},
     "output_type": "execute_result"
    }
   ],
   "source": [
    "piece_lstq"
   ]
  },
  {
   "cell_type": "code",
   "execution_count": 163,
   "id": "cb81b110",
   "metadata": {},
   "outputs": [
    {
     "data": {
      "text/plain": [
       "[<matplotlib.lines.Line2D at 0x1486e8f40>]"
      ]
     },
     "execution_count": 163,
     "metadata": {},
     "output_type": "execute_result"
    },
    {
     "data": {
      "image/png": "[encoded data removed]",
      "text/plain": [
       "<Figure size 432x288 with 1 Axes>"
      ]
     },
     "metadata": {},
     "output_type": "display_data"
    }
   ],
   "source": [
    "plt.scatter(ds_sort.Elevation.values, \n",
    "            ds_sort.Accumulation.values, s=0.5)\n",
    "\n",
    "plt.plot(default.z, def_pred, c='k')\n",
    "plt.plot(piece.z,   piece_pred, c='r')"
   ]
  },
  {
   "cell_type": "markdown",
   "id": "2e57f74c",
   "metadata": {},
   "source": [
    "__Piecewise Linear Function:__"
   ]
  },
  {
   "cell_type": "code",
   "execution_count": null,
   "id": "2c257ddc",
   "metadata": {},
   "outputs": [],
   "source": [
    "import warnings\n",
    "warnings.filterwarnings(action='ignore')\n",
    "theano.config.compute_test_value = 'warn'\n",
    "\n",
    "# dictionary of PDD model parameters\n",
    "const =  dict(z_ELA = z_ELA)\n",
    "\n",
    "# initialize the PDD melt model class\n",
    "Piece_def = PDD.Accumulation_piecewise(**const)"
   ]
  },
  {
   "cell_type": "code",
   "execution_count": null,
   "id": "57499cad",
   "metadata": {},
   "outputs": [],
   "source": [
    "# Define Priors\n",
    "with pm.Model() as model: \n",
    "    #~~~~~~~~~~~~~~~~~~~~~~~~~~~~~~~~~~~~~~~~~~~\n",
    "    # ----> Mass balance Model (physical priors)\n",
    "    #~~~~~~~~~~~~~~~~~~~~~~~~~~~~~~~~~~~~~~~~~~~\n",
    "    # Need a reference for the accumulation grad distibution \n",
    "    z_max_prior  = pm.Uniform(\"z_max\",  lower=3000, upper=3500)\n",
    "    P0_prior     = pm.Uniform(\"P0\",     lower=0.0, upper=1.0)\n",
    "    ΔPΔz_1_prior = pm.Uniform(\"ΔPΔz_1\", lower=0.5e-4, upper=5e-4)\n",
    "    ΔPΔz_2_prior = pm.Uniform(\"ΔPΔz_2\", lower=0.5e-3, upper=5e-3)\n",
    "    P_max_prior  = pm.Uniform(\"P_max\",  lower=3.5, upper=4.5)\n",
    "    #~~~~~~~~~~~~~~~~~~~~~~~~~~~~~~~~~~~~~~~~~~~~~~~~~~\n",
    "    # ----> Hyperparameters (likelihood related priors)\n",
    "    #~~~~~~~~~~~~~~~~~~~~~~~~~~~~~~~~~~~~~~~~~~~~~~~~~~\n",
    "    sigma      = pm.HalfCauchy(\"sigma\", 10)    \n",
    "\n",
    "\n",
    "# Define Forward model (wrapped through theano)\n",
    "with model: \n",
    "    A_snow = Piece_def.tt_forward(ds_sort.Elevation.values[::10], \n",
    "                                  z_max_prior, P0_prior, ΔPΔz_1_prior, \n",
    "                                  ΔPΔz_2_prior, P_max_prior)\n",
    "    \n",
    "\n",
    "# Define likelihood (function?)  \n",
    "with model: \n",
    "    # Likelihood (sampling distribution) of observations\n",
    "    Y_obs = pm.Normal(\"Y_obs\", mu=A_snow, sigma=sigma, observed=ds_sort.Accumulation.values[::10])\n",
    "    \n",
    "# run inference: Sample   \n",
    "with model: \n",
    "\n",
    "    # obtain starting values via MAP\n",
    "#     startvals = pm.find_MAP() \n",
    "    \n",
    "    trace = pm.sample(#start=startvals,\n",
    "                      draws=2000, \n",
    "                      tune=2000, \n",
    "                      cores=2, \n",
    "                      return_inferencedata=True);\n",
    "    \n",
    "with model: \n",
    "    ppc = pm.sample_posterior_predictive(\n",
    "    trace, var_names=[\"z_max\", \"P0\", \"ΔPΔz_1\", \"ΔPΔz_2\", \"P_max\"])"
   ]
  },
  {
   "cell_type": "code",
   "execution_count": null,
   "id": "6e99a41e",
   "metadata": {},
   "outputs": [],
   "source": [
    "fig, ax = plt.subplots()\n",
    "\n",
    "ax.scatter(ds_sort.Elevation.values, \n",
    "           ds_sort.Accumulation.values, s=0.5)\n",
    "\n",
    "for i, j in enumerate(np.random.randint(0,3999,499)):\n",
    "    grad_a = ppc[\"grad_a\"][j]        \n",
    "    \n",
    "    A = Accum_def.eval_forward(ds_sort.Elevation.values[::10], grad_a)\n",
    "    \n",
    "    ax.plot(ds_sort.Elevation.values[::10], A, c='tab:orange', alpha=0.5)\n",
    "    \n",
    "# plt.savefig('/Users/andrewnolan/Desktop/MCMC_Accum.png', dpi=300)"
   ]
  }
 ],
 "metadata": {
  "kernelspec": {
   "display_name": "Python 3 (ipykernel)",
   "language": "python",
   "name": "python3"
  },
  "language_info": {
   "codemirror_mode": {
    "name": "ipython",
    "version": 3
   },
   "file_extension": ".py",
   "mimetype": "text/x-python",
   "name": "python",
   "nbconvert_exporter": "python",
   "pygments_lexer": "ipython3",
   "version": "3.9.7"
  }
 },
 "nbformat": 4,
 "nbformat_minor": 5
}
