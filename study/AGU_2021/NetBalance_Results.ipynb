{
 "cells": [
  {
   "cell_type": "code",
   "execution_count": 13,
   "metadata": {},
   "outputs": [],
   "source": [
    "import glob\n",
    "import numpy as np\n",
    "import xarray as xr \n",
    "from scipy import interpolate\n",
    "import matplotlib.pyplot as plt\n",
    "\n",
    "plt.rcParams['text.usetex'] = True\n",
    "plt.rc('text.latex', preamble=r'\\usepackage{amsmath}')"
   ]
  },
  {
   "cell_type": "code",
   "execution_count": 14,
   "metadata": {},
   "outputs": [],
   "source": [
    "# Load Erik's reference mass balance runs for the 25 parameter\n",
    "# combinations which statisfy his tuning criteria\n",
    "MB_ref =  xr.open_dataset(\"../MB_tune/Young_etal_2020_ref_MB.nc\")\n",
    "\n",
    "x = MB_ref.mean('ref_run').stack(z=('x', 'y')).Elevation.values\n",
    "y = MB_ref.mean('ref_run').stack(z=('x', 'y')).MB.values\n",
    "\n",
    "# find indexes of nans and sort indexes\n",
    "mask = np.where(~np.isnan(x))\n",
    "idxs = np.argsort(x[mask])\n",
    "\n",
    "# Remove the nans and sort the data and downsample data so there are\n",
    "# less verically overlappig points, causing the spline fitting to fail\n",
    "x_sub = x[~np.isnan(x)][::10]\n",
    "y_sub = y[~np.isnan(x)][::10]\n",
    "\n",
    "m = len(x_sub)\n",
    "\n",
    "idxs = np.argsort(x_sub, kind='heapsort')\n",
    "\n",
    "x_ = x_sub[idxs]\n",
    "y_ = y_sub[idxs]\n",
    "w  = np.where(x_ > 3000., 10.0, 1.0 )"
   ]
  },
  {
   "cell_type": "code",
   "execution_count": 15,
   "metadata": {},
   "outputs": [],
   "source": [
    "offsets = {'glc1-a'   : -1.0,\n",
    "           'crmpt12'  : -0.3, \n",
    "           'crmpt18-a': \"00.2\", \n",
    "           'lilk-a'   : \"00.1\", \n",
    "           'klut-b'   : 1.5, \n",
    "           'sprg'     : 0.9, \n",
    "           'twds-b'   : 10.8, \n",
    "           'fish'     : 8.3 }\n",
    "\n",
    "\n",
    "# legend labels dictionary\n",
    "labels = {'glc1'    : ['South' , 0],\n",
    "          'crmpt12'   : ['Glacier 12', 1],\n",
    "          'crmpt18' : ['Glacier 18', 2],\n",
    "          'lilk'    : ['Little Kluane', 3],\n",
    "          'klun'    : ['Kluane', 4],\n",
    "          'sprg'      : ['Spring', 5], \n",
    "          'klut'    : ['Klutlan', 6], \n",
    "          'twds'    : ['Tweedsmuir', 8],\n",
    "          'fish'      : ['Fisher', 7]}\n",
    "\n",
    "# hex codes from colorbrewer\n",
    "colors = ['#7fc97f','#beaed4','#fdc086','#ffff99',\n",
    "          '#386cb0','#f0027f','#bf5b17','#666666', '#7fc97f']\n",
    "\n",
    "\n",
    "color = plt.cm.tab20b(np.linspace(0, 1,9), 9)\n",
    "plt.rcParams['axes.prop_cycle'] = plt.cycler('color', color)\n",
    "prop_cycle = plt.rcParams['axes.prop_cycle']\n",
    "colors = prop_cycle.by_key()['color']\n"
   ]
  },
  {
   "cell_type": "code",
   "execution_count": 20,
   "metadata": {},
   "outputs": [
    {
     "data": {
      "image/png": "[encoded data removed]",
      "text/plain": [
       "<Figure size 432x288 with 1 Axes>"
      ]
     },
     "metadata": {
      "needs_background": "light"
     },
     "output_type": "display_data"
    }
   ],
   "source": [
    "results_fp = \"../../initialization/coarse/result/{}/nc/{}_*_{}_OFF*.nc\"\n",
    "\n",
    "\n",
    "fig, ax = plt.subplots(1,1) \n",
    "\n",
    "# smoothing factor \n",
    "s     = 1.5e3        \n",
    "w     = np.where(x_ > 3000., 10.0, 1.0 )\n",
    "z_full= np.linspace(0, 3500,250)\n",
    "\n",
    "tck   = interpolate.splrep(x_, y_, w=w, k=3, s=s)\n",
    "cubic = interpolate.splev(z_full, tck)\n",
    "\n",
    "ax.plot(z_full, cubic, lw = 1.5, c='k', label = \"Cubic Spline\")\n",
    "\n",
    "for i, key in enumerate(offsets): \n",
    "\n",
    "    file_fp = glob.glob(results_fp.format(*[key] * 2, offsets[key]))[0]\n",
    "    \n",
    "    #if key == 'twds-b': continue  \n",
    "\n",
    "    with xr.open_dataset(file_fp) as src: \n",
    "            # correct for minimum ice thickness\n",
    "            src[\"depth\"] = xr.where(src.depth <= 10, 0, src.depth)\n",
    "            # apply sigma coordinate transform for vertical coordinate\n",
    "            src[\"Z\"]     = src.zbed + src.Z * src.height \n",
    "            # Calculate the magnitude of the velocity vectors\n",
    "            src['vel_m'] = np.sqrt(src['velocity 1']**2 + src['velocity 2']**2) \n",
    "    \n",
    "    if key == 'fish': \n",
    "        ax.scatter(src['Z'].isel(t=0, coord_2=-1), \n",
    "                   src['zs accumulation flux 2'].isel(t=0, coord_2=-1), \n",
    "                   label=labels[key.split('-')[0]][0], s=7.5, alpha=0.75)        \n",
    "    else: \n",
    "        ax.scatter(src['Z'].isel(t=-1, coord_2=-1), \n",
    "                   src['zs accumulation flux 2'].isel(t=-1, coord_2=-1), \n",
    "                   label=labels[key.split('-')[0]][0], s=7.5, alpha=0.75)\n",
    "        \n",
    "        \n",
    "    \n",
    "        \n",
    "plt.legend()\n",
    "\n",
    "\n",
    "ax.set_ylabel('Mass Balance [m i.e.q. yr$^{-1}$]')\n",
    "ax.set_xlabel('Elevation    [m a.s.l.]')\n",
    "\n",
    "\n",
    "fig.savefig('/Users/andrewnolan/Desktop/SS_balance_curves.png', dpi=400, bbox_inches='tight', facecolor='w')"
   ]
  },
  {
   "cell_type": "code",
   "execution_count": null,
   "metadata": {},
   "outputs": [],
   "source": []
  }
 ],
 "metadata": {
  "kernelspec": {
   "display_name": "Python 3",
   "language": "python",
   "name": "python3"
  },
  "language_info": {
   "codemirror_mode": {
    "name": "ipython",
    "version": 3
   },
   "file_extension": ".py",
   "mimetype": "text/x-python",
   "name": "python",
   "nbconvert_exporter": "python",
   "pygments_lexer": "ipython3",
   "version": "3.7.8"
  },
  "latex_envs": {
   "LaTeX_envs_menu_present": true,
   "autoclose": true,
   "autocomplete": true,
   "bibliofile": "ipython.bib",
   "cite_by": "apalike",
   "current_citInitial": 1,
   "eqLabelWithNumbers": true,
   "eqNumInitial": 1,
   "hotkeys": {
    "equation": "Ctrl-E",
    "itemize": "Ctrl-I"
   },
   "labels_anchors": false,
   "latex_user_defs": false,
   "report_style_numbering": false,
   "user_envs_cfg": false
  }
 },
 "nbformat": 4,
 "nbformat_minor": 4
}
