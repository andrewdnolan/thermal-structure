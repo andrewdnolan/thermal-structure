{
 "cells": [
  {
   "cell_type": "code",
   "execution_count": 1,
   "metadata": {},
   "outputs": [],
   "source": [
    "import glob\n",
    "import numpy as np\n",
    "import pandas as pd\n",
    "import xarray as xr \n",
    "import matplotlib.cm as cm\n",
    "import matplotlib.pyplot as plt \n",
    "import matplotlib.colors as mcolors\n",
    "from matplotlib import animation, rc\n",
    "\n",
    "plt.rcParams['text.usetex'] = True\n",
    "plt.rcParams['animation.html'] = 'jshtml'\n",
    "\n",
    "def make_colorbar(mf_dataset):\n",
    "    #---------------------------------------------------------------------------\n",
    "    # For Seting up the colorbar:\n",
    "    #    - http://csc.ucdavis.edu/~jmahoney/matplotlib-tips.html\n",
    "    #---------------------------------------------------------------------------\n",
    "    cmap = cm.plasma\n",
    "    norm = mcolors.Normalize(vmin=np.min(mf_dataset.Delta_MB),\n",
    "                                  vmax=np.max(mf_dataset.Delta_MB))\n",
    "\n",
    "    s_map = cm.ScalarMappable(norm=norm, cmap=cmap)\n",
    "    s_map.set_array(mf_dataset.Delta_MB)\n",
    "\n",
    "    # If color parameters is a linspace, we can set boundaries in this way\n",
    "    halfdist = (mf_dataset.Delta_MB[1] - mf_dataset.Delta_MB[0]) / 2.0\n",
    "    bounds   = np.linspace(mf_dataset.Delta_MB[0]   - halfdist,\n",
    "                           mf_dataset.Delta_MB[-1]  + halfdist,\n",
    "                           len(mf_dataset.Delta_MB) + 1)\n",
    "\n",
    "    return cmap, norm, s_map, bounds"
   ]
  },
  {
   "cell_type": "markdown",
   "metadata": {},
   "source": [
    "# Plot Synthetic Geometry "
   ]
  },
  {
   "cell_type": "code",
   "execution_count": null,
   "metadata": {},
   "outputs": [],
   "source": [
    "bed  = np.loadtxt('../../input_data/lilk-a_bed.dat')\n",
    "surf = np.loadtxt('../../input_data/lilk-a_surf.dat')\n",
    "\n",
    "\n",
    "fig, ax = plt.subplots(1,1,figsize=(10, 5))\n",
    "\n",
    "ax.plot( bed[::-1,0] / 1e3,  bed[:,1], 'k' , label='Bed')\n",
    "ax.plot(surf[::-1,0] / 1e3, surf[:,1], 'k:', label='Surface')\n",
    "ax.legend()\n",
    "\n",
    "ax.fill_between(bed[::-1,0] / 1e3, bed[:,1], surf[:,1], color='lightblue')\n",
    "ax.fill_between(bed[::-1,0] / 1e3, bed[:,1].min()*np.ones_like(bed[:,1]), \n",
    "                bed[:,1], color='saddlebrown', alpha=0.5)\n",
    "\n",
    "ax.set_xlim(0, bed[:,0].max() / 1e3)\n",
    "ax.set_ylim(bed[:,1].min(), None)\n",
    "\n",
    "ax.set_ylabel('Elevation [m a.s.l.]')\n",
    "ax.set_xlabel('Distance along flowline [km]')\n",
    "\n",
    "fig.savefig('./figs/synth_geom.png', dpi=300,\n",
    "            bbox_inches='tight', facecolor='w')"
   ]
  },
  {
   "cell_type": "markdown",
   "metadata": {},
   "source": [
    "# Mass Balance Gridsearch"
   ]
  },
  {
   "cell_type": "code",
   "execution_count": null,
   "metadata": {},
   "outputs": [],
   "source": [
    "sources = []\n",
    "\n",
    "for fp in sorted(glob.glob(\"./nc/relax_*.nc\")):\n",
    "    with xr.open_dataset(fp) as src: \n",
    "        src[\"Z\"]     = src.zbed + src.Z * src.height \n",
    "        src['vel_m'] = np.sqrt(src['velocity 1']**2 + src['velocity 2']**2)\n",
    "        sources.append(src)\n",
    "    \n",
    "mf_dataset = xr.concat(sources,\n",
    "                       pd.Index(data = np.linspace(2000, 2500, 11),\n",
    "                                name = 'Delta_MB'))\n",
    "\n",
    "Vol = mf_dataset.isel(coord_2=-1).height.integrate('coord_1') / \\\n",
    "      mf_dataset.isel(coord_2=-1, t=0).height.integrate('coord_1')"
   ]
  },
  {
   "cell_type": "code",
   "execution_count": null,
   "metadata": {},
   "outputs": [],
   "source": [
    "fig, ax = plt.subplots(figsize=(10, 5))\n",
    "\n",
    "# Make a colormap and all the associated var names\n",
    "cmap, norm, s_map, bounds = make_colorbar(mf_dataset)\n",
    "    \n",
    "for delta_mb in Vol.Delta_MB:\n",
    "    color = cmap(norm(delta_mb))\n",
    "    ax.plot(Vol.t, Vol.sel(Delta_MB=delta_mb), color=color)\n",
    "\n",
    "ax.axhline(1.0,c='k',ls=':',lw=1, alpha=0.5)\n",
    "\n",
    "cbar = fig.colorbar(s_map,\n",
    "                spacing='proportional',\n",
    "                ticks=mf_dataset.Delta_MB,\n",
    "                ax=ax,\n",
    "                boundaries=bounds,\n",
    "                drawedges=True,\n",
    "                format='%2.0f')\n",
    "\n",
    "# annotate the figures axes\n",
    "ax.set_ylabel('Relative Volume per Unit Width (km$^2$)')\n",
    "ax.set_xlabel('Time (a)')\n",
    "# annotate the colorbar axes\n",
    "cbar.set_label('$A_{\\\\rm mean}$ (kg m$^{-2}$ yr$^{-1}$)', rotation=270, labelpad=20)\n",
    "cbar.ax.tick_params(labelsize=7)\n",
    "\n",
    "fig.tight_layout()\n",
    "\n",
    "\n",
    "fig.savefig('./figs/A_mean_gridsearch.png',\n",
    "            dpi=400, \n",
    "            bbox_inches='tight',\n",
    "            facecolor='w')"
   ]
  },
  {
   "cell_type": "code",
   "execution_count": null,
   "metadata": {},
   "outputs": [],
   "source": [
    "# subset the nc of all the nc's\n",
    "spinup = mf_dataset.sel(Delta_MB=2150).isel(t=slice(0,-1,5))\n",
    "\n",
    "fig, ax = plt.subplots(figsize=(9,3), constrained_layout=True)\n",
    "\n",
    "vmin = spinup[\"vel_m\"].min()\n",
    "vmax = spinup[\"vel_m\"].max()\n",
    "\n",
    "contour_opts = {'levels' : np.linspace(vmin, vmax, 101),\n",
    "                'vmin'   : vmin, \n",
    "                'vmax'   : vmax,\n",
    "                'cmap'   : 'magma'}\n",
    "\n",
    "# Plot the initial condition\n",
    "cax = ax.contourf(spinup.X[::-1,:], \n",
    "                  spinup.Z.isel(t=0),\n",
    "                  spinup[\"vel_m\"].isel(t=0),\n",
    "                  **contour_opts)\n",
    "# Set up the colorbar\n",
    "cbar = fig.colorbar(cax, \n",
    "                    ticks = np.linspace(0, 150.0, 4))\n",
    "cbar.set_label('Velocity [m yr$^-1$]', rotation=270, labelpad=20)\n",
    "\n",
    "# Set axis limits for whole animation\n",
    "ax.set(xlim=(None,20e3), ylim=ax.get_ylim())\n",
    "# Add time annotation\n",
    "label = ax.text(0.05, 0.9, r\"$t=0$\",\n",
    "                transform=ax.transAxes,\n",
    "                ha='center', va='center')\n",
    "plt.close()\n",
    "\n",
    "def animate(i):\n",
    "    # Wipe the axis\n",
    "    ax.collections = []\n",
    "    # Plot the contour\n",
    "    ax.contourf(spinup.X[::-1,:], \n",
    "                spinup.Z.isel(t=i),\n",
    "                spinup[\"vel_m\"].isel(t=i),\n",
    "                **contour_opts)\n",
    "    # Update time annotation\n",
    "    label.set_text(\"$t={{{:6.1f}}}$\".format(spinup.t[i].values))\n",
    "    \n",
    "anim = animation.FuncAnimation(\n",
    "    fig, animate, interval=150, frames=len(spinup.t)-1)\n",
    "#fig.tight_layout()\n",
    "\n",
    "anim.save('./figs/uncoupled_spinup.mp4', dpi=400)"
   ]
  },
  {
   "cell_type": "code",
   "execution_count": null,
   "metadata": {},
   "outputs": [],
   "source": [
    "plt.rcParams['text.usetex'] = False\n",
    "mf_dataset.isel(coord_2=-1).height.integrate('coord_1').sel(Delta_MB=2150).differentiate('t').plot()\n",
    "plt.yscale('log')"
   ]
  },
  {
   "cell_type": "markdown",
   "metadata": {},
   "source": [
    "# S.S. Thermal Strcutre"
   ]
  },
  {
   "cell_type": "code",
   "execution_count": 2,
   "metadata": {},
   "outputs": [],
   "source": [
    "sources = []\n",
    "\n",
    "for fp in sorted(glob.glob(\"./nc/heat_sources_*.nc\")):\n",
    "    with xr.open_dataset(fp) as src: \n",
    "        src[\"Z\"]     = src.zbed + src.Z * src.height \n",
    "        src['vel_m'] = np.sqrt(src['velocity 1']**2 + src['velocity 2']**2)\n",
    "        sources.append(src)\n",
    "    \n",
    "heat_sources = xr.concat(sources, \n",
    "                         pd.Index(data = [f'Step{i+1}' for i in range(len(sources))],\n",
    "                                  name = 'step'))"
   ]
  },
  {
   "cell_type": "code",
   "execution_count": 3,
   "metadata": {},
   "outputs": [
    {
     "data": {
      "text/plain": [
       "['./nc/heat_sources_step1.nc', './nc/heat_sources_step2.nc']"
      ]
     },
     "execution_count": 3,
     "metadata": {},
     "output_type": "execute_result"
    }
   ],
   "source": [
    "sorted(glob.glob(\"./nc/heat_sources_*.nc\"))"
   ]
  },
  {
   "cell_type": "code",
   "execution_count": 4,
   "metadata": {},
   "outputs": [
    {
     "data": {
      "image/png": "[encoded data removed]",
      "text/plain": [
       "<Figure size 648x216 with 2 Axes>"
      ]
     },
     "metadata": {
      "needs_background": "light"
     },
     "output_type": "display_data"
    }
   ],
   "source": [
    "fig, ax = plt.subplots(2,1,figsize=(9,3), constrained_layout=True)\n",
    "\n",
    "\n",
    "im = ax[0].contourf(heat_sources.sel(step='Step1').X[::-1,:], \n",
    "                    heat_sources.sel(step='Step1').Z.isel(t=0),\n",
    "                    heat_sources.sel(step='Step1')[\"temperature\"].sel(t=16),\n",
    "                    levels=51,\n",
    "                    cmap = 'RdBu')\n",
    "\n",
    "im = ax[1].contourf(heat_sources.sel(step='Step2').X[::-1,:], \n",
    "                    heat_sources.sel(step='Step2').Z.isel(t=0),\n",
    "                    heat_sources.sel(step='Step2')[\"temperature\"].sel(t=29),\n",
    "                    levels=51,\n",
    "                    cmap = 'RdBu')\n",
    "\n",
    "# label = ax[0].text(0.05, 0.9, r\"Dirichlet B.C. at surface\",\n",
    "#                 transform=ax[0].transAxes)\n",
    "#                 #ha='center', va='center')\n",
    "\n",
    "# ax[0].set(xlim=(None,20e3), ylim=ax[0].get_ylim())\n",
    "\n",
    "# cbar = fig.colorbar(im)\n",
    "    \n",
    "# cbar.set_label('Temperature [ $^{\\circ}$C ]', rotation=270, labelpad=15)\n",
    "\n",
    "# fig.savefig('./figs/temp_step1.png',\n",
    "#             dpi=300, bbox_inches='tight', \n",
    "#             facecolor='w')"
   ]
  },
  {
   "cell_type": "code",
   "execution_count": null,
   "metadata": {},
   "outputs": [],
   "source": [
    "heat_sources.sel(step='Step1').temperature.t"
   ]
  },
  {
   "cell_type": "code",
   "execution_count": null,
   "metadata": {},
   "outputs": [],
   "source": []
  }
 ],
 "metadata": {
  "kernelspec": {
   "display_name": "Python 3",
   "language": "python",
   "name": "python3"
  },
  "language_info": {
   "codemirror_mode": {
    "name": "ipython",
    "version": 3
   },
   "file_extension": ".py",
   "mimetype": "text/x-python",
   "name": "python",
   "nbconvert_exporter": "python",
   "pygments_lexer": "ipython3",
   "version": "3.7.8"
  }
 },
 "nbformat": 4,
 "nbformat_minor": 4
}
