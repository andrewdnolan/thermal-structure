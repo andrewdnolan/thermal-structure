{
 "cells": [
  {
   "cell_type": "markdown",
   "metadata": {
    "tags": []
   },
   "source": [
    "# Mass Balance Fitting : \n",
    "\n",
    "__Goals__: Outline the model parameters that:\n",
    "- $\\color{green}{ \\text{Well know throughout the region}}$\n",
    "- $\\color{blue}{  \\text{Determined by model results from Young et al. 2020 / Katie's work}}$\n",
    "- $\\color{red}{   \\text{Free parameters that need to be fit as part of this study }}$\n",
    "\n",
    "\n",
    "$\\require{ulem}  \n",
    "\\require{color}$\n",
    "\n",
    "-------"
   ]
  },
  {
   "cell_type": "markdown",
   "metadata": {},
   "source": [
    "## Surface Mass Balance Model \n",
    "\n",
    "Following Gilbert et al [ 2016, ](test) [ 2020 ](test  )the annual net balance $B$ (kg m$^{-2}$  a$^{-1}$):\n",
    "$$\n",
    "\\begin{equation}\n",
    "    B(z) = A(z) + R(z) - M(z) ,\n",
    "\\end{equation}\n",
    "$$\n",
    "where:\n",
    "- $A(z)$ is snow accumulation ( kg m$^{-2}$  a$^{-1}$ )\n",
    "- $R(z)$ is rate of refreezing ( kg m$^{-2}$  a$^{-1}$ )\n",
    "- $M(z)$ is surface ablation (melt) ( kg m$^{-2}$  a$^{-1}$ )\n",
    "\n",
    "\n",
    "### Air Temperature Forcing \n",
    "Assuming the surface air temperature $T \\textrm{  (K)}$ is modeled as: \n",
    "\n",
    "$$\n",
    "\\begin{equation}\n",
    "    T(d,z) = \\alpha \\cos\\left( \\frac{2 \\pi \\left(d - \\hat{T} \\right) }{365} \\right) + T_{\\rm ma} + (z - z_{\\rm ref}) \\frac{d T}{dz} ,\n",
    "\\end{equation} \n",
    "$$\n",
    "\n",
    "where:\n",
    "- $\\color{blue}{ \\alpha}$ is the annual air temperature amplitude (K), \n",
    "- $\\color{blue}{ T_{\\rm ma}}$ is the mean annual air temperature at reference elevation $z_{\\rm ref}$ (K) ,\n",
    "- $\\color{green}{ \\frac{d T}{dz}}$ is the atmospheric lapse rate (K m$^{-1}$).\n",
    "- $\\color{blue}{ \\hat{T}}$ is the DOY of air temperature peak (d)"
   ]
  },
  {
   "cell_type": "markdown",
   "metadata": {
    "tags": []
   },
   "source": [
    "## Accumulation $A(z)$:\n",
    "\n",
    "Snow accumulation $A(z)$ is modeled as: \n",
    "\n",
    "\\begin{equation}\n",
    "     A_{\\rm snow}(z) = \\sum^{365}_{d=1} \n",
    "    \\begin{cases}\n",
    "    \\frac{P_{\\rm ref}}{365} +( 1 +  (z-z_{\\rm ref})) \\frac{d P}{d z} & \\text{if } T(d,z) < T_{\\rm snow} ,\\\\\n",
    "    0 & \\text{if } T(d,z) \\geq T_{\\rm snow} ,\n",
    "    \\end{cases}\n",
    "\\end{equation}\n",
    "\n",
    "where: \n",
    " - $\\color{blue}{ P_{\\rm ref}}$ is mean annual precipitation at reference elevation $z_{\\rm ref}$  ( kg m$^{-2}$  a$^{-1}$ ), \n",
    " - $\\color{blue}{ \\frac{d P}{d z}}$ altitudinal precipitation factor, $ \\color{red}{Maybe???}$  ( m$^{-1}$ )\n",
    " - $\\color{blue}{ T_{\\rm snow}}$  snow versus rain temperature threshold  $(K)$*\n"
   ]
  },
  {
   "cell_type": "markdown",
   "metadata": {},
   "source": [
    "## Melt $M(z)$: \n",
    "\n",
    "The annual melt $M(z)$ is modeled as \n",
    "\\begin{equation}\n",
    "    M_{\\rm melt}(z) = \\sum^{365}_{d=1} \\max\\left[ \\left( T(d,z) - T_{\\rm melt} \\right) f_{\\rm m}(x), 0\\right] ,\n",
    "\\end{equation}\n",
    "where: \n",
    " - $\\color{blue}{T_{\\rm melt}}$ is the temperature threshold for melting (K)\n",
    " - $f_{\\rm m}(x)$ is the nodally specific degree day factor described below ( kg m$^{-2}$  a$^{-1}$ K$^{-1}$)"
   ]
  },
  {
   "cell_type": "markdown",
   "metadata": {},
   "source": [
    "## Refreezing $R(z)$: \n",
    "\n",
    "We assume refreezing from previous years creates impermeable layers, meaning refreezing can only occur to a depth at maximum equal the annual accumulation, such that:\n",
    "\n",
    "\\begin{equation}\n",
    "    R(z) = \\min \\left[ M_{\\rm melt}(z), f_{\\rm r} A_{\\rm snow}(z) \\right], \n",
    "\\end{equation}\n",
    "where:\n",
    "- $\\color{red}{f_{\\rm r}}$ is the refreezing factor (the proportion of annual melt that refreezes) [-]. \n"
   ]
  },
  {
   "cell_type": "markdown",
   "metadata": {},
   "source": [
    "## Degree Day Factor $f_{\\rm m}(x)$:  \n",
    "\n",
    "We calculate the nodal degree day factor as:\n",
    "\n",
    "\\begin{equation}\n",
    "    f_{\\rm m}(z) = \n",
    "    \\begin{cases}\n",
    "        f_{\\rm snow}                                          & \\text{if } r_{\\rm s/m}(z) \\geq 1 , \\\\\n",
    "        f_{\\rm ice} - (f_{\\rm ice} - f_{\\rm snow})r_{\\rm s/m}(z) & \\text{if } r_{\\rm s/m}(z) < 1 ,\\\\\n",
    "    \\end{cases}\n",
    "\\end{equation}\n",
    "where\n",
    "\\begin{equation}\n",
    "    r_{\\rm s/m}(z) = \\frac{A(z)}{M(z)} . \n",
    "\\end{equation}\n",
    "- $\\color{red}{f_{\\rm ice} }$  is the degree day factor for ice  ( kg m$^{-2}$  a$^{-1}$ K$^{-1}$)\n",
    "- $\\color{red}{f_{\\rm snow} }$ is the degree day factor for snow ( kg m$^{-2}$  a$^{-1}$ K$^{-1}$)\n",
    "\n",
    "\n",
    "\n",
    "The nodal specific $f_{\\rm m}$ should be bounded by $f_{\\rm ice}$ and $f_{\\rm snow}$. "
   ]
  },
  {
   "cell_type": "code",
   "execution_count": 114,
   "metadata": {},
   "outputs": [
    {
     "data": {
      "text/plain": [
       "[<matplotlib.lines.Line2D at 0x7fdc31ab1410>]"
      ]
     },
     "execution_count": 114,
     "metadata": {},
     "output_type": "execute_result"
    },
    {
     "data": {
      "image/png": "[encoded data removed]",
      "text/plain": [
       "<Figure size 432x288 with 1 Axes>"
      ]
     },
     "metadata": {
      "needs_background": "light"
     },
     "output_type": "display_data"
    }
   ],
   "source": [
    "import numpy as np \n",
    "import xarray as xr \n",
    "import pandas as pd\n",
    "from scipy import signal\n",
    "import matplotlib.pyplot as plt \n",
    "\n",
    "z         = 2193.0\n",
    "temp_peak = 365./1.85 # DOY of annual temp peak      [doy]\n",
    "ref_z     = 2193.0  # reference surface elevation  [m a.s.l.]\n",
    "T_mean    = 264.45  # Mean annual air temp @ ref_z [K]\n",
    "α         = 7.5     # anual air temp. amplitude    [K]\n",
    "ΔTΔz      = 6.5E-3  # air temp lapse rate          [K m^-1]\n",
    "DOY       = np.linspace(1,365,365)[:,np.newaxis]\n",
    "T         = α*np.cos( 2*np.pi*(DOY-temp_peak)/365 )+ΔTΔz*(ref_z-z)+T_mean\n",
    "\n",
    "\n",
    "plt.plot(DOY, T)"
   ]
  },
  {
   "cell_type": "code",
   "execution_count": 142,
   "metadata": {},
   "outputs": [],
   "source": [
    "fp = \"/Users/andrewnolan/Downloads/Daily_Kaskawulsh_air_temperature_files/Daily_Temperature{}.npy\"\n",
    "\n",
    "temp_arrays = [ ]\n",
    "for year in np.arange(2007, 2019):\n",
    "    test = np.load(fp.format(year))\n",
    "    \n",
    "    temp_arrays.append(test)\n",
    "\n",
    "temps = np.hstack(temp_arrays)\n",
    "time  = pd.date_range(start='1/1/2007', end='12/31/2018')\n",
    "\n",
    "\n",
    "temperature = xr.DataArray(temps, coords=[time], dims=[\"time\"])\n",
    "\n",
    "\n",
    "X = np.load('/Users/andrewnolan/Downloads/X_grid.npy')\n",
    "Y = np.load('/Users/andrewnolan/Downloads/Y_grid.npy')\n",
    "Z = np.load('/Users/andrewnolan/Downloads/Elevation_grid.npy')\n",
    "\n",
    "MB    = np.load(\"/Users/andrewnolan/Downloads/Daily_Kaskawulsh_air_temperature_files/MBArray_Tempshift_-0.9.npy\")\n",
    "melt  = np.load(\"/Users/andrewnolan/Downloads/Daily_Kaskawulsh_air_temperature_files/NetMeltArray_Tempshift_-0.9.npy\")\n",
    "accum = np.load(\"/Users/andrewnolan/Downloads/Daily_Kaskawulsh_air_temperature_files/AccumulationArray_Tempshift_-0.9.npy\")\n",
    "rain  = np.load(\"/Users/andrewnolan/Downloads/Daily_Kaskawulsh_air_temperature_files/RainArray_Tempshift_-0.9.npy\")\n",
    "\n",
    "coords={\n",
    "    \"lon\": ([\"x\", \"y\"], X),\n",
    "    \"lat\": ([\"x\", \"y\"], Y),\n",
    "    \"time\" : time\n",
    "}\n",
    "    \n",
    "ds = xr.Dataset( {\n",
    "    \"Accumulation\": xr.DataArray(\n",
    "                    data   = accum.mean(axis=0) * 1e3/910.,\n",
    "                    dims   = [\"x\", \"y\"],\n",
    "                    coords = {key: coords[key] for key in coords.keys() if key != 'time'}, \n",
    "                    attrs  = {'_FillValue': np.nan, \n",
    "                              'units'     : '(m i.e.q.) yr^-1'\n",
    "                        }),\n",
    "    \"Melt\"        : xr.DataArray(\n",
    "                    data   = melt.mean(axis=0) * 1e3/910.,\n",
    "                    dims   = [\"x\", \"y\"],\n",
    "                    coords = {key: coords[key] for key in coords.keys() if key != 'time'}, \n",
    "                    attrs  = {'_FillValue': np.nan, \n",
    "                              'units'     : '(m i.e.q.) yr^-1'\n",
    "                        }),\n",
    "    \"MB\"        : xr.DataArray(\n",
    "                    data   = MB.mean(axis=0) * 1e3/910.,\n",
    "                    dims   = [\"x\", \"y\"],\n",
    "                    coords = {key: coords[key] for key in coords.keys() if key != 'time'},\n",
    "                    attrs  = {'_FillValue': np.nan, \n",
    "                              'units'     : '(m i.e.q.) yr^-1'\n",
    "                        }),\n",
    "    \"Rain\"      : xr.DataArray(\n",
    "                    data   = rain.mean(axis=0) * 1e3/910.,\n",
    "                    dims   = [\"x\", \"y\"],\n",
    "                    coords = {key: coords[key] for key in coords.keys() if key != 'time'},\n",
    "                    attrs  = {'_FillValue': np.nan, \n",
    "                              'units'     : '(m i.e.q.) yr^-1'\n",
    "                        }),    \n",
    "    \n",
    "    \"Elevation\" : xr.DataArray(\n",
    "                    data   = Z,\n",
    "                    dims   = [\"x\", \"y\"],\n",
    "                    coords = {key: coords[key] for key in coords.keys() if key != 'time'}, \n",
    "                    attrs  = {'_FillValue': np.nan, \n",
    "                              'units'     : 'm a.s.l.'\n",
    "                        }),\n",
    "    \n",
    "    \"temp\"      : xr.DataArray(\n",
    "                    data   = temperature,\n",
    "                    dims   = [\"time\"],\n",
    "                    coords = {\"time\" : time}, \n",
    "                    attrs  = {'_FillValue': np.nan, \n",
    "                              'units'     : 'deg C'\n",
    "                        })},        \n",
    "    attrs = {'Note': \n",
    "             \"Runs from Katie Robinson on 10/13/2021 with a -0.9C offset to temperature record from Young et al. 2020\"}\n",
    ")"
   ]
  },
  {
   "cell_type": "code",
   "execution_count": 160,
   "metadata": {},
   "outputs": [],
   "source": [
    "ds.to_netcdf(\"Young_etal_2020_Delta_T_-0.9_C.nc\")"
   ]
  },
  {
   "cell_type": "code",
   "execution_count": 158,
   "metadata": {},
   "outputs": [
    {
     "data": {
      "text/plain": [
       "<matplotlib.collections.PathCollection at 0x7fdc31ae82d0>"
      ]
     },
     "execution_count": 158,
     "metadata": {},
     "output_type": "execute_result"
    },
    {
     "data": {
      "image/png": "[encoded data removed]",
      "text/plain": [
       "<Figure size 432x288 with 1 Axes>"
      ]
     },
     "metadata": {
      "needs_background": "light"
     },
     "output_type": "display_data"
    }
   ],
   "source": [
    "plt.scatter(ds.stack(z=('x', 'y')).Elevation, ds.stack(z=('x', 'y')).Accumulation + ds.stack(z=('x', 'y')).Rain)\n"
   ]
  },
  {
   "cell_type": "code",
   "execution_count": null,
   "metadata": {},
   "outputs": [],
   "source": [
    "ds.stack(z=('x', 'y')).Accumulation.plot"
   ]
  },
  {
   "cell_type": "code",
   "execution_count": null,
   "metadata": {},
   "outputs": [],
   "source": [
    "ds.stack(z=('x', 'y')).Accumulation.plot.scatter"
   ]
  },
  {
   "cell_type": "code",
   "execution_count": 134,
   "metadata": {},
   "outputs": [
    {
     "data": {
      "text/plain": [
       "(12, 218, 328)"
      ]
     },
     "execution_count": 134,
     "metadata": {},
     "output_type": "execute_result"
    }
   ],
   "source": [
    "accum.shape"
   ]
  },
  {
   "cell_type": "code",
   "execution_count": 132,
   "metadata": {},
   "outputs": [
    {
     "data": {
      "text/plain": [
       "(12, 218, 328)"
      ]
     },
     "execution_count": 132,
     "metadata": {},
     "output_type": "execute_result"
    }
   ],
   "source": [
    "MB.shape"
   ]
  },
  {
   "cell_type": "code",
   "execution_count": 133,
   "metadata": {},
   "outputs": [
    {
     "data": {
      "text/plain": [
       "(12, 218, 328)"
      ]
     },
     "execution_count": 133,
     "metadata": {},
     "output_type": "execute_result"
    }
   ],
   "source": [
    "melt.shape"
   ]
  },
  {
   "cell_type": "code",
   "execution_count": 117,
   "metadata": {},
   "outputs": [
    {
     "data": {
      "text/plain": [
       "[<matplotlib.lines.Line2D at 0x7fdc31f5a850>]"
      ]
     },
     "execution_count": 117,
     "metadata": {},
     "output_type": "execute_result"
    },
    {
     "data": {
      "image/png": "[encoded data removed]",
      "text/plain": [
       "<Figure size 432x288 with 1 Axes>"
      ]
     },
     "metadata": {
      "needs_background": "light"
     },
     "output_type": "display_data"
    }
   ],
   "source": [
    "temperature.groupby(\"time.dayofyear\").mean().plot()\n",
    "plt.plot(DOY, T-273.15)"
   ]
  },
  {
   "cell_type": "code",
   "execution_count": 126,
   "metadata": {},
   "outputs": [
    {
     "name": "stdout",
     "output_type": "stream",
     "text": [
      "-3181.7368\n",
      "-3175.499999999996\n"
     ]
    }
   ],
   "source": [
    "print(temperature.groupby(\"time.dayofyear\").mean().sum().values)\n",
    "print((T-273.15).sum())"
   ]
  },
  {
   "cell_type": "code",
   "execution_count": 41,
   "metadata": {},
   "outputs": [
    {
     "data": {
      "text/plain": [
       "[<matplotlib.lines.Line2D at 0x7fdc2e6a3c10>]"
      ]
     },
     "execution_count": 41,
     "metadata": {},
     "output_type": "execute_result"
    },
    {
     "data": {
      "image/png": "[encoded data removed]",
      "text/plain": [
       "<Figure size 432x288 with 1 Axes>"
      ]
     },
     "metadata": {
      "needs_background": "light"
     },
     "output_type": "display_data"
    }
   ],
   "source": [
    "plt.plot(\n",
    "    pd.date_range(start='1/1/2007', end='12/31/2018'), \n",
    "    np.hstack(temp_arrays) )"
   ]
  },
  {
   "cell_type": "code",
   "execution_count": 87,
   "metadata": {},
   "outputs": [],
   "source": [
    "f, Pxx = signal.periodogram(temperature.groupby(\"time.dayofyear\").mean(), \n",
    "                            1/(60*60*24), scaling = 'spectrum')"
   ]
  },
  {
   "cell_type": "code",
   "execution_count": 88,
   "metadata": {},
   "outputs": [
    {
     "data": {
      "text/plain": [
       "[<matplotlib.lines.Line2D at 0x7fdc33686710>]"
      ]
     },
     "execution_count": 88,
     "metadata": {},
     "output_type": "execute_result"
    },
    {
     "data": {
      "image/png": "[encoded data removed]",
      "text/plain": [
       "<Figure size 432x288 with 1 Axes>"
      ]
     },
     "metadata": {
      "needs_background": "light"
     },
     "output_type": "display_data"
    }
   ],
   "source": [
    "plt.semilogy(f, np.sqrt(Pxx))"
   ]
  },
  {
   "cell_type": "code",
   "execution_count": 93,
   "metadata": {},
   "outputs": [
    {
     "data": {
      "text/plain": [
       "365.99999999999994"
      ]
     },
     "execution_count": 93,
     "metadata": {},
     "output_type": "execute_result"
    }
   ],
   "source": [
    "(1/f[np.argmax(np.sqrt(Pxx))]) / (60*60*24)"
   ]
  },
  {
   "cell_type": "code",
   "execution_count": 94,
   "metadata": {},
   "outputs": [
    {
     "data": {
      "text/plain": [
       "7.483615"
      ]
     },
     "execution_count": 94,
     "metadata": {},
     "output_type": "execute_result"
    }
   ],
   "source": [
    "np.max(np.sqrt(Pxx))"
   ]
  },
  {
   "cell_type": "code",
   "execution_count": 100,
   "metadata": {},
   "outputs": [],
   "source": [
    "test = xr.open_dataset(\"../Young_etal_2020_ref_MB.nc\")"
   ]
  },
  {
   "cell_type": "code",
   "execution_count": 105,
   "metadata": {},
   "outputs": [
    {
     "data": {
      "text/html": [
       "<div><svg style=\"position: absolute; width: 0; height: 0; overflow: hidden\">\n",
       "<defs>\n",
       "<symbol id=\"icon-database\" viewBox=\"0 0 32 32\">\n",
       "<path d=\"M16 0c-8.837 0-16 2.239-16 5v4c0 2.761 7.163 5 16 5s16-2.239 16-5v-4c0-2.761-7.163-5-16-5z\"></path>\n",
       "<path d=\"M16 17c-8.837 0-16-2.239-16-5v6c0 2.761 7.163 5 16 5s16-2.239 16-5v-6c0 2.761-7.163 5-16 5z\"></path>\n",
       "<path d=\"M16 26c-8.837 0-16-2.239-16-5v6c0 2.761 7.163 5 16 5s16-2.239 16-5v-6c0 2.761-7.163 5-16 5z\"></path>\n",
       "</symbol>\n",
       "<symbol id=\"icon-file-text2\" viewBox=\"0 0 32 32\">\n",
       "<path d=\"M28.681 7.159c-0.694-0.947-1.662-2.053-2.724-3.116s-2.169-2.030-3.116-2.724c-1.612-1.182-2.393-1.319-2.841-1.319h-15.5c-1.378 0-2.5 1.121-2.5 2.5v27c0 1.378 1.122 2.5 2.5 2.5h23c1.378 0 2.5-1.122 2.5-2.5v-19.5c0-0.448-0.137-1.23-1.319-2.841zM24.543 5.457c0.959 0.959 1.712 1.825 2.268 2.543h-4.811v-4.811c0.718 0.556 1.584 1.309 2.543 2.268zM28 29.5c0 0.271-0.229 0.5-0.5 0.5h-23c-0.271 0-0.5-0.229-0.5-0.5v-27c0-0.271 0.229-0.5 0.5-0.5 0 0 15.499-0 15.5 0v7c0 0.552 0.448 1 1 1h7v19.5z\"></path>\n",
       "<path d=\"M23 26h-14c-0.552 0-1-0.448-1-1s0.448-1 1-1h14c0.552 0 1 0.448 1 1s-0.448 1-1 1z\"></path>\n",
       "<path d=\"M23 22h-14c-0.552 0-1-0.448-1-1s0.448-1 1-1h14c0.552 0 1 0.448 1 1s-0.448 1-1 1z\"></path>\n",
       "<path d=\"M23 18h-14c-0.552 0-1-0.448-1-1s0.448-1 1-1h14c0.552 0 1 0.448 1 1s-0.448 1-1 1z\"></path>\n",
       "</symbol>\n",
       "</defs>\n",
       "</svg>\n",
       "<style>/* CSS stylesheet for displaying xarray objects in jupyterlab.\n",
       " *\n",
       " */\n",
       "\n",
       ":root {\n",
       "  --xr-font-color0: var(--jp-content-font-color0, rgba(0, 0, 0, 1));\n",
       "  --xr-font-color2: var(--jp-content-font-color2, rgba(0, 0, 0, 0.54));\n",
       "  --xr-font-color3: var(--jp-content-font-color3, rgba(0, 0, 0, 0.38));\n",
       "  --xr-border-color: var(--jp-border-color2, #e0e0e0);\n",
       "  --xr-disabled-color: var(--jp-layout-color3, #bdbdbd);\n",
       "  --xr-background-color: var(--jp-layout-color0, white);\n",
       "  --xr-background-color-row-even: var(--jp-layout-color1, white);\n",
       "  --xr-background-color-row-odd: var(--jp-layout-color2, #eeeeee);\n",
       "}\n",
       "\n",
       "html[theme=dark],\n",
       "body.vscode-dark {\n",
       "  --xr-font-color0: rgba(255, 255, 255, 1);\n",
       "  --xr-font-color2: rgba(255, 255, 255, 0.54);\n",
       "  --xr-font-color3: rgba(255, 255, 255, 0.38);\n",
       "  --xr-border-color: #1F1F1F;\n",
       "  --xr-disabled-color: #515151;\n",
       "  --xr-background-color: #111111;\n",
       "  --xr-background-color-row-even: #111111;\n",
       "  --xr-background-color-row-odd: #313131;\n",
       "}\n",
       "\n",
       ".xr-wrap {\n",
       "  display: block;\n",
       "  min-width: 300px;\n",
       "  max-width: 700px;\n",
       "}\n",
       "\n",
       ".xr-text-repr-fallback {\n",
       "  /* fallback to plain text repr when CSS is not injected (untrusted notebook) */\n",
       "  display: none;\n",
       "}\n",
       "\n",
       ".xr-header {\n",
       "  padding-top: 6px;\n",
       "  padding-bottom: 6px;\n",
       "  margin-bottom: 4px;\n",
       "  border-bottom: solid 1px var(--xr-border-color);\n",
       "}\n",
       "\n",
       ".xr-header > div,\n",
       ".xr-header > ul {\n",
       "  display: inline;\n",
       "  margin-top: 0;\n",
       "  margin-bottom: 0;\n",
       "}\n",
       "\n",
       ".xr-obj-type,\n",
       ".xr-array-name {\n",
       "  margin-left: 2px;\n",
       "  margin-right: 10px;\n",
       "}\n",
       "\n",
       ".xr-obj-type {\n",
       "  color: var(--xr-font-color2);\n",
       "}\n",
       "\n",
       ".xr-sections {\n",
       "  padding-left: 0 !important;\n",
       "  display: grid;\n",
       "  grid-template-columns: 150px auto auto 1fr 20px 20px;\n",
       "}\n",
       "\n",
       ".xr-section-item {\n",
       "  display: contents;\n",
       "}\n",
       "\n",
       ".xr-section-item input {\n",
       "  display: none;\n",
       "}\n",
       "\n",
       ".xr-section-item input + label {\n",
       "  color: var(--xr-disabled-color);\n",
       "}\n",
       "\n",
       ".xr-section-item input:enabled + label {\n",
       "  cursor: pointer;\n",
       "  color: var(--xr-font-color2);\n",
       "}\n",
       "\n",
       ".xr-section-item input:enabled + label:hover {\n",
       "  color: var(--xr-font-color0);\n",
       "}\n",
       "\n",
       ".xr-section-summary {\n",
       "  grid-column: 1;\n",
       "  color: var(--xr-font-color2);\n",
       "  font-weight: 500;\n",
       "}\n",
       "\n",
       ".xr-section-summary > span {\n",
       "  display: inline-block;\n",
       "  padding-left: 0.5em;\n",
       "}\n",
       "\n",
       ".xr-section-summary-in:disabled + label {\n",
       "  color: var(--xr-font-color2);\n",
       "}\n",
       "\n",
       ".xr-section-summary-in + label:before {\n",
       "  display: inline-block;\n",
       "  content: '►';\n",
       "  font-size: 11px;\n",
       "  width: 15px;\n",
       "  text-align: center;\n",
       "}\n",
       "\n",
       ".xr-section-summary-in:disabled + label:before {\n",
       "  color: var(--xr-disabled-color);\n",
       "}\n",
       "\n",
       ".xr-section-summary-in:checked + label:before {\n",
       "  content: '▼';\n",
       "}\n",
       "\n",
       ".xr-section-summary-in:checked + label > span {\n",
       "  display: none;\n",
       "}\n",
       "\n",
       ".xr-section-summary,\n",
       ".xr-section-inline-details {\n",
       "  padding-top: 4px;\n",
       "  padding-bottom: 4px;\n",
       "}\n",
       "\n",
       ".xr-section-inline-details {\n",
       "  grid-column: 2 / -1;\n",
       "}\n",
       "\n",
       ".xr-section-details {\n",
       "  display: none;\n",
       "  grid-column: 1 / -1;\n",
       "  margin-bottom: 5px;\n",
       "}\n",
       "\n",
       ".xr-section-summary-in:checked ~ .xr-section-details {\n",
       "  display: contents;\n",
       "}\n",
       "\n",
       ".xr-array-wrap {\n",
       "  grid-column: 1 / -1;\n",
       "  display: grid;\n",
       "  grid-template-columns: 20px auto;\n",
       "}\n",
       "\n",
       ".xr-array-wrap > label {\n",
       "  grid-column: 1;\n",
       "  vertical-align: top;\n",
       "}\n",
       "\n",
       ".xr-preview {\n",
       "  color: var(--xr-font-color3);\n",
       "}\n",
       "\n",
       ".xr-array-preview,\n",
       ".xr-array-data {\n",
       "  padding: 0 5px !important;\n",
       "  grid-column: 2;\n",
       "}\n",
       "\n",
       ".xr-array-data,\n",
       ".xr-array-in:checked ~ .xr-array-preview {\n",
       "  display: none;\n",
       "}\n",
       "\n",
       ".xr-array-in:checked ~ .xr-array-data,\n",
       ".xr-array-preview {\n",
       "  display: inline-block;\n",
       "}\n",
       "\n",
       ".xr-dim-list {\n",
       "  display: inline-block !important;\n",
       "  list-style: none;\n",
       "  padding: 0 !important;\n",
       "  margin: 0;\n",
       "}\n",
       "\n",
       ".xr-dim-list li {\n",
       "  display: inline-block;\n",
       "  padding: 0;\n",
       "  margin: 0;\n",
       "}\n",
       "\n",
       ".xr-dim-list:before {\n",
       "  content: '(';\n",
       "}\n",
       "\n",
       ".xr-dim-list:after {\n",
       "  content: ')';\n",
       "}\n",
       "\n",
       ".xr-dim-list li:not(:last-child):after {\n",
       "  content: ',';\n",
       "  padding-right: 5px;\n",
       "}\n",
       "\n",
       ".xr-has-index {\n",
       "  font-weight: bold;\n",
       "}\n",
       "\n",
       ".xr-var-list,\n",
       ".xr-var-item {\n",
       "  display: contents;\n",
       "}\n",
       "\n",
       ".xr-var-item > div,\n",
       ".xr-var-item label,\n",
       ".xr-var-item > .xr-var-name span {\n",
       "  background-color: var(--xr-background-color-row-even);\n",
       "  margin-bottom: 0;\n",
       "}\n",
       "\n",
       ".xr-var-item > .xr-var-name:hover span {\n",
       "  padding-right: 5px;\n",
       "}\n",
       "\n",
       ".xr-var-list > li:nth-child(odd) > div,\n",
       ".xr-var-list > li:nth-child(odd) > label,\n",
       ".xr-var-list > li:nth-child(odd) > .xr-var-name span {\n",
       "  background-color: var(--xr-background-color-row-odd);\n",
       "}\n",
       "\n",
       ".xr-var-name {\n",
       "  grid-column: 1;\n",
       "}\n",
       "\n",
       ".xr-var-dims {\n",
       "  grid-column: 2;\n",
       "}\n",
       "\n",
       ".xr-var-dtype {\n",
       "  grid-column: 3;\n",
       "  text-align: right;\n",
       "  color: var(--xr-font-color2);\n",
       "}\n",
       "\n",
       ".xr-var-preview {\n",
       "  grid-column: 4;\n",
       "}\n",
       "\n",
       ".xr-var-name,\n",
       ".xr-var-dims,\n",
       ".xr-var-dtype,\n",
       ".xr-preview,\n",
       ".xr-attrs dt {\n",
       "  white-space: nowrap;\n",
       "  overflow: hidden;\n",
       "  text-overflow: ellipsis;\n",
       "  padding-right: 10px;\n",
       "}\n",
       "\n",
       ".xr-var-name:hover,\n",
       ".xr-var-dims:hover,\n",
       ".xr-var-dtype:hover,\n",
       ".xr-attrs dt:hover {\n",
       "  overflow: visible;\n",
       "  width: auto;\n",
       "  z-index: 1;\n",
       "}\n",
       "\n",
       ".xr-var-attrs,\n",
       ".xr-var-data {\n",
       "  display: none;\n",
       "  background-color: var(--xr-background-color) !important;\n",
       "  padding-bottom: 5px !important;\n",
       "}\n",
       "\n",
       ".xr-var-attrs-in:checked ~ .xr-var-attrs,\n",
       ".xr-var-data-in:checked ~ .xr-var-data {\n",
       "  display: block;\n",
       "}\n",
       "\n",
       ".xr-var-data > table {\n",
       "  float: right;\n",
       "}\n",
       "\n",
       ".xr-var-name span,\n",
       ".xr-var-data,\n",
       ".xr-attrs {\n",
       "  padding-left: 25px !important;\n",
       "}\n",
       "\n",
       ".xr-attrs,\n",
       ".xr-var-attrs,\n",
       ".xr-var-data {\n",
       "  grid-column: 1 / -1;\n",
       "}\n",
       "\n",
       "dl.xr-attrs {\n",
       "  padding: 0;\n",
       "  margin: 0;\n",
       "  display: grid;\n",
       "  grid-template-columns: 125px auto;\n",
       "}\n",
       "\n",
       ".xr-attrs dt,\n",
       ".xr-attrs dd {\n",
       "  padding: 0;\n",
       "  margin: 0;\n",
       "  float: left;\n",
       "  padding-right: 10px;\n",
       "  width: auto;\n",
       "}\n",
       "\n",
       ".xr-attrs dt {\n",
       "  font-weight: normal;\n",
       "  grid-column: 1;\n",
       "}\n",
       "\n",
       ".xr-attrs dt:hover span {\n",
       "  display: inline-block;\n",
       "  background: var(--xr-background-color);\n",
       "  padding-right: 10px;\n",
       "}\n",
       "\n",
       ".xr-attrs dd {\n",
       "  grid-column: 2;\n",
       "  white-space: pre-wrap;\n",
       "  word-break: break-all;\n",
       "}\n",
       "\n",
       ".xr-icon-database,\n",
       ".xr-icon-file-text2 {\n",
       "  display: inline-block;\n",
       "  vertical-align: middle;\n",
       "  width: 1em;\n",
       "  height: 1.5em !important;\n",
       "  stroke-width: 0;\n",
       "  stroke: currentColor;\n",
       "  fill: currentColor;\n",
       "}\n",
       "</style><pre class='xr-text-repr-fallback'>&lt;xarray.DataArray &#x27;Elevation&#x27; ()&gt;\n",
       "array(2193.00864293)</pre><div class='xr-wrap' hidden><div class='xr-header'><div class='xr-obj-type'>xarray.DataArray</div><div class='xr-array-name'>'Elevation'</div></div><ul class='xr-sections'><li class='xr-section-item'><div class='xr-array-wrap'><input id='section-b0db3573-c36e-42d7-8aec-d49ea13387c7' class='xr-array-in' type='checkbox' checked><label for='section-b0db3573-c36e-42d7-8aec-d49ea13387c7' title='Show/hide data repr'><svg class='icon xr-icon-database'><use xlink:href='#icon-database'></use></svg></label><div class='xr-array-preview xr-preview'><span>2.193e+03</span></div><div class='xr-array-data'><pre>array(2193.00864293)</pre></div></div></li><li class='xr-section-item'><input id='section-1827573d-ace8-494b-9c49-ecc6ffa1aeb2' class='xr-section-summary-in' type='checkbox' disabled ><label for='section-1827573d-ace8-494b-9c49-ecc6ffa1aeb2' class='xr-section-summary'  title='Expand/collapse section'>Coordinates: <span>(0)</span></label><div class='xr-section-inline-details'></div><div class='xr-section-details'><ul class='xr-var-list'></ul></div></li><li class='xr-section-item'><input id='section-bed9c47e-7e18-43e7-960a-50445a6323cb' class='xr-section-summary-in' type='checkbox' disabled ><label for='section-bed9c47e-7e18-43e7-960a-50445a6323cb' class='xr-section-summary'  title='Expand/collapse section'>Attributes: <span>(0)</span></label><div class='xr-section-inline-details'></div><div class='xr-section-details'><dl class='xr-attrs'></dl></div></li></ul></div></div>"
      ],
      "text/plain": [
       "<xarray.DataArray 'Elevation' ()>\n",
       "array(2193.00864293)"
      ]
     },
     "execution_count": 105,
     "metadata": {},
     "output_type": "execute_result"
    }
   ],
   "source": [
    "test.Elevation.mean()"
   ]
  },
  {
   "cell_type": "code",
   "execution_count": null,
   "metadata": {},
   "outputs": [],
   "source": []
  }
 ],
 "metadata": {
  "kernelspec": {
   "display_name": "Python 3",
   "language": "python",
   "name": "python3"
  },
  "language_info": {
   "codemirror_mode": {
    "name": "ipython",
    "version": 3
   },
   "file_extension": ".py",
   "mimetype": "text/x-python",
   "name": "python",
   "nbconvert_exporter": "python",
   "pygments_lexer": "ipython3",
   "version": "3.7.8"
  }
 },
 "nbformat": 4,
 "nbformat_minor": 4
}
