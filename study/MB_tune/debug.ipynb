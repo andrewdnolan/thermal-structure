{
 "cells": [
  {
   "cell_type": "code",
   "execution_count": 97,
   "metadata": {},
   "outputs": [],
   "source": [
    "import re\n",
    "import os\n",
    "import sys\n",
    "import glob\n",
    "import argparse\n",
    "import numpy as np\n",
    "import xarray as xr\n",
    "import pandas as pd\n",
    "import scipy.linalg as LA\n",
    "import matplotlib.cm as cm\n",
    "import matplotlib.pyplot as plt\n",
    "from matplotlib import animation, rc\n",
    "import matplotlib.colors as mcolors\n"
   ]
  },
  {
   "cell_type": "code",
   "execution_count": 98,
   "metadata": {},
   "outputs": [
    {
     "name": "stdout",
     "output_type": "stream",
     "text": [
      "result/glc1-a/nc/glc1-a_1000a_dt_1_dx_200_MB_0.0_OFF.nc\n",
      "result/glc1-a/nc/glc1-a_1000a_dt_1_dx_200_MB_-0.1_OFF.nc\n",
      "result/glc1-a/nc/glc1-a_1000a_dt_1_dx_200_MB_-0.2_OFF.nc\n",
      "result/glc1-a/nc/glc1-a_1000a_dt_1_dx_200_MB_-0.3_OFF.nc\n",
      "result/glc1-a/nc/glc1-a_1000a_dt_1_dx_200_MB_-0.4_OFF.nc\n",
      "result/glc1-a/nc/glc1-a_1000a_dt_1_dx_200_MB_-0.5_OFF.nc\n",
      "result/glc1-a/nc/glc1-a_1000a_dt_1_dx_200_MB_-0.6_OFF.nc\n",
      "result/glc1-a/nc/glc1-a_1000a_dt_1_dx_200_MB_-0.7_OFF.nc\n",
      "result/glc1-a/nc/glc1-a_1000a_dt_1_dx_200_MB_-0.8_OFF.nc\n",
      "result/glc1-a/nc/glc1-a_1000a_dt_1_dx_200_MB_-0.9_OFF.nc\n",
      "result/glc1-a/nc/glc1-a_1000a_dt_1_dx_200_MB_-1.0_OFF.nc\n",
      "result/glc1-a/nc/glc1-a_1000a_dt_1_dx_200_MB_-1.1_OFF.nc\n",
      "result/glc1-a/nc/glc1-a_1000a_dt_1_dx_200_MB_-1.2_OFF.nc\n",
      "result/glc1-a/nc/glc1-a_1000a_dt_1_dx_200_MB_-1.3_OFF.nc\n",
      "result/glc1-a/nc/glc1-a_1000a_dt_1_dx_200_MB_-1.4_OFF.nc\n",
      "result/glc1-a/nc/glc1-a_1000a_dt_1_dx_200_MB_-1.5_OFF.nc\n",
      "result/glc1-a/nc/glc1-a_1000a_dt_1_dx_200_MB_-1.6_OFF.nc\n",
      "result/glc1-a/nc/glc1-a_1000a_dt_1_dx_200_MB_-1.7_OFF.nc\n",
      "result/glc1-a/nc/glc1-a_1000a_dt_1_dx_200_MB_-1.8_OFF.nc\n",
      "result/glc1-a/nc/glc1-a_1000a_dt_1_dx_200_MB_-1.9_OFF.nc\n",
      "result/glc1-a/nc/glc1-a_1000a_dt_1_dx_200_MB_-2.0_OFF.nc\n"
     ]
    }
   ],
   "source": [
    "# Glob the file paths and return list of files\n",
    "files = sorted(glob.glob(\"result/glc1-a/nc/glc1-a_1000a_dt_1_dx_200_MB_*_OFF.nc\"))\n",
    "\n",
    "# Raise error if glob didn't work\n",
    "if not files:\n",
    "    raise OSError('value passed for \"src_path\" is invalid')\n",
    "\n",
    "# Sorting isn't guaranted to work corretly, so if pattern is matched\n",
    "# do special sorting ensure it's done correctly\n",
    "regex = re.search('MB_-*\\d*\\d\\.\\d*\\d_OFF', files[0])\n",
    "if regex:\n",
    "    files.sort(key = lambda x: float(x.split('MB_')[-1].split('_OFF')[0]),\n",
    "               reverse = True)\n",
    "\n",
    "# Create array of mass balance values used in spin-up\n",
    "MB, dx = np.linspace(float(0.0),\n",
    "                     float(2.0),\n",
    "                     len(files),\n",
    "                     retstep=True)\n",
    "\n",
    "# Check the the MB stride is the same as the stride that was specified\n",
    "if not np.isclose(dx, 0.1):\n",
    "    raise OSError('MB stride passed does not match that of files found')\n",
    "\n",
    "# Make an empty list to store the read in .nc files\n",
    "xarrays = []\n",
    "\n",
    "# Iterate over each .nc file and read in with xarray\n",
    "for file in files:\n",
    "    print(file)\n",
    "    with xr.open_dataset(file) as src:\n",
    "            # correct for minimum ice thickness\n",
    "            src[\"height\"] = xr.where(src.height <= 10, 0, src.height)\n",
    "            # apply sigma coordinate transform for vertical coordinate\n",
    "            src[\"z_s\"]     = src.zbed + src.Z * src.height\n",
    "            # Calculate the magnitude of the velocity vectors\n",
    "            src['vel_m'] = np.sqrt(src['velocity 1']**2 + src['velocity 2']**2)\n",
    "\n",
    "    xarrays.append(src)\n",
    "\n",
    "# Concatenate the .nc files via their mass balance offset\n",
    "mf_dataset = xr.concat(xarrays,\n",
    "                       pd.Index(data = MB, name='Delta_MB'))"
   ]
  },
  {
   "cell_type": "code",
   "execution_count": 99,
   "metadata": {},
   "outputs": [],
   "source": [
    "def make_colorbar(mf_dataset):\n",
    "    #---------------------------------------------------------------------------\n",
    "    # For Seting up the colorbar:\n",
    "    #    - http://csc.ucdavis.edu/~jmahoney/matplotlib-tips.html\n",
    "    #---------------------------------------------------------------------------\n",
    "    cmap = cm.plasma\n",
    "    norm = mcolors.Normalize(vmin=np.min(mf_dataset.Delta_MB.values),\n",
    "                             vmax=np.max(mf_dataset.Delta_MB.values))\n",
    "\n",
    "    s_map = cm.ScalarMappable(norm=norm, cmap=cmap)\n",
    "    s_map.set_array(mf_dataset.Delta_MB.values)\n",
    "\n",
    "    # If color parameters is a linspace, we can set boundaries in this way\n",
    "    halfdist = (mf_dataset.Delta_MB[1] - mf_dataset.Delta_MB[0]) / 2.0\n",
    "    bounds   = np.linspace(mf_dataset.Delta_MB[0]   - halfdist,\n",
    "                           mf_dataset.Delta_MB[-1]  + halfdist,\n",
    "                           len(mf_dataset.Delta_MB) + 1)\n",
    "\n",
    "    return cmap, norm, s_map, bounds"
   ]
  },
  {
   "cell_type": "code",
   "execution_count": 100,
   "metadata": {},
   "outputs": [
    {
     "data": {
      "text/plain": [
       "0.0"
      ]
     },
     "execution_count": 100,
     "metadata": {},
     "output_type": "execute_result"
    }
   ],
   "source": [
    "np.min(mf_dataset.Delta_MB.values)"
   ]
  },
  {
   "cell_type": "code",
   "execution_count": 102,
   "metadata": {},
   "outputs": [
    {
     "name": "stdout",
     "output_type": "stream",
     "text": [
      "0.0\n",
      "0.05\n",
      "0.1\n",
      "0.15000000000000002\n",
      "0.2\n",
      "0.25\n",
      "0.30000000000000004\n",
      "0.35000000000000003\n",
      "0.4\n",
      "0.45\n",
      "0.5\n",
      "0.55\n",
      "0.6000000000000001\n",
      "0.65\n",
      "0.7000000000000001\n",
      "0.75\n",
      "0.8\n",
      "0.8500000000000001\n",
      "0.9\n",
      "0.9500000000000001\n",
      "1.0\n"
     ]
    },
    {
     "data": {
      "image/png": "[encoded data removed]",
      "text/plain": [
       "<Figure size 504x360 with 2 Axes>"
      ]
     },
     "metadata": {
      "needs_background": "light"
     },
     "output_type": "display_data"
    }
   ],
   "source": [
    "# Make a volume xarray\n",
    "Vol = mf_dataset.height.isel(coord_2=-1).integrate(\"coord_1\") /\\\n",
    "      mf_dataset.height.isel(coord_2=-1).isel(t=0).integrate(\"coord_1\")\n",
    "\n",
    "# Make a colormap and all the associated var names\n",
    "cmap, norm, s_map, bounds = make_colorbar(mf_dataset)\n",
    "\n",
    "\n",
    "fig, ax = plt.subplots(figsize=(7, 5))\n",
    "\n",
    "for delta_mb in Vol.Delta_MB.values:\n",
    "    print(norm(delta_mb))\n",
    "    color = cmap(1-norm(delta_mb))\n",
    "    ax.plot(Vol.t[1:], Vol.sel(Delta_MB=delta_mb)[1:], color=color)\n",
    "\n",
    "ax.axhline(1.0,c='k',ls=':',lw=1, alpha=0.5)\n",
    "\n",
    "cbar = fig.colorbar(s_map,\n",
    "                    spacing='proportional',\n",
    "                    ticks=mf_dataset.Delta_MB,\n",
    "                    ax=ax,\n",
    "                    boundaries=bounds,\n",
    "                    drawedges=True,\n",
    "                    format='%2.{}f'.format(1))"
   ]
  },
  {
   "cell_type": "code",
   "execution_count": 75,
   "metadata": {},
   "outputs": [
    {
     "data": {
      "text/plain": [
       "array([0. , 0.1, 0.2, 0.3, 0.4, 0.5, 0.6, 0.7, 0.8, 0.9, 1. ])"
      ]
     },
     "execution_count": 75,
     "metadata": {},
     "output_type": "execute_result"
    }
   ],
   "source": [
    "np.linspace(mf_dataset.Delta_MB.values.min(),\n",
    "            mf_dataset.Delta_MB.values.max(),\n",
    "            mf_dataset.Delta_MB.size)"
   ]
  },
  {
   "cell_type": "code",
   "execution_count": 76,
   "metadata": {},
   "outputs": [
    {
     "data": {
      "text/plain": [
       "array([0. , 0.1, 0.2, 0.3, 0.4, 0.5, 0.6, 0.7, 0.8, 0.9, 1. ])"
      ]
     },
     "execution_count": 76,
     "metadata": {},
     "output_type": "execute_result"
    }
   ],
   "source": [
    "s_map.get_array()"
   ]
  },
  {
   "cell_type": "code",
   "execution_count": null,
   "metadata": {},
   "outputs": [],
   "source": []
  }
 ],
 "metadata": {
  "kernelspec": {
   "display_name": "Python 3",
   "language": "python",
   "name": "python3"
  },
  "language_info": {
   "codemirror_mode": {
    "name": "ipython",
    "version": 3
   },
   "file_extension": ".py",
   "mimetype": "text/x-python",
   "name": "python",
   "nbconvert_exporter": "python",
   "pygments_lexer": "ipython3",
   "version": "3.7.8"
  }
 },
 "nbformat": 4,
 "nbformat_minor": 4
}
