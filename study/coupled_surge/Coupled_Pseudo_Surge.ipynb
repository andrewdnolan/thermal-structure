{
 "cells": [
  {
   "cell_type": "code",
   "execution_count": 1,
   "id": "e47fd91c-3253-4d35-ae3d-6c23d9539dff",
   "metadata": {},
   "outputs": [],
   "source": [
    "import sys\n",
    "import numpy as np \n",
    "import xarray as xr \n",
    "import matplotlib.pyplot as plt "
   ]
  },
  {
   "cell_type": "code",
   "execution_count": 2,
   "id": "956ef013-197b-4dfe-bc66-658d86a81e6e",
   "metadata": {},
   "outputs": [
    {
     "ename": "ValueError",
     "evalue": "did not find a match in any of xarray's currently installed IO backends ['netcdf4', 'h5netcdf', 'scipy']. Consider explicitly selecting one of the installed engines via the ``engine`` parameter, or installing additional IO dependencies, see:\nhttp://xarray.pydata.org/en/stable/getting-started-guide/installing.html\nhttp://xarray.pydata.org/en/stable/user-guide/io.html",
     "output_type": "error",
     "traceback": [
      "\u001b[0;31m---------------------------------------------------------------------------\u001b[0m",
      "\u001b[0;31mValueError\u001b[0m                                Traceback (most recent call last)",
      "\u001b[0;32m/var/folders/g3/nkh04ckd39jcftknlklg_vnh0000gn/T/ipykernel_56181/4090923317.py\u001b[0m in \u001b[0;36m<module>\u001b[0;34m\u001b[0m\n\u001b[1;32m      1\u001b[0m \u001b[0msrc_fp\u001b[0m \u001b[0;34m=\u001b[0m \u001b[0;34m\"glc1-a/nc/glc1-a_dx_50_NT_60_dt_0.5_MB_-1.225_OFF_Tma_-9.00_B_0.003_pseudo_gridded.nc\"\u001b[0m\u001b[0;34m\u001b[0m\u001b[0;34m\u001b[0m\u001b[0m\n\u001b[1;32m      2\u001b[0m \u001b[0;34m\u001b[0m\u001b[0m\n\u001b[0;32m----> 3\u001b[0;31m \u001b[0;32mwith\u001b[0m \u001b[0mxr\u001b[0m\u001b[0;34m.\u001b[0m\u001b[0mopen_dataset\u001b[0m\u001b[0;34m(\u001b[0m\u001b[0msrc_fp\u001b[0m\u001b[0;34m)\u001b[0m \u001b[0;32mas\u001b[0m \u001b[0msrc_ds\u001b[0m\u001b[0;34m:\u001b[0m\u001b[0;34m\u001b[0m\u001b[0;34m\u001b[0m\u001b[0m\n\u001b[0m\u001b[1;32m      4\u001b[0m     \u001b[0;32mpass\u001b[0m\u001b[0;34m\u001b[0m\u001b[0;34m\u001b[0m\u001b[0m\n",
      "\u001b[0;32m~/anaconda3/envs/thermal/lib/python3.7/site-packages/xarray/backends/api.py\u001b[0m in \u001b[0;36mopen_dataset\u001b[0;34m(filename_or_obj, engine, chunks, cache, decode_cf, mask_and_scale, decode_times, decode_timedelta, use_cftime, concat_characters, decode_coords, drop_variables, backend_kwargs, *args, **kwargs)\u001b[0m\n\u001b[1;32m    477\u001b[0m \u001b[0;34m\u001b[0m\u001b[0m\n\u001b[1;32m    478\u001b[0m     \u001b[0;32mif\u001b[0m \u001b[0mengine\u001b[0m \u001b[0;32mis\u001b[0m \u001b[0;32mNone\u001b[0m\u001b[0;34m:\u001b[0m\u001b[0;34m\u001b[0m\u001b[0;34m\u001b[0m\u001b[0m\n\u001b[0;32m--> 479\u001b[0;31m         \u001b[0mengine\u001b[0m \u001b[0;34m=\u001b[0m \u001b[0mplugins\u001b[0m\u001b[0;34m.\u001b[0m\u001b[0mguess_engine\u001b[0m\u001b[0;34m(\u001b[0m\u001b[0mfilename_or_obj\u001b[0m\u001b[0;34m)\u001b[0m\u001b[0;34m\u001b[0m\u001b[0;34m\u001b[0m\u001b[0m\n\u001b[0m\u001b[1;32m    480\u001b[0m \u001b[0;34m\u001b[0m\u001b[0m\n\u001b[1;32m    481\u001b[0m     \u001b[0mbackend\u001b[0m \u001b[0;34m=\u001b[0m \u001b[0mplugins\u001b[0m\u001b[0;34m.\u001b[0m\u001b[0mget_backend\u001b[0m\u001b[0;34m(\u001b[0m\u001b[0mengine\u001b[0m\u001b[0;34m)\u001b[0m\u001b[0;34m\u001b[0m\u001b[0;34m\u001b[0m\u001b[0m\n",
      "\u001b[0;32m~/anaconda3/envs/thermal/lib/python3.7/site-packages/xarray/backends/plugins.py\u001b[0m in \u001b[0;36mguess_engine\u001b[0;34m(store_spec)\u001b[0m\n\u001b[1;32m    153\u001b[0m         )\n\u001b[1;32m    154\u001b[0m \u001b[0;34m\u001b[0m\u001b[0m\n\u001b[0;32m--> 155\u001b[0;31m     \u001b[0;32mraise\u001b[0m \u001b[0mValueError\u001b[0m\u001b[0;34m(\u001b[0m\u001b[0merror_msg\u001b[0m\u001b[0;34m)\u001b[0m\u001b[0;34m\u001b[0m\u001b[0;34m\u001b[0m\u001b[0m\n\u001b[0m\u001b[1;32m    156\u001b[0m \u001b[0;34m\u001b[0m\u001b[0m\n\u001b[1;32m    157\u001b[0m \u001b[0;34m\u001b[0m\u001b[0m\n",
      "\u001b[0;31mValueError\u001b[0m: did not find a match in any of xarray's currently installed IO backends ['netcdf4', 'h5netcdf', 'scipy']. Consider explicitly selecting one of the installed engines via the ``engine`` parameter, or installing additional IO dependencies, see:\nhttp://xarray.pydata.org/en/stable/getting-started-guide/installing.html\nhttp://xarray.pydata.org/en/stable/user-guide/io.html"
     ]
    }
   ],
   "source": [
    "src_fp = \"glc1-a/nc/glc1-a_dx_50_NT_60_dt_0.5_MB_-1.225_OFF_Tma_-9.00_B_0.003_pseudo_gridded.nc\"\n",
    "\n",
    "with xr.open_dataset(src_fp) as src_ds: \n",
    "    pass"
   ]
  },
  {
   "cell_type": "code",
   "execution_count": null,
   "id": "8be76d5e-f0fb-4f6d-b64a-9f83148c598f",
   "metadata": {},
   "outputs": [],
   "source": [
    "fig, ax = plt.subplots(figsize=(6,3), constrained_layout=True)\n",
    "\n",
    "im = ax.pcolormesh(src_ds.X[:,::-1]/1e3,\n",
    "                   src_ds.Z.isel(t=-1), \n",
    "                   src_ds.temperature.isel(t=-1), \n",
    "                   shading='gouraud')\n",
    "\n",
    "ax.plot(src_ds.X.isel(coord_2=-1)[::-1]/1e3, \n",
    "        src_ds.Z.isel(coord_2=-1, t=0),\n",
    "        color='k', alpha=0.5, lw=1.0)\n",
    "\n",
    "cbar = fig.colorbar(im)\n",
    "cbar.set_label('Homologous Temperature [$^\\circ$ C]', \n",
    "               rotation=270, labelpad=15)\n",
    "\n",
    "ax.set_ylabel('Elevation [m a.s.l.]')\n",
    "ax.set_xlabel('Distance from headwall [km]')\n",
    "\n",
    "fig.savefig('/Users/andrewnolan/Desktop/abstract_draft.jpeg', \n",
    "            bbox_inches='tight', facecolor='w', dpi=600)"
   ]
  },
  {
   "cell_type": "code",
   "execution_count": null,
   "id": "7bb06e9d-a4ad-43f1-aec9-f2e9be76e8cf",
   "metadata": {},
   "outputs": [],
   "source": [
    "fig, ax = plt.subplots(1,1)\n",
    "\n",
    "im = ax.pcolormesh(src_ds.X.isel(coord_2=-1), \n",
    "                   src_ds.t,\n",
    "                   src_ds.height.isel(coord_2=-1).differentiate('t'),\n",
    "                   shading='gouraud',\n",
    "                   clim=(-15,15), vmin=-15, vmax=15, cmap='RdBu')\n",
    "\n",
    "mask = (src_ds.enthalpy_h <= src_ds['phase change enthalpy']).isel(coord_2=0)\n",
    "\n",
    "ax.pcolor(src_ds.X.isel(coord_2=-1), \n",
    "          src_ds.t, \n",
    "          src_ds.enthalpy_h.isel(coord_2=-1).where(mask), \n",
    "          alpha=0.0,\n",
    "          hatch='///', \n",
    "          \n",
    "          zorder=2)\n",
    "\n",
    "plt.colorbar(im, extend='both')\n",
    "\n",
    "plt.savefig('dHdt.pdf', bbox_inches='tight', facecolor='w')"
   ]
  },
  {
   "cell_type": "code",
   "execution_count": null,
   "id": "a40ec3a1-b226-453b-b737-80be63fded4b",
   "metadata": {},
   "outputs": [],
   "source": [
    "mask = (src_ds.enthalpy_h >= src_ds['phase change enthalpy']).isel(coord_2=0)\n",
    "\n",
    "XX, TT = np.meshgrid(mask.X, mask.t)"
   ]
  },
  {
   "cell_type": "code",
   "execution_count": null,
   "id": "13c9d061-ac23-4f8f-8ec2-b1b14efd772c",
   "metadata": {},
   "outputs": [],
   "source": [
    "src_ds.enthalpy_h.isel(coord_2=-1).where(mask)"
   ]
  },
  {
   "cell_type": "code",
   "execution_count": null,
   "id": "eb509d7c-7565-474e-b93d-100c903566bf",
   "metadata": {},
   "outputs": [],
   "source": [
    "def detrend_dim(da, dim, deg=1):\n",
    "    # detrend along a single dimension\n",
    "    p = da.polyfit(dim=dim, deg=deg)\n",
    "    fit = xr.polyval(da[dim], p.polyfit_coefficients)\n",
    "    return da - fit\n",
    "\n",
    "def detrend(da, dims, deg=1):\n",
    "    # detrend along multiple dimensions\n",
    "    # only valid for linear detrending (deg=1)\n",
    "    da_detrended = da\n",
    "    for dim in dims:\n",
    "        da_detrended = detrend_dim(da_detrended, dim, deg=deg)\n",
    "    return da_detrended"
   ]
  },
  {
   "cell_type": "code",
   "execution_count": null,
   "id": "5e53db72-151c-4233-a01c-090887f1dd35",
   "metadata": {},
   "outputs": [],
   "source": [
    "detrend(src_ds.surface_enthalpy.isel(coord_2=-1), ['coord_1']).plot()"
   ]
  },
  {
   "cell_type": "code",
   "execution_count": null,
   "id": "bdcdc7a7-935d-4235-b455-5d8d66c265f8",
   "metadata": {},
   "outputs": [],
   "source": [
    "src_ds.surface_enthalpy.dims"
   ]
  },
  {
   "cell_type": "code",
   "execution_count": null,
   "id": "0d744c46-d937-4ebf-b786-c7241a605c47",
   "metadata": {},
   "outputs": [],
   "source": []
  }
 ],
 "metadata": {
  "kernelspec": {
   "display_name": "Python 3 (ipykernel)",
   "language": "python",
   "name": "python3"
  },
  "language_info": {
   "codemirror_mode": {
    "name": "ipython",
    "version": 3
   },
   "file_extension": ".py",
   "mimetype": "text/x-python",
   "name": "python",
   "nbconvert_exporter": "python",
   "pygments_lexer": "ipython3",
   "version": "3.7.12"
  }
 },
 "nbformat": 4,
 "nbformat_minor": 5
}
