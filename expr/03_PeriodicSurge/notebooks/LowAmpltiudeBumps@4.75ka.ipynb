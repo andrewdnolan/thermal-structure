{
 "cells": [
  {
   "cell_type": "code",
   "execution_count": 1,
   "id": "bca27efa-8aef-4263-a1d7-1097b91a825d",
   "metadata": {},
   "outputs": [],
   "source": [
    "import numpy as np \n",
    "import xarray as xr \n",
    "import matplotlib.pyplot as plt\n",
    "from thermal.animate import AnimateEnthalpy\n",
    "\n",
    "plt.rcParams['text.usetex'] = True\n",
    "plt.rcParams['animation.html'] = 'jshtml'\n"
   ]
  },
  {
   "cell_type": "code",
   "execution_count": 2,
   "id": "3494816c-9857-4761-a9f2-e5a7ddb2f2ad",
   "metadata": {},
   "outputs": [],
   "source": [
    "test_fp = '/Volumes/thermal/Thesis/thermal-structure/expr/03_PeriodicSurge/result/crmpt12/gridded/crmpt12_dx_50_TT_6000.0_MB_-0.37_OFF_Tma_-8.5_B_1.000e-03_SP_2_QP_28.zarr'"
   ]
  },
  {
   "cell_type": "code",
   "execution_count": 3,
   "id": "9b643236-694b-40f9-8f6e-21c78c3e7024",
   "metadata": {},
   "outputs": [
    {
     "name": "stdout",
     "output_type": "stream",
     "text": [
      "CPU times: user 5 s, sys: 7.61 s, total: 12.6 s\n",
      "Wall time: 22.3 s\n"
     ]
    }
   ],
   "source": [
    "%%time\n",
    "vars_ = ['X', 'Z', 'height', 'enthalpy_h', 'percent_temperate',\n",
    "         'phase change enthalpy', 'water content', 'temperature']\n",
    "\n",
    "src = xr.open_zarr(test_fp)[vars_]\n",
    "src = src.sel(t=slice(4.20e3, 5.6e3)).compute()\n",
    "src = src.interp(t=np.linspace(4.25e3, 5.5e3, 1250))\n"
   ]
  },
  {
   "cell_type": "code",
   "execution_count": 4,
   "id": "a9555adb-15f1-4d2e-afd6-31e1922857bc",
   "metadata": {},
   "outputs": [
    {
     "name": "stdout",
     "output_type": "stream",
     "text": [
      "CPU times: user 28.6 ms, sys: 5.78 ms, total: 34.4 ms\n",
      "Wall time: 91.8 ms\n"
     ]
    }
   ],
   "source": [
    "%%time\n",
    "Enth_anim = AnimateEnthalpy(src, frames=np.arange(0,1250,5))\n",
    "plt.close()"
   ]
  },
  {
   "cell_type": "code",
   "execution_count": 5,
   "id": "347ea8d4-dea1-421e-abe1-efc6229a85d2",
   "metadata": {},
   "outputs": [
    {
     "name": "stdout",
     "output_type": "stream",
     "text": [
      "CPU times: user 3 µs, sys: 1 µs, total: 4 µs\n",
      "Wall time: 6.91 µs\n"
     ]
    }
   ],
   "source": [
    "%%time\n",
    "# Enth_anim.ani"
   ]
  },
  {
   "cell_type": "code",
   "execution_count": 6,
   "id": "5b61eed1-b918-4386-bf69-395e80d81fd2",
   "metadata": {},
   "outputs": [
    {
     "name": "stdout",
     "output_type": "stream",
     "text": [
      "CPU times: user 7min 52s, sys: 38.7 s, total: 8min 30s\n",
      "Wall time: 9min 36s\n"
     ]
    }
   ],
   "source": [
    "%%time\n",
    "Enth_anim.ani.save('B_1.000e-03_SP_2_QP_28_TT_4.25-5.5ka.mp4', dpi=300)"
   ]
  },
  {
   "cell_type": "markdown",
   "id": "5b8692dc-9dec-4754-9e79-91d6933c8538",
   "metadata": {},
   "source": [
    "### Reopen the source file in order to plot the timeseries of fraction temperate"
   ]
  },
  {
   "cell_type": "code",
   "execution_count": 7,
   "id": "62508f56-5348-446e-8e55-b48df385bdc2",
   "metadata": {},
   "outputs": [],
   "source": [
    "src = xr.open_zarr(test_fp)\n",
    "\n",
    "# interpolate to constant timestep\n",
    "src = src.interp(t=np.linspace(0.1, 6e3, 60_000))\n",
    "# smooth with annual rolling window\n",
    "src = src.rolling(t=10, center=True, min_periods=1).mean('t')\n",
    "\n",
    "# subset timestep to timeslice corresponding to the animation\n",
    "sub = src.sel(t=np.linspace(4.25e3, 5.5e3, 12500), method='nearest')"
   ]
  },
  {
   "cell_type": "code",
   "execution_count": 14,
   "id": "8cdb2bcf-e537-454e-8c8c-c8ef18ae7969",
   "metadata": {},
   "outputs": [
    {
     "data": {
      "image/png": "[encoded data removed]",
      "text/plain": [
       "<Figure size 600x300 with 1 Axes>"
      ]
     },
     "metadata": {},
     "output_type": "display_data"
    }
   ],
   "source": [
    "fig, ax = plt.subplots(figsize=(6,3))\n",
    "\n",
    "ax.plot(src.t/1e3, src.percent_temperate/100, label='Full')\n",
    "ax.plot(sub.t/1e3, sub.percent_temperate/100, label='Animation')\n",
    "\n",
    "ax.legend()\n",
    "ax.set_ylabel('$FT$ (-)')\n",
    "ax.set_xlabel('Time (ka)');\n",
    "\n",
    "fig.savefig('B_1.000e-03_SP_2_QP_28_TT_4.25-5.5ka_timeseries.png', dpi=300)"
   ]
  },
  {
   "cell_type": "code",
   "execution_count": null,
   "id": "60310c3a-5fb2-4add-96c7-e1d90efd758d",
   "metadata": {},
   "outputs": [],
   "source": []
  }
 ],
 "metadata": {
  "kernelspec": {
   "display_name": "Python 3 (ipykernel)",
   "language": "python",
   "name": "python3"
  },
  "language_info": {
   "codemirror_mode": {
    "name": "ipython",
    "version": 3
   },
   "file_extension": ".py",
   "mimetype": "text/x-python",
   "name": "python",
   "nbconvert_exporter": "python",
   "pygments_lexer": "ipython3",
   "version": "3.9.13"
  }
 },
 "nbformat": 4,
 "nbformat_minor": 5
}
