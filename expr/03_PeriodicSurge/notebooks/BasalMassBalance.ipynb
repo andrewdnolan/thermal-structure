{
 "cells": [
  {
   "cell_type": "markdown",
   "id": "bd683b12-2f5c-49a3-b836-435d720af40e",
   "metadata": {},
   "source": [
    "# Basal Mass Balance\n",
    "\n",
    "For the portion of the ice base, which is at the pressure melting point, the basal melt rate for enthalpy is: \n",
    "$$\n",
    "M_{\\rm b} = \\frac{ \\left( F_{\\rm b}  + \\left( \\mathbf{q}_{\\rm geo}  - \\mathbf{q}  \\right) \\cdot \\mathbf{n} \\right)}{(1-\\omega)L\\rho}\n",
    "$$\n",
    "\n",
    "where,\n",
    "  - $M_b$ is the basal melt rate [m a$^{-1}$]\n",
    "  - $\\omega$ is the water content along the ice-bed interface [-]\n",
    "  - $L$ is latent heat of fusion [J kg$^{-1}$]\n",
    "  - $\\rho$ is the density of ice  [kg m$^{3}$]\n",
    "  - $F_{\\rm b}$ is a frictional heat source [J a$^{-1}$ m$^{-2}$]\n",
    "  - $\\mathbf{q}$ is the basal enthalpy gradient [J a$^{-1}$ m$^{-2}$]\n",
    "  - $\\mathbf{q}_{\\rm geo}$ is the geo thermal heat flux [J a$^{-1}$ m$^{-2}$]\n",
    "  - $\\mathbf{n}$ is the unit normal vector which points from the bedrock into the ice"
   ]
  },
  {
   "cell_type": "code",
   "execution_count": 1,
   "id": "fbd4b1e5-f62a-4780-8253-c24928d6f2f2",
   "metadata": {},
   "outputs": [],
   "source": [
    "import cmocean\n",
    "import numpy as np \n",
    "import xarray as xr\n",
    "from tqdm import tqdm\n",
    "import matplotlib.pyplot as plt \n",
    "import matplotlib.colors as colors\n",
    "from matplotlib.lines import Line2D\n",
    "\n",
    "from thermal.constants import *\n",
    "from thermal.gradient import calc_gradient\n",
    "from thermal.utils import calc_conductivity\n",
    "from thermal.derived_fields import calc_length\n",
    "\n",
    "plt.rcParams['text.usetex'] = True"
   ]
  },
  {
   "cell_type": "code",
   "execution_count": 2,
   "id": "045844e3-37ec-45b0-8377-a69b6d87f6bc",
   "metadata": {},
   "outputs": [],
   "source": [
    "def xr_gradient(src, field): \n",
    "    # dims = ['coord_2', 'coord_1']\n",
    "    \n",
    "    dims = list(src.dims)\n",
    "    \n",
    "    # multiple spatial dimensions \n",
    "    if ('coord_2' in dims) and ('coord_1' in dims):\n",
    "        # add check for if time is in dims\n",
    "        dFdz, dFdx = xr.apply_ufunc(calc_gradient,\n",
    "                                    src[field], src['Z'], src['X'], \n",
    "                                    input_core_dims =[dims]*3, \n",
    "                                    output_core_dims=[dims]*2,\n",
    "                                    output_dtypes=[src[field].dtype]*2, \n",
    "                                    dask='parallelized')\n",
    "        # pack the multidimensional gradient into a single field\n",
    "        grad = xr.concat((dFdz, dFdx), dim='dim')\n",
    "        # relabel the dimension `dim` based on the spatial dimension\n",
    "        grad = grad.assign_coords({'dim' : ['Z', 'X']})\n",
    "    \n",
    "    # just looking for the horizontal gradient \n",
    "    elif ('coord_1' in dims):\n",
    "        dFdx = xr.apply_ufunc(np.gradient, \n",
    "                              src[field], src['X'], \n",
    "                              input_core_dims =[dims]*2, \n",
    "                              output_core_dims=[dims])\n",
    "        \n",
    "        # expand the gradient so it will able to be broadcast agaisnt \n",
    "        # the multidimensional gradients calculated above\n",
    "        grad = dFdx.expand_dims('dim').assign_coords({'dim' : ['X']})\n",
    "                            \n",
    "    return grad\n",
    "\n",
    "def calc_basal_gradient(src, field): \n",
    "    \"\"\"Helper function to calculate basal gradient \n",
    "    \"\"\"\n",
    "    \n",
    "    if 't' in src.dims: \n",
    "        grad = src.groupby('t').apply(xr_gradient, field=field)\n",
    "    else: \n",
    "        # compute the gradient of the field using the wrapped ufunc\n",
    "        grad = xr_gradient(src, field)\n",
    "    \n",
    "    # extract the values along the base: \n",
    "    # NOTE: index 0 is bed, not -1 \n",
    "    grad_F_b = grad.isel(coord_2 = 0)\n",
    "        \n",
    "    return grad_F_b\n",
    "\n",
    "def check_temperate(src, i): \n",
    "    \"\"\"Check if ice at the i-th vertical coordinate is temperate\n",
    "    \"\"\"\n",
    "    H_b = src.enthalpy_h.isel(coord_2=i)#.compute()\n",
    "    H_f = src['phase change enthalpy'].isel(coord_2=i)#.compute()\n",
    "    return (H_b >= H_f)\n",
    "\n",
    "def calc_heat_flux(src): \n",
    "    \"\"\" Calcuate the energy flux at the ice base\n",
    "    \n",
    "        Whether to use temp or enth gradient depends in the state\n",
    "        of the ice base (i.e. if overlying temperate ice exists). \n",
    "        See Figure 5 from Aschwanden et al. 2012 \n",
    "        \n",
    "        returns: (2, nx) vector \n",
    "    \"\"\"\n",
    "    # calculate the basal ethalpy gradient (2,nx) \n",
    "    grad_E_b = calc_basal_gradient(src, 'enthalpy_h') # [J kg-1 m-1]\n",
    "    # calculate the basal temperature gradient (2,nx) \n",
    "    grad_T_b = calc_basal_gradient(src, 'temperature') # [K m-1]\n",
    "\n",
    "    # extract the temperature along the ice/bed interface \n",
    "    T_b = src.temperature.isel(coord_2=0)\n",
    "\n",
    "    # heat capacity conducivity along the ice base [J K-1 m-1 a-1]\n",
    "    k = calc_conductivity(T_b+273.15, 910.) * spy\n",
    "    # temperate ice enthalpy diffusivity\n",
    "    kappa = 3.295e3     #[kg m-1 a-1]\n",
    "\n",
    "    # compute the heat flux vector \n",
    "    q_T = -k * grad_T_b   # [J a-1 m-2]\n",
    "    # compute the heat flux vector \n",
    "    q_E = -kappa * grad_E_b   # [J a-1 m-2]\n",
    "    \n",
    "    # find where ice-base is temperate\n",
    "    temp_base  = check_temperate(src, 0)\n",
    "    # will return true for gridcells which are temperate, \n",
    "    # but have no overlying temperate ice\n",
    "    no_temp_layer = ~temp_base & check_temperate(sub, 1)\n",
    "\n",
    "    # return heat flux for all areas of bed (even those frozen), \n",
    "    # valid bmb areas will need to be masked later \n",
    "    q_ice = xr.where(no_temp_layer, q_E, q_T)\n",
    "    \n",
    "    return q_ice"
   ]
  },
  {
   "cell_type": "markdown",
   "id": "1ce4f26b-8376-4946-b90b-3e2cb689c6bc",
   "metadata": {},
   "source": [
    "Let's load the reference glacier, and use it's steady-state resutls to figure out how significant the basal mass balance will be. "
   ]
  },
  {
   "cell_type": "code",
   "execution_count": 3,
   "id": "6121ceb8-4f57-4158-8ff5-bc86d8f2720f",
   "metadata": {},
   "outputs": [],
   "source": [
    "src_fp = '/Volumes/thermal/Thesis/thermal-structure/expr/03_PeriodicSurge/result/crmpt12/gridded/Frictional_heating/crmpt12_dx_50_TT_6--9ka_MB_-0.37_OFF_Tma_-8.5_B_4.217e-04_SP_2_QP_28.zarr'\n",
    "# lazy load the zarr file\n",
    "src = xr.open_zarr(src_fp)\n",
    "# drop the parameter dims for this purpose\n",
    "src = src.squeeze()\n",
    "\n",
    "# interpolated time \n",
    "t_interp = np.linspace(6e3, 9e3, 3_000, endpoint=False)\n",
    "# downsample to annual timesteps \n",
    "src = src.interp(t=t_interp,\n",
    "                 method=\"linear\",\n",
    "                 kwargs={\"fill_value\": \"extrapolate\"})"
   ]
  },
  {
   "cell_type": "markdown",
   "id": "7d45d899-d5ca-4a39-91a4-c650e62e09f8",
   "metadata": {},
   "source": [
    "Follow Greeve and Blatter (2009), we define the ice base as: \n",
    "$$\n",
    "z_{\\rm b} = b(x) - z = 0\n",
    "$$\n",
    "where $b(x)$ is the bed elevation and $z$ is the vertical coordinate. Note $b(x)$ is constant in time.\n",
    "\n",
    "In order to calculate the basal mass balance, we first need thr unit normal vector, \n",
    "$$\n",
    "\\mathbf{n} = \\frac{\\nabla z_{\\rm b}}{|\\nabla z_{\\rm b}|} = \\frac{1}{N_{\\rm b}} \n",
    "\\begin{pmatrix}\n",
    "-\\frac{\\partial z_{\\rm b}}{\\partial x} \\\\\n",
    "1\n",
    "\\end{pmatrix}\n",
    "$$\n",
    "which points from bedrock into the ice. $N_{\\rm b}$ is the gradient norm, \n",
    "$$\n",
    "N_{\\rm b} = |\\nabla z_{\\rm b}| = \\left(1 + \\left(\\frac{\\partial z_{\\rm b}}{\\partial x}\\right)^2\\right)^{1/2} . \n",
    "$$\n",
    "\n",
    "Using the reference data, let's calculate $\\mathbf{n}$. "
   ]
  },
  {
   "cell_type": "code",
   "execution_count": 4,
   "id": "09eb50e3-2d4c-4964-bd6b-34b28d3cd559",
   "metadata": {},
   "outputs": [],
   "source": [
    "# x coordinate along the bed\n",
    "x_b = src.X.isel(coord_2=0)\n",
    "# bed elevation is NOT time dependent \n",
    "z_b = src.Z.isel(coord_2=0, t=-1)\n",
    "\n",
    "# number of horizontal coordinates\n",
    "nx = z_b.size\n",
    "\n",
    "# calculate bed gradient in the x direction\n",
    "dbdx = np.gradient(z_b, x_b)\n",
    "\n",
    "# caclulate gardient norm \n",
    "N_b = (1 + dbdx**2)**(1/2)\n",
    "\n",
    "# calculate the unit normal vector \n",
    "normal = (1/N_b) * np.stack((-dbdx , np.ones(nx)), 0)\n",
    "\n",
    "# specify the geothermal heat flux\n",
    "ghf = 0.055 * spy"
   ]
  },
  {
   "cell_type": "code",
   "execution_count": 5,
   "id": "34a2d071-5fd3-4aca-81fe-3257a7aa2db1",
   "metadata": {},
   "outputs": [],
   "source": [
    "normal = xr.DataArray((1/N_b) * np.stack((-dbdx , np.ones(nx)), 0), \n",
    "                      dims=['dim', 'coord_1'], coords={'dim': ['Z', 'X']})\n",
    "\n",
    "q_geo  = xr.DataArray(np.stack((np.zeros(nx) , ghf*np.ones(nx)), 0), \n",
    "                      dims=['dim', 'coord_1'], coords={'dim': ['Z', 'X']})"
   ]
  },
  {
   "cell_type": "markdown",
   "id": "23e71918-f42c-489c-95fe-1fdd84902cad",
   "metadata": {
    "tags": []
   },
   "source": [
    "## Calculate melt rates over the $6$-$9$ka window"
   ]
  },
  {
   "cell_type": "code",
   "execution_count": 6,
   "id": "ec0cf2ce-f73a-4e22-8cb7-ebff712aee7a",
   "metadata": {},
   "outputs": [],
   "source": [
    "sub = src.sel(t=slice(6000,9000))"
   ]
  },
  {
   "cell_type": "code",
   "execution_count": 7,
   "id": "2deaeffc-eec5-4299-8e85-5475b166b047",
   "metadata": {},
   "outputs": [
    {
     "name": "stdout",
     "output_type": "stream",
     "text": [
      "CPU times: user 1min 13s, sys: 1.86 s, total: 1min 15s\n",
      "Wall time: 1min 19s\n"
     ]
    }
   ],
   "source": [
    "%%time\n",
    "\n",
    "q_ice = calc_heat_flux(sub)"
   ]
  },
  {
   "cell_type": "code",
   "execution_count": 8,
   "id": "71823302-11ff-4ce4-baf0-b02baacfdc80",
   "metadata": {},
   "outputs": [],
   "source": [
    "mask = check_temperate(sub, 0)\n",
    "# get the frictional heating in J a-2 m-2\n",
    "q_b = sub['friction heating'].where(lambda x: x > 0, 0)\n",
    "# find mask of temperate bed\n",
    "mask = check_temperate(sub, 0)\n",
    "# extract basal water content [-]\n",
    "omega = sub['water content'].isel(coord_2=0)\n",
    "# extract temperature along the ice-base\n",
    "T_b = sub.temperature.isel(coord_2=0)\n",
    "# find the glacier lenght [km] for plotting purposes \n",
    "L = calc_length(sub)\n",
    "\n",
    "bmb = -( q_b + xr.dot(q_geo*normal, dims=['dim']) - xr.dot(q_ice*normal, dims=['dim'])) / ((1-omega)*L_heat*910)\n",
    "# bmb is only valid where bed is temperate \n",
    "bmb = xr.where(~mask, 0, bmb).compute()"
   ]
  },
  {
   "cell_type": "code",
   "execution_count": 9,
   "id": "495c06b1-e265-4652-89b2-59dbc270afa6",
   "metadata": {},
   "outputs": [],
   "source": [
    "y = np.arange(0,3,1)[None,:]\n",
    "x = np.arange(6e3, 9e3, 30)[:, None]\n",
    "surge_timesteps = (x + y).flatten()\n",
    "quies_timestpes = t_interp[~np.isin(t_interp, surge_timesteps)]"
   ]
  },
  {
   "cell_type": "code",
   "execution_count": 11,
   "id": "8c0ae3a9-09df-4d9e-8a0c-774c8202a11c",
   "metadata": {},
   "outputs": [
    {
     "name": "stdout",
     "output_type": "stream",
     "text": [
      "Maximum quesiecent melt rate of: 7.110 mm/yr\n",
      "Maximum   surging  melt rate of: 8.733   m/yr\n"
     ]
    }
   ],
   "source": [
    "min_sugre=float(np.abs(bmb.sel(t=surge_timesteps).min()))\n",
    "min_quies=float(np.abs(bmb.sel(t=quies_timestpes).min()))\n",
    "\n",
    "print(f'Maximum quesiecent melt rate of: {min_quies*1e3:1.3f} mm/yr')\n",
    "print(f'Maximum   surging  melt rate of: {min_sugre*100:1.3f}   m/yr')"
   ]
  },
  {
   "cell_type": "markdown",
   "id": "a1f336e7-93f7-4bed-aa5a-10207ed6c6d3",
   "metadata": {},
   "source": [
    "## Calculate melt rates over the last surge cycle "
   ]
  },
  {
   "cell_type": "code",
   "execution_count": 12,
   "id": "b8fdb882-58e0-40a1-8594-4d123c176a15",
   "metadata": {},
   "outputs": [],
   "source": [
    "src_fp = '/Volumes/thermal/Thesis/thermal-structure/expr/03_PeriodicSurge/result/crmpt12/gridded/Frictional_heating/crmpt12_dx_50_TT_6--9ka_MB_-0.37_OFF_Tma_-8.5_B_4.217e-04_SP_2_QP_28.zarr'\n",
    "# lazy load the zarr file\n",
    "src = xr.open_zarr(src_fp)\n",
    "# drop the parameter dims for this purpose\n",
    "src = src.squeeze()\n",
    "\n",
    "# interpolated time \n",
    "t_interp = np.linspace(6e3, 9e3, 30_000, endpoint=False)\n",
    "# downsample to annual timesteps \n",
    "src = src.interp(t=t_interp,\n",
    "                 method=\"linear\",\n",
    "                 kwargs={\"fill_value\": \"extrapolate\"})"
   ]
  },
  {
   "cell_type": "code",
   "execution_count": 13,
   "id": "db636667-9d6a-49cd-964c-59089a0ba1eb",
   "metadata": {},
   "outputs": [
    {
     "name": "stdout",
     "output_type": "stream",
     "text": [
      "CPU times: user 2min 27s, sys: 2min 21s, total: 4min 49s\n",
      "Wall time: 2min 43s\n"
     ]
    }
   ],
   "source": [
    "%%time\n",
    "\n",
    "sub = src.sel(t=slice(8965,8977.1)).compute()"
   ]
  },
  {
   "cell_type": "code",
   "execution_count": 14,
   "id": "7ab5e8c1-8704-4649-9268-e749dc792cdf",
   "metadata": {},
   "outputs": [
    {
     "name": "stdout",
     "output_type": "stream",
     "text": [
      "CPU times: user 2.37 s, sys: 580 ms, total: 2.95 s\n",
      "Wall time: 3.3 s\n"
     ]
    }
   ],
   "source": [
    "%%time\n",
    "\n",
    "q_ice = calc_heat_flux(sub)"
   ]
  },
  {
   "cell_type": "code",
   "execution_count": 15,
   "id": "0b87f612-caa9-46f4-8e6a-0d8528faa79f",
   "metadata": {},
   "outputs": [
    {
     "name": "stdout",
     "output_type": "stream",
     "text": [
      "CPU times: user 19.2 ms, sys: 6.73 ms, total: 25.9 ms\n",
      "Wall time: 30.5 ms\n"
     ]
    }
   ],
   "source": [
    "%%time \n",
    "\n",
    "# get the frictional heating in J a-2 m-2\n",
    "q_b = sub['friction heating'].where(lambda x: x > 0, 0)\n",
    "# find mask of temperate bed\n",
    "mask = check_temperate(sub, 0).compute()\n",
    "# extract basal water content [-]\n",
    "omega = sub['water content'].isel(coord_2=0)\n",
    "# extract temperature along the ice-base\n",
    "T_b = sub.temperature.isel(coord_2=0)\n",
    "# find the glacier lenght [km] for plotting purposes \n",
    "L = calc_length(sub)\n",
    "\n",
    "bmb = -( q_b + xr.dot(q_geo*normal, dims=['dim']) - xr.dot(q_ice*normal, dims=['dim'])) / ((1-omega)*L_heat*910)\n",
    "# bmb is only valid where bed is temperate \n",
    "bmb = xr.where(~mask, 0, bmb).compute()"
   ]
  },
  {
   "cell_type": "code",
   "execution_count": 16,
   "id": "8d3bb6a5-cdc8-4034-91dc-2280035bdf07",
   "metadata": {},
   "outputs": [
    {
     "data": {
      "image/png": "[encoded data removed]",
      "text/plain": [
       "<Figure size 650x400 with 4 Axes>"
      ]
     },
     "metadata": {},
     "output_type": "display_data"
    }
   ],
   "source": [
    "fig, ax = plt.subplots(2,1, height_ratios=[1, 3], sharex=True, \n",
    "                       figsize=(6.5,4),\n",
    "                       constrained_layout=True)\n",
    "\n",
    "ax[0].plot(x_b[::-1]/1e3, dbdx)\n",
    "\n",
    "ax[0].yaxis.label.set_color('tab:blue')\n",
    "ax[0].tick_params(axis='y', colors='tab:blue')\n",
    "ax[0].spines['right'].set_color('tab:blue')\n",
    "\n",
    "ax2 = ax[0].twinx()\n",
    "ax2.plot(x_b[::-1]/1e3, q_b.sel(t=slice(8970,8972.0)).sum('t')/1e6, color='tab:orange')\n",
    "\n",
    "ax2.yaxis.label.set_color('tab:orange')\n",
    "ax2.tick_params(axis='y', colors='tab:orange')\n",
    "ax2.spines['right'].set_color('tab:orange')\n",
    "\n",
    "ax2.set_ylim(0, None)\n",
    "\n",
    "im = ax[1].pcolormesh(x_b[::-1]/1e3, bmb.t/1e3,\n",
    "                      np.abs(bmb).where(mask), \n",
    "                      cmap='cmo.amp', vmax=0.1,  vmin=0.0) #norm=colors.LogNorm(vmax=0.2,  vmin=1e-2))\n",
    "\n",
    "ax[0].axvline(L.mean(), color='k', lw=1.0, ls=':')\n",
    "\n",
    "ax[1].plot(L, L.t/1e3, color='k', lw=1.0, ls=':')\n",
    "\n",
    "\n",
    "X = sub.X.isel(coord_2=0).sortby('coord_1', ascending=False)\n",
    "ax[1].contourf(x_b[::-1]/1e3, bmb.t/1e3, \n",
    "               mask.where(lambda x: (x==False) & (X/1e3 <= L)), \n",
    "               levels=1, colors='none', hatches='/')\n",
    "    \n",
    "ax[0].grid()\n",
    "ax[1].grid()\n",
    "\n",
    "ax[0].set_ylabel(r'(-)')\n",
    "ax2.set_ylabel(r'(J a$^{-2}$ m$^{-2}$)', rotation=270, labelpad=25)\n",
    "ax[1].set_ylabel('Time (ka)')\n",
    "ax[1].set_xlabel('Distance (km)')\n",
    "\n",
    "custom_lines = [Line2D([0], [0], color='tab:blue', lw=1),\n",
    "                Line2D([0], [0], color='tab:orange', lw=1)]\n",
    "\n",
    "ax[0].legend(custom_lines, [r'$\\partial z_{\\rm b} /\\ \\partial x$', \n",
    "                            r'$\\sum Q_{\\rm b}$'])\n",
    "\n",
    "# add annotations to srcplots\n",
    "labels = ['a', 'b', 'c']\n",
    "for i in range(2):             \n",
    "        ax[i].text(0.025, 0.075, labels[i], \n",
    "                   ha='left', va='bottom', transform=ax[i].transAxes, \n",
    "                   bbox=dict(boxstyle=\"round\", fc='w') )\n",
    "        \n",
    "\n",
    "ax[1].set_xlim(0, 8)\n",
    "cbar = fig.colorbar(im, ax=ax[1], extend='max', pad=-0.05)\n",
    "cbar.set_label(r\"Basal melt rate (m a$^{-1}$)\", rotation=270, labelpad=15)\n",
    "\n",
    "fig.savefig('periodic_basal_mass_balance.pdf')"
   ]
  },
  {
   "cell_type": "code",
   "execution_count": 17,
   "id": "bc231784-ec04-4d37-b499-2c06a8b23f08",
   "metadata": {},
   "outputs": [
    {
     "name": "stdout",
     "output_type": "stream",
     "text": [
      " -9.580e-03 \\% violation of the conservation of mass, by ignoring BMB\n"
     ]
    }
   ],
   "source": [
    "melt = bmb.sel(t=slice(8970.1,8971.9))*0.1*910\n",
    "mass = sub.sel(t=slice(8970.1,8971.9)).height.isel(coord_2=-1).where(X/1e3 <= L).sum('coord_1') * 910\n",
    "\n",
    "percent_error = float(((melt.sum('coord_1') / mass) * 100).sum())\n",
    "\n",
    "print(f' {percent_error:1.3e} \\% violation of the conservation of mass, by ignoring BMB')"
   ]
  },
  {
   "cell_type": "markdown",
   "id": "097236e7-bdf0-42d1-9997-93fbbfdcd9b0",
   "metadata": {},
   "source": [
    "---"
   ]
  },
  {
   "cell_type": "markdown",
   "id": "cede66aa-10e0-4269-8442-5c5693f9075b",
   "metadata": {},
   "source": [
    "Note:\n",
    " \n",
    "  - Surge event from 5970--5972, does not correspond to any terminus advance"
   ]
  },
  {
   "cell_type": "code",
   "execution_count": null,
   "id": "85d87229-9fda-4fee-899c-e5eb4ed8434d",
   "metadata": {},
   "outputs": [],
   "source": [
    "drive_src = '/Volumes/thermal/Thesis/thermal-structure/expr/03_PeriodicSurge/'\n",
    "zarr_path = 'result/crmpt12/gridded/Frictional_heating/crmpt12_dx_50_TT_6--9ka_MB_-0.37_OFF_Tma_-8.5_B_{beta:1.3e}_SP_2_QP_{QP}.zarr'\n",
    "\n",
    "src_fp = drive_src + zarr_path"
   ]
  },
  {
   "cell_type": "code",
   "execution_count": null,
   "id": "fc8bded7-d11a-4388-87b8-35ee9858e7ea",
   "metadata": {},
   "outputs": [],
   "source": [
    "QP = 28 \n",
    "\n",
    "fig, ax = plt.subplots()\n",
    "\n",
    "for beta in tqdm(np.logspace(-3, -4, 9)): \n",
    "    \n",
    "    src = xr.open_zarr(src_fp.format(beta=beta, QP=QP))\n",
    "            \n",
    "    # get the frictional heating in J a-2 m-2\n",
    "    q_b = src['friction heating'].compute()\n",
    "    # extract basal enthalpy [J kg-1]\n",
    "    H_b = src.enthalpy_h.isel(coord_2=0).compute()\n",
    "    \n",
    "        \n",
    "    melt_from_friction = q_b / (H_b * 910)\n",
    "    \n",
    "    \n",
    "    ax.scatter(beta, melt_from_friction.max(),  marker='x') \n",
    "    # ax.scatter(beta, melt_from_friction.mean(), marker='s')\n",
    "\n",
    "#         # length = calc_length(src[['height', 'X']].compute())\n",
    "        \n",
    "#         # find where ice-base is temperate\n",
    "#         temp_base  = check_temperate(src, 0)\n",
    "#         # will return true for gridcells which are tempera te, \n",
    "#         # but have no overlying temperate ice\n",
    "#         no_temp_layer = temp_base & ~check_temperate(sub, 1)\n",
    "\n",
    "        \n",
    "ax.set_xscale('log')\n",
    "\n",
    "# ax.set_xlims(1e-4, 1e-3)"
   ]
  },
  {
   "cell_type": "code",
   "execution_count": null,
   "id": "89a00b48-5600-4de0-bb79-57c3a2ea26ec",
   "metadata": {},
   "outputs": [],
   "source": [
    "%%time\n",
    "\n",
    "for i in range(int(5e8)): \n",
    "    pass"
   ]
  }
 ],
 "metadata": {
  "kernelspec": {
   "display_name": "Python 3 (ipykernel)",
   "language": "python",
   "name": "python3"
  },
  "language_info": {
   "codemirror_mode": {
    "name": "ipython",
    "version": 3
   },
   "file_extension": ".py",
   "mimetype": "text/x-python",
   "name": "python",
   "nbconvert_exporter": "python",
   "pygments_lexer": "ipython3",
   "version": "3.9.13"
  }
 },
 "nbformat": 4,
 "nbformat_minor": 5
}
