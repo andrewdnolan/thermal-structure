{
 "cells": [
  {
   "cell_type": "code",
   "execution_count": 4,
   "metadata": {},
   "outputs": [],
   "source": [
    "import glob \n",
    "import numpy as np\n",
    "import xarray as xr\n",
    "import pandas as pd \n",
    "import seaborn as sns\n",
    "from scipy import optimize\n",
    "from scipy import interpolate\n",
    "import matplotlib.pyplot as plt "
   ]
  },
  {
   "cell_type": "code",
   "execution_count": 5,
   "metadata": {},
   "outputs": [],
   "source": [
    "\n",
    "with xr.open_dataset('./link_test/sprg/nc/sprg_2000a_dt_0.5_dx_100_MB_-0.3_OFF_spline_k2.nc') as src: \n",
    "    # correct for minimum ice thickness\n",
    "    src[\"height\"] = xr.where(src.height <= 10, 0, src.height)\n",
    "    # apply sigma coordinate transform for vertical coordinate\n",
    "    src[\"Z\"]     = src.zbed + src.Z * src.height \n",
    "    # Calculate the magnitude of the velocity vectors\n",
    "    src['vel_m'] = np.sqrt(src['velocity 1']**2 + src['velocity 2']**2)    \n",
    "    \n",
    "Vol = src.height.isel(coord_2=-1).integrate(\"coord_1\") /\\\n",
    "      src.height.isel(coord_2=-1).isel(t=0).integrate(\"coord_1\")\n",
    "\n"
   ]
  },
  {
   "cell_type": "code",
   "execution_count": 8,
   "metadata": {},
   "outputs": [],
   "source": [
    "files   = glob.glob('./link_test/sprg/nc/sprg_2000a_dt_0.5_dx_100_MB_-0.*.nc')\n",
    "xarrays = []\n",
    "for src_fp in sorted(files): \n",
    "    with xr.open_dataset(src_fp) as src: \n",
    "        # correct for minimum ice thickness\n",
    "        src[\"height\"] = xr.where(src.height <= 10, 0, src.height)\n",
    "        # apply sigma coordinate transform for vertical coordinate\n",
    "        src[\"Z\"]     = src.zbed + src.Z * src.height \n",
    "        # Calculate the magnitude of the velocity vectors\n",
    "        src['vel_m'] = np.sqrt(src['velocity 1']**2 + src['velocity 2']**2)    \n",
    "    \n",
    "    xarrays.append(src)"
   ]
  },
  {
   "cell_type": "code",
   "execution_count": 9,
   "metadata": {},
   "outputs": [],
   "source": [
    "# Concatenate the .nc files via their mass balance offset\n",
    "mf_dataset = xr.concat(xarrays,\n",
    "                       pd.Index(data = np.arange(-0.1,-0.6,-0.1), name='Delta_MB'))"
   ]
  },
  {
   "cell_type": "code",
   "execution_count": null,
   "metadata": {},
   "outputs": [],
   "source": [
    "np.isnan(mf_dataset.isel(Delta_MB=-2).Z)"
   ]
  },
  {
   "cell_type": "code",
   "execution_count": null,
   "metadata": {},
   "outputs": [],
   "source": [
    "len(mf_dataset.isel(Delta_MB=-2).where(~np.isnan(mf_dataset.isel(Delta_MB=-2).Z), drop=True).t)"
   ]
  },
  {
   "cell_type": "code",
   "execution_count": null,
   "metadata": {},
   "outputs": [],
   "source": [
    "fig, ax = plt.subplots(figsize=(9,3))\n",
    "\n",
    "ax.plot(src.coord_1[::-1]/1000.,\n",
    "        src.isel(t=0,coord_2=-1).Z,\n",
    "        color='k', ls=':', lw=1.0, label=r'$z_{\\rm s}(t=0)$')\n",
    "\n",
    "\n",
    "ax.plot(src.coord_1[::-1]/1000.,\n",
    "        src.isel(t=-7,coord_2=-1).Z,\n",
    "        color='tab:blue', \n",
    "        label=r'$\\Delta \\dot{b} =$'+'{:.1f}'.format(9.0))\n",
    "\n",
    "ax.plot(src.coord_1[::-1]/1000.,\n",
    "        src.isel(t=0,coord_2=-1).zbed,\n",
    "        color='k')\n",
    "\n",
    "ax.legend()\n",
    "\n",
    "# fig.savefig('/Users/andrewnolan/Desktop/Tweeds_Test_Zs.png', dpi=300, bbox_inches='tight', facecolor='w')"
   ]
  },
  {
   "cell_type": "code",
   "execution_count": null,
   "metadata": {},
   "outputs": [],
   "source": [
    "fig, ax = plt.subplots()\n",
    "\n",
    "ax.plot(Vol.t, Vol)\n",
    "\n",
    "# ax.legend()\n",
    "ax.set_ylabel('Relative Volume Per Unit Width')\n",
    "ax.set_xlabel('Time (years)')\n",
    "\n",
    "# fig.savefig('/Users/andrewnolan/Desktop/crmpt12-restart.png', dpi=300, bbox_inches='tight', facecolor='w')"
   ]
  },
  {
   "cell_type": "code",
   "execution_count": null,
   "metadata": {},
   "outputs": [],
   "source": [
    "print('Volume(t={:.0f}) : {:.3f}'.format(Vol.t[-1].values, Vol[-1].values))"
   ]
  },
  {
   "cell_type": "code",
   "execution_count": null,
   "metadata": {},
   "outputs": [],
   "source": [
    "fig, ax = plt.subplots()\n",
    "\n",
    "ax.plot(Vol.t, np.abs(Vol.differentiate('t')))\n",
    "\n",
    "ax.set_ylabel('$\\Delta V / \\Delta t$')\n",
    "ax.set_xlabel('Time (years)')\n",
    "ax.set_yscale('log')\n",
    "ax.axhline(1e-6, c='k', ls=\":\", lw=1)\n",
    "\n",
    "ax.set_ylim(1e-7, None)\n",
    "# fig.savefig('/Users/andrewnolan/Desktop/crmpt12-restart-dVdt.png', dpi=300, bbox_inches='tight', facecolor='w')"
   ]
  },
  {
   "cell_type": "code",
   "execution_count": null,
   "metadata": {},
   "outputs": [],
   "source": [
    "plt.plot(src.t, src.vel_m.max(dim=('coord_1', 'coord_2'))*(0.5/100))\n",
    "#plt.yscale('log')"
   ]
  },
  {
   "cell_type": "code",
   "execution_count": null,
   "metadata": {},
   "outputs": [],
   "source": [
    "plt.imshow(src['zs accumulation flux 2'].isel(coord_2=-1), aspect='auto');\n",
    "plt.colorbar()"
   ]
  },
  {
   "cell_type": "code",
   "execution_count": null,
   "metadata": {},
   "outputs": [],
   "source": [
    "def calc_AAR(z, b):\n",
    "    \"\"\" z : surface elev|ation    [m a.s.l.]\n",
    "        b : surface mass balance \n",
    "    \"\"\"\n",
    "    glac_area  = z.max() - z.min()\n",
    "    accum_idx  = b>=0\n",
    "    accum_area = z[accum_idx].max() - z[accum_idx].min()\n",
    "    \n",
    "    return accum_area/glac_area"
   ]
  },
  {
   "cell_type": "code",
   "execution_count": null,
   "metadata": {},
   "outputs": [],
   "source": [
    "z = src.Z.isel(coord_2=-1, t=-1).values \n",
    "b = src['zs accumulation flux 2'].isel(coord_2=-1, t=-1)\n",
    "\n",
    "AAR = calc_AAR(z,b)\n",
    "print(AAR)"
   ]
  },
  {
   "cell_type": "code",
   "execution_count": null,
   "metadata": {},
   "outputs": [],
   "source": [
    "import scipy.interpolate as interpolate\n",
    "\n",
    "\n",
    "knots = np.loadtxt(\"../../input_data/mass_balance/KMR_MB_k_2_s_2500_knots.dat\")\n",
    "coefs = np.loadtxt(\"../../input_data/mass_balance/KMR_MB_k_2_s_2500_coefs.dat\")\n",
    "tck   = (knots, coefs, 2)\n",
    "\n",
    "z = src.Z.isel(coord_2=-1, t=-1).values\n",
    "B = interpolate.splev(z, tck) - 0.57 \n",
    "\n",
    "norm_z    = (z - z.min())/(z.max()-z.min())\n",
    "accum_idx = b>=0\n",
    "\n",
    "plt.scatter(norm_z, src['zs accumulation flux 2'].isel(coord_2=-1, t=-1));\n",
    "plt.plot(norm_z, B, color='k');\n",
    "\n",
    "plt.axhline(0.0)\n",
    "plt.axvline(norm_z[accum_idx].min())"
   ]
  },
  {
   "cell_type": "code",
   "execution_count": null,
   "metadata": {},
   "outputs": [],
   "source": [
    "norm_z[accum_idx].min()"
   ]
  },
  {
   "cell_type": "code",
   "execution_count": null,
   "metadata": {},
   "outputs": [],
   "source": [
    "profile_fps = glob.glob('result/*/*.spinup*')\n",
    "\n",
    "array_list = []\n",
    "for fp in profile_fps:\n",
    "    df = pd.read_csv(fp, sep='\\t',names=['dx', 'off', 'time'])\n",
    "    \n",
    "    header_fp = glob.glob('/'.join(fp.split('/')[:-1]) + \"/mesh_dx*/mesh.header\")[0]\n",
    "    n_nodes   = pd.read_csv(header_fp,sep='\\s+', header=None)[0][0]\n",
    "    \n",
    "    array_list.append(np.stack([np.ones(len(df.time.values))*n_nodes,\n",
    "                                df.time.values]))\n",
    "\n",
    "nn_times = np.hstack(array_list)\n",
    "# df = pd.concat(df_list).reset_index(drop=True)\n",
    "\n"
   ]
  },
  {
   "cell_type": "code",
   "execution_count": null,
   "metadata": {},
   "outputs": [],
   "source": [
    "plt.scatter(nn_times[0], nn_times[1])"
   ]
  },
  {
   "cell_type": "code",
   "execution_count": null,
   "metadata": {},
   "outputs": [],
   "source": [
    "keys  = [\n",
    "        # 'twds-b',\n",
    "        # 'klut-a',\n",
    "        # 'klut-b',\n",
    "        'fish']\n",
    "paths = '../../input_data/topography/{}_{}.dat'\n",
    "\n",
    "for i, key in enumerate(keys): \n",
    "    zb_fp = paths.format(key, 'bed')\n",
    "    zs_fp = paths.format(key, 'surf')\n",
    "    \n",
    "    x   = np.loadtxt(zs_fp)[:,0]\n",
    "    z_s = np.loadtxt(zs_fp)[:,1]\n",
    "    z_b = np.loadtxt(zb_fp)[:,1]\n",
    "    \n",
    "    \n",
    "    knots = np.loadtxt(\"../../input_data/mass_balance/KMR_MB_k_2_s_2500_knots.dat\")\n",
    "    coefs = np.loadtxt(\"../../input_data/mass_balance/KMR_MB_k_2_s_2500_coefs.dat\")\n",
    "    tck   = (knots, coefs, 2)\n",
    "\n",
    "    \n",
    "    B = interpolate.splev(z_s, tck) + 6.5\n",
    "\n",
    "    # plt.plot(z_s, B)\n",
    "    plt.plot(x, z_s)\n",
    "    plt.plot(x, z_b, 'k')\n",
    "    \n",
    "    AAR = calc_AAR(z_s,B)\n",
    "    print(AAR)"
   ]
  },
  {
   "cell_type": "code",
   "execution_count": null,
   "metadata": {},
   "outputs": [],
   "source": [
    "zb_fp"
   ]
  },
  {
   "cell_type": "code",
   "execution_count": null,
   "metadata": {},
   "outputs": [],
   "source": [
    "with xr.open_dataset('./result/sprg/nc/sprg_1000a_dt_1_dx_200_MB_0.9_OFF.nc') as src: \n",
    "    # correct for minimum ice thickness\n",
    "    src[\"depth\"] = xr.where(src.depth <= 10, 0, src.depth)\n",
    "    # apply sigma coordinate transform for vertical coordinate\n",
    "    src[\"Z\"]     = src.zbed + src.Z * src.height \n",
    "    # Calculate the magnitude of the velocity vectors\n",
    "    src['vel_m'] = np.sqrt(src['velocity 1']**2 + src['velocity 2']**2)    "
   ]
  },
  {
   "cell_type": "code",
   "execution_count": null,
   "metadata": {},
   "outputs": [],
   "source": [
    "23231 / 60 / 60 "
   ]
  },
  {
   "cell_type": "code",
   "execution_count": null,
   "metadata": {},
   "outputs": [],
   "source": []
  }
 ],
 "metadata": {
  "kernelspec": {
   "display_name": "Python 3",
   "language": "python",
   "name": "python3"
  },
  "language_info": {
   "codemirror_mode": {
    "name": "ipython",
    "version": 3
   },
   "file_extension": ".py",
   "mimetype": "text/x-python",
   "name": "python",
   "nbconvert_exporter": "python",
   "pygments_lexer": "ipython3",
   "version": "3.7.8"
  }
 },
 "nbformat": 4,
 "nbformat_minor": 4
}
