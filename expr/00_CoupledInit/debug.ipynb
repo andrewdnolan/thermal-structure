{
 "cells": [
  {
   "cell_type": "code",
   "execution_count": 18,
   "id": "710bdcf2-7872-49c4-93e4-691b3e13027f",
   "metadata": {},
   "outputs": [],
   "source": [
    "import sys\n",
    "import numpy as np \n",
    "import xarray as xr \n",
    "import matplotlib.pyplot as plt \n",
    "\n",
    "sys.path.append('../../src/thermal/')\n",
    "\n",
    "from open import dataset as open_dataset\n",
    "import plotting as plotting"
   ]
  },
  {
   "cell_type": "code",
   "execution_count": null,
   "id": "a2771046-45aa-40e3-b70c-62f810d1c46e",
   "metadata": {},
   "outputs": [],
   "source": [
    "with open_dataset('result/glc1-a/nc/glc1-a_dx_50_NT_2000_dt_1.0_MB_-1.0_OFF_Tma_-9.0_prog.nc') as src: \n",
    "    fig, ax, cb = plotting.enthalpy_pcolormesh(src, -1, W_max=1);\n",
    "        \n",
    "    # ax.set_title(file)"
   ]
  },
  {
   "cell_type": "code",
   "execution_count": null,
   "id": "bb45b780-ea7f-438c-a8d7-570af7e69c5b",
   "metadata": {},
   "outputs": [],
   "source": [
    "np.abs(src.relative_volume.differentiate('t')).plot()\n",
    "plt.yscale('log')"
   ]
  },
  {
   "cell_type": "code",
   "execution_count": null,
   "id": "0f7f65be-4c98-4d49-a882-d6b10d8482c0",
   "metadata": {},
   "outputs": [],
   "source": [
    "src.percent_temperate.plot()\n",
    "# plt.yscale('log')"
   ]
  },
  {
   "cell_type": "code",
   "execution_count": null,
   "id": "89786c34-80a6-405b-9529-5f89695ddc02",
   "metadata": {},
   "outputs": [],
   "source": [
    "plt.pcolormesh(src.X[:,::-1], \n",
    "               src.Z.isel(t=-1), \n",
    "               src['vel_m'].isel(t=-1), \n",
    "               shading='gouraud')\n",
    "plt.colorbar()"
   ]
  },
  {
   "cell_type": "code",
   "execution_count": null,
   "id": "424d6c9a-37e1-4393-bbdd-1b61a3ac32a5",
   "metadata": {},
   "outputs": [],
   "source": [
    "spy = 365.25*24.0*3600.0\n",
    "\n",
    "print(f'{2.89165e-13*spy*1.0e18:e}')\n",
    "print(f'{ 2.42736e-02*spy*1.0e18:e}')"
   ]
  },
  {
   "cell_type": "code",
   "execution_count": null,
   "id": "8527b80f-036f-42ae-814d-b425a17018b5",
   "metadata": {},
   "outputs": [],
   "source": [
    "print(f'{3.985e-13*spy*1.0e18:e}')\n",
    "print(f'{1.916e3*spy*1.0e18:e}')"
   ]
  },
  {
   "cell_type": "code",
   "execution_count": 17,
   "id": "743d1c00-9121-46b8-90b5-0148b6d886f8",
   "metadata": {},
   "outputs": [
    {
     "data": {
      "text/plain": [
       "{}"
      ]
     },
     "execution_count": 17,
     "metadata": {},
     "output_type": "execute_result"
    }
   ],
   "source": []
  },
  {
   "cell_type": "code",
   "execution_count": null,
   "id": "e39a8963-28cb-4989-bdc7-b850564e59ac",
   "metadata": {},
   "outputs": [],
   "source": []
  }
 ],
 "metadata": {
  "kernelspec": {
   "display_name": "Python 3 (ipykernel)",
   "language": "python",
   "name": "python3"
  },
  "language_info": {
   "codemirror_mode": {
    "name": "ipython",
    "version": 3
   },
   "file_extension": ".py",
   "mimetype": "text/x-python",
   "name": "python",
   "nbconvert_exporter": "python",
   "pygments_lexer": "ipython3",
   "version": "3.7.12"
  }
 },
 "nbformat": 4,
 "nbformat_minor": 5
}
