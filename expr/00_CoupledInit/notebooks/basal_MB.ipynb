{
 "cells": [
  {
   "cell_type": "markdown",
   "id": "bd683b12-2f5c-49a3-b836-435d720af40e",
   "metadata": {},
   "source": [
    "# Basal Mass Balance\n",
    "\n",
    "For the portion of the ice base, which is at the pressure melting point, the basal melt rate for enthalpy is: \n",
    "$$\n",
    "M_{\\rm b} = \\frac{1}{\\rho H} \\left( F_{\\rm b} + Q_{\\rm b} + \\left( \\mathbf{q}_{\\rm geo}  - \\mathbf{q}  \\right) \\cdot \\mathbf{n} \\right)\n",
    "$$\n",
    "\n",
    "where,\n",
    "  - $M_b$ is the basal melt rate [m a$^{-1}$]\n",
    "  - $H$ is the basal enthalpy [J kg^{-1}]\n",
    "  - $\\rho$ is the ice density [kg m^{-3}]\n",
    "  - $F_{\\rm b}$ is a frictional heat source [J a$^{-1}$ m$^{-2}$]\n",
    "  - $Q_{\\rm b}$ is the rate which the hydrologic system delivers latent heat [J a$^{-1}$ m$^{-2}$]\n",
    "  - $\\mathbf{q}$ is the basal enthalpy gradient [J a$^{-1}$ m$^{-2}$]\n",
    "  - $\\mathbf{q}_{\\rm geo}$ is the geo thermal heat flux [J a$^{-1}$ m$^{-2}$]\n",
    "  - $\\mathbf{n}$ is the unit normal vector which points from the bedrock into the ice"
   ]
  },
  {
   "cell_type": "code",
   "execution_count": 265,
   "id": "fbd4b1e5-f62a-4780-8253-c24928d6f2f2",
   "metadata": {},
   "outputs": [],
   "source": [
    "import numpy as np \n",
    "import xarray as xr\n",
    "import matplotlib.pyplot as plt \n",
    "from thermal.constants import *\n",
    "from thermal.gradient import calc_gradient\n",
    "from thermal.utils import calc_conductivity\n",
    "from thermal.derived_fields import calc_length\n",
    "\n",
    "plt.rcParams['text.usetex'] = True"
   ]
  },
  {
   "cell_type": "code",
   "execution_count": 199,
   "id": "045844e3-37ec-45b0-8377-a69b6d87f6bc",
   "metadata": {},
   "outputs": [],
   "source": [
    "def calc_basal_gradient(src, field): \n",
    "    \"\"\"Helper function to calculate basal gradient \n",
    "    \n",
    "       returns: (2,nx) vector\n",
    "    \"\"\"\n",
    "    # compute the gradient of the field \n",
    "    dFdz, dFdx = calc_gradient(src[field], src.Z, src.X)\n",
    "    \n",
    "    # extract the values along the base: \n",
    "    # NOTE: index 0 is bed, not -1 \n",
    "    dFdz_b = dFdz[0,:]\n",
    "    dFdx_b = dFdx[0,:]\n",
    "    \n",
    "    # pack the gradinent into a (2,nx) vector \n",
    "    grad_F_b = np.stack((dFdx_b, dFdz_b)) # [K m-1]\n",
    "    \n",
    "    return grad_F_b\n",
    "\n",
    "def check_temperate(src, i): \n",
    "    \"\"\"Check if ice at the i-th vertical coordinate is temperate\n",
    "    \"\"\"\n",
    "    H_b = sub.enthalpy_h.isel(coord_2=i).compute()\n",
    "    H_f = sub['phase change enthalpy'].isel(coord_2=i).compute()\n",
    "    return (H_b >= H_f).values\n",
    "\n",
    "def calc_heat_flux(src): \n",
    "    \"\"\" Calcuate the energy flux at the ice base\n",
    "    \n",
    "        Whether to use temp or enth gradient depends in the state\n",
    "        of the ice base (i.e. if overlying temperate ice exists). \n",
    "        See Figure 5 from Aschwanden et al. 2012 \n",
    "        \n",
    "        returns: (2, nx) vector \n",
    "    \"\"\"\n",
    "    # calculate the basal ethalpy gradient (2,nx) \n",
    "    grad_E_b = calc_basal_gradient(src, 'enthalpy_h') # [J kg-1 m-1]\n",
    "    # calculate the basal temperature gradient (2,nx) \n",
    "    grad_T_b = calc_basal_gradient(src, 'temperature') # [K m-1]\n",
    "\n",
    "    # extract the temperature along the ice/bed interface \n",
    "    T_b = sub.temperature.isel(coord_2=0).values\n",
    "\n",
    "    # heat capacity conducivity along the ice base [J K-1 m-1 a-1]\n",
    "    k = calc_conductivity(T_b+273.15, 910.) * spy\n",
    "    # temperate ice enthalpy diffusivity\n",
    "    kappa = 3.295e3     #[kg m-1 a-1]\n",
    "\n",
    "    # compute the heat flux vector \n",
    "    q_T = -k * grad_T_b   # [J a-1 m-2]\n",
    "    # compute the heat flux vector \n",
    "    q_E = -kappa * grad_E_b   # [J a-1 m-2]\n",
    "    \n",
    "    # find where ice-base is temperate\n",
    "    temp_base  = check_temperate(src, 0)\n",
    "    # will return true for gridcells which are temperate, \n",
    "    # but have no overlying temperate ice\n",
    "    no_temp_layer = ~temp_base & check_temperate(sub, 1)\n",
    "\n",
    "    # return heat flux for all areas of bed (even those frozen), \n",
    "    # valid bmb areas will need to be masked later \n",
    "    q_ice = np.where(no_temp_layer, q_E, q_T)\n",
    "    \n",
    "    return q_ice"
   ]
  },
  {
   "cell_type": "markdown",
   "id": "1ce4f26b-8376-4946-b90b-3e2cb689c6bc",
   "metadata": {},
   "source": [
    "Let's load the reference glacier, and use it's steady-state resutls to figure out how significant the basal mass balance will be. "
   ]
  },
  {
   "cell_type": "code",
   "execution_count": 283,
   "id": "6121ceb8-4f57-4158-8ff5-bc86d8f2720f",
   "metadata": {},
   "outputs": [],
   "source": [
    "src_fp = '/Volumes/thermal_ssd/crmpt12/thinned/crmpt12_dx_50_NT_30000_dt_0.1_MB_-0.37_OFF_Tma_-8.5_prog.zarr'\n",
    "# lazy load the zarr file\n",
    "src = xr.open_zarr(src_fp)\n",
    "# drop the parameter dims for this purpose\n",
    "src = src.squeeze()"
   ]
  },
  {
   "cell_type": "code",
   "execution_count": 287,
   "id": "ba92e52d-3bbf-4eed-91a9-5302a4209160",
   "metadata": {},
   "outputs": [],
   "source": [
    "volume = \n",
    "#src['init_volume'] = src['relative_volume'].isel(t=0)"
   ]
  },
  {
   "cell_type": "code",
   "execution_count": 288,
   "id": "92a97f3b-e650-4c56-ae6f-c47fc38d3a6c",
   "metadata": {},
   "outputs": [
    {
     "data": {
      "text/html": [
       "<div><svg style=\"position: absolute; width: 0; height: 0; overflow: hidden\">\n",
       "<defs>\n",
       "<symbol id=\"icon-database\" viewBox=\"0 0 32 32\">\n",
       "<path d=\"M16 0c-8.837 0-16 2.239-16 5v4c0 2.761 7.163 5 16 5s16-2.239 16-5v-4c0-2.761-7.163-5-16-5z\"></path>\n",
       "<path d=\"M16 17c-8.837 0-16-2.239-16-5v6c0 2.761 7.163 5 16 5s16-2.239 16-5v-6c0 2.761-7.163 5-16 5z\"></path>\n",
       "<path d=\"M16 26c-8.837 0-16-2.239-16-5v6c0 2.761 7.163 5 16 5s16-2.239 16-5v-6c0 2.761-7.163 5-16 5z\"></path>\n",
       "</symbol>\n",
       "<symbol id=\"icon-file-text2\" viewBox=\"0 0 32 32\">\n",
       "<path d=\"M28.681 7.159c-0.694-0.947-1.662-2.053-2.724-3.116s-2.169-2.030-3.116-2.724c-1.612-1.182-2.393-1.319-2.841-1.319h-15.5c-1.378 0-2.5 1.121-2.5 2.5v27c0 1.378 1.122 2.5 2.5 2.5h23c1.378 0 2.5-1.122 2.5-2.5v-19.5c0-0.448-0.137-1.23-1.319-2.841zM24.543 5.457c0.959 0.959 1.712 1.825 2.268 2.543h-4.811v-4.811c0.718 0.556 1.584 1.309 2.543 2.268zM28 29.5c0 0.271-0.229 0.5-0.5 0.5h-23c-0.271 0-0.5-0.229-0.5-0.5v-27c0-0.271 0.229-0.5 0.5-0.5 0 0 15.499-0 15.5 0v7c0 0.552 0.448 1 1 1h7v19.5z\"></path>\n",
       "<path d=\"M23 26h-14c-0.552 0-1-0.448-1-1s0.448-1 1-1h14c0.552 0 1 0.448 1 1s-0.448 1-1 1z\"></path>\n",
       "<path d=\"M23 22h-14c-0.552 0-1-0.448-1-1s0.448-1 1-1h14c0.552 0 1 0.448 1 1s-0.448 1-1 1z\"></path>\n",
       "<path d=\"M23 18h-14c-0.552 0-1-0.448-1-1s0.448-1 1-1h14c0.552 0 1 0.448 1 1s-0.448 1-1 1z\"></path>\n",
       "</symbol>\n",
       "</defs>\n",
       "</svg>\n",
       "<style>/* CSS stylesheet for displaying xarray objects in jupyterlab.\n",
       " *\n",
       " */\n",
       "\n",
       ":root {\n",
       "  --xr-font-color0: var(--jp-content-font-color0, rgba(0, 0, 0, 1));\n",
       "  --xr-font-color2: var(--jp-content-font-color2, rgba(0, 0, 0, 0.54));\n",
       "  --xr-font-color3: var(--jp-content-font-color3, rgba(0, 0, 0, 0.38));\n",
       "  --xr-border-color: var(--jp-border-color2, #e0e0e0);\n",
       "  --xr-disabled-color: var(--jp-layout-color3, #bdbdbd);\n",
       "  --xr-background-color: var(--jp-layout-color0, white);\n",
       "  --xr-background-color-row-even: var(--jp-layout-color1, white);\n",
       "  --xr-background-color-row-odd: var(--jp-layout-color2, #eeeeee);\n",
       "}\n",
       "\n",
       "html[theme=dark],\n",
       "body[data-theme=dark],\n",
       "body.vscode-dark {\n",
       "  --xr-font-color0: rgba(255, 255, 255, 1);\n",
       "  --xr-font-color2: rgba(255, 255, 255, 0.54);\n",
       "  --xr-font-color3: rgba(255, 255, 255, 0.38);\n",
       "  --xr-border-color: #1F1F1F;\n",
       "  --xr-disabled-color: #515151;\n",
       "  --xr-background-color: #111111;\n",
       "  --xr-background-color-row-even: #111111;\n",
       "  --xr-background-color-row-odd: #313131;\n",
       "}\n",
       "\n",
       ".xr-wrap {\n",
       "  display: block !important;\n",
       "  min-width: 300px;\n",
       "  max-width: 700px;\n",
       "}\n",
       "\n",
       ".xr-text-repr-fallback {\n",
       "  /* fallback to plain text repr when CSS is not injected (untrusted notebook) */\n",
       "  display: none;\n",
       "}\n",
       "\n",
       ".xr-header {\n",
       "  padding-top: 6px;\n",
       "  padding-bottom: 6px;\n",
       "  margin-bottom: 4px;\n",
       "  border-bottom: solid 1px var(--xr-border-color);\n",
       "}\n",
       "\n",
       ".xr-header > div,\n",
       ".xr-header > ul {\n",
       "  display: inline;\n",
       "  margin-top: 0;\n",
       "  margin-bottom: 0;\n",
       "}\n",
       "\n",
       ".xr-obj-type,\n",
       ".xr-array-name {\n",
       "  margin-left: 2px;\n",
       "  margin-right: 10px;\n",
       "}\n",
       "\n",
       ".xr-obj-type {\n",
       "  color: var(--xr-font-color2);\n",
       "}\n",
       "\n",
       ".xr-sections {\n",
       "  padding-left: 0 !important;\n",
       "  display: grid;\n",
       "  grid-template-columns: 150px auto auto 1fr 20px 20px;\n",
       "}\n",
       "\n",
       ".xr-section-item {\n",
       "  display: contents;\n",
       "}\n",
       "\n",
       ".xr-section-item input {\n",
       "  display: none;\n",
       "}\n",
       "\n",
       ".xr-section-item input + label {\n",
       "  color: var(--xr-disabled-color);\n",
       "}\n",
       "\n",
       ".xr-section-item input:enabled + label {\n",
       "  cursor: pointer;\n",
       "  color: var(--xr-font-color2);\n",
       "}\n",
       "\n",
       ".xr-section-item input:enabled + label:hover {\n",
       "  color: var(--xr-font-color0);\n",
       "}\n",
       "\n",
       ".xr-section-summary {\n",
       "  grid-column: 1;\n",
       "  color: var(--xr-font-color2);\n",
       "  font-weight: 500;\n",
       "}\n",
       "\n",
       ".xr-section-summary > span {\n",
       "  display: inline-block;\n",
       "  padding-left: 0.5em;\n",
       "}\n",
       "\n",
       ".xr-section-summary-in:disabled + label {\n",
       "  color: var(--xr-font-color2);\n",
       "}\n",
       "\n",
       ".xr-section-summary-in + label:before {\n",
       "  display: inline-block;\n",
       "  content: '►';\n",
       "  font-size: 11px;\n",
       "  width: 15px;\n",
       "  text-align: center;\n",
       "}\n",
       "\n",
       ".xr-section-summary-in:disabled + label:before {\n",
       "  color: var(--xr-disabled-color);\n",
       "}\n",
       "\n",
       ".xr-section-summary-in:checked + label:before {\n",
       "  content: '▼';\n",
       "}\n",
       "\n",
       ".xr-section-summary-in:checked + label > span {\n",
       "  display: none;\n",
       "}\n",
       "\n",
       ".xr-section-summary,\n",
       ".xr-section-inline-details {\n",
       "  padding-top: 4px;\n",
       "  padding-bottom: 4px;\n",
       "}\n",
       "\n",
       ".xr-section-inline-details {\n",
       "  grid-column: 2 / -1;\n",
       "}\n",
       "\n",
       ".xr-section-details {\n",
       "  display: none;\n",
       "  grid-column: 1 / -1;\n",
       "  margin-bottom: 5px;\n",
       "}\n",
       "\n",
       ".xr-section-summary-in:checked ~ .xr-section-details {\n",
       "  display: contents;\n",
       "}\n",
       "\n",
       ".xr-array-wrap {\n",
       "  grid-column: 1 / -1;\n",
       "  display: grid;\n",
       "  grid-template-columns: 20px auto;\n",
       "}\n",
       "\n",
       ".xr-array-wrap > label {\n",
       "  grid-column: 1;\n",
       "  vertical-align: top;\n",
       "}\n",
       "\n",
       ".xr-preview {\n",
       "  color: var(--xr-font-color3);\n",
       "}\n",
       "\n",
       ".xr-array-preview,\n",
       ".xr-array-data {\n",
       "  padding: 0 5px !important;\n",
       "  grid-column: 2;\n",
       "}\n",
       "\n",
       ".xr-array-data,\n",
       ".xr-array-in:checked ~ .xr-array-preview {\n",
       "  display: none;\n",
       "}\n",
       "\n",
       ".xr-array-in:checked ~ .xr-array-data,\n",
       ".xr-array-preview {\n",
       "  display: inline-block;\n",
       "}\n",
       "\n",
       ".xr-dim-list {\n",
       "  display: inline-block !important;\n",
       "  list-style: none;\n",
       "  padding: 0 !important;\n",
       "  margin: 0;\n",
       "}\n",
       "\n",
       ".xr-dim-list li {\n",
       "  display: inline-block;\n",
       "  padding: 0;\n",
       "  margin: 0;\n",
       "}\n",
       "\n",
       ".xr-dim-list:before {\n",
       "  content: '(';\n",
       "}\n",
       "\n",
       ".xr-dim-list:after {\n",
       "  content: ')';\n",
       "}\n",
       "\n",
       ".xr-dim-list li:not(:last-child):after {\n",
       "  content: ',';\n",
       "  padding-right: 5px;\n",
       "}\n",
       "\n",
       ".xr-has-index {\n",
       "  font-weight: bold;\n",
       "}\n",
       "\n",
       ".xr-var-list,\n",
       ".xr-var-item {\n",
       "  display: contents;\n",
       "}\n",
       "\n",
       ".xr-var-item > div,\n",
       ".xr-var-item label,\n",
       ".xr-var-item > .xr-var-name span {\n",
       "  background-color: var(--xr-background-color-row-even);\n",
       "  margin-bottom: 0;\n",
       "}\n",
       "\n",
       ".xr-var-item > .xr-var-name:hover span {\n",
       "  padding-right: 5px;\n",
       "}\n",
       "\n",
       ".xr-var-list > li:nth-child(odd) > div,\n",
       ".xr-var-list > li:nth-child(odd) > label,\n",
       ".xr-var-list > li:nth-child(odd) > .xr-var-name span {\n",
       "  background-color: var(--xr-background-color-row-odd);\n",
       "}\n",
       "\n",
       ".xr-var-name {\n",
       "  grid-column: 1;\n",
       "}\n",
       "\n",
       ".xr-var-dims {\n",
       "  grid-column: 2;\n",
       "}\n",
       "\n",
       ".xr-var-dtype {\n",
       "  grid-column: 3;\n",
       "  text-align: right;\n",
       "  color: var(--xr-font-color2);\n",
       "}\n",
       "\n",
       ".xr-var-preview {\n",
       "  grid-column: 4;\n",
       "}\n",
       "\n",
       ".xr-index-preview {\n",
       "  grid-column: 2 / 5;\n",
       "  color: var(--xr-font-color2);\n",
       "}\n",
       "\n",
       ".xr-var-name,\n",
       ".xr-var-dims,\n",
       ".xr-var-dtype,\n",
       ".xr-preview,\n",
       ".xr-attrs dt {\n",
       "  white-space: nowrap;\n",
       "  overflow: hidden;\n",
       "  text-overflow: ellipsis;\n",
       "  padding-right: 10px;\n",
       "}\n",
       "\n",
       ".xr-var-name:hover,\n",
       ".xr-var-dims:hover,\n",
       ".xr-var-dtype:hover,\n",
       ".xr-attrs dt:hover {\n",
       "  overflow: visible;\n",
       "  width: auto;\n",
       "  z-index: 1;\n",
       "}\n",
       "\n",
       ".xr-var-attrs,\n",
       ".xr-var-data,\n",
       ".xr-index-data {\n",
       "  display: none;\n",
       "  background-color: var(--xr-background-color) !important;\n",
       "  padding-bottom: 5px !important;\n",
       "}\n",
       "\n",
       ".xr-var-attrs-in:checked ~ .xr-var-attrs,\n",
       ".xr-var-data-in:checked ~ .xr-var-data,\n",
       ".xr-index-data-in:checked ~ .xr-index-data {\n",
       "  display: block;\n",
       "}\n",
       "\n",
       ".xr-var-data > table {\n",
       "  float: right;\n",
       "}\n",
       "\n",
       ".xr-var-name span,\n",
       ".xr-var-data,\n",
       ".xr-index-name div,\n",
       ".xr-index-data,\n",
       ".xr-attrs {\n",
       "  padding-left: 25px !important;\n",
       "}\n",
       "\n",
       ".xr-attrs,\n",
       ".xr-var-attrs,\n",
       ".xr-var-data,\n",
       ".xr-index-data {\n",
       "  grid-column: 1 / -1;\n",
       "}\n",
       "\n",
       "dl.xr-attrs {\n",
       "  padding: 0;\n",
       "  margin: 0;\n",
       "  display: grid;\n",
       "  grid-template-columns: 125px auto;\n",
       "}\n",
       "\n",
       ".xr-attrs dt,\n",
       ".xr-attrs dd {\n",
       "  padding: 0;\n",
       "  margin: 0;\n",
       "  float: left;\n",
       "  padding-right: 10px;\n",
       "  width: auto;\n",
       "}\n",
       "\n",
       ".xr-attrs dt {\n",
       "  font-weight: normal;\n",
       "  grid-column: 1;\n",
       "}\n",
       "\n",
       ".xr-attrs dt:hover span {\n",
       "  display: inline-block;\n",
       "  background: var(--xr-background-color);\n",
       "  padding-right: 10px;\n",
       "}\n",
       "\n",
       ".xr-attrs dd {\n",
       "  grid-column: 2;\n",
       "  white-space: pre-wrap;\n",
       "  word-break: break-all;\n",
       "}\n",
       "\n",
       ".xr-icon-database,\n",
       ".xr-icon-file-text2,\n",
       ".xr-no-icon {\n",
       "  display: inline-block;\n",
       "  vertical-align: middle;\n",
       "  width: 1em;\n",
       "  height: 1.5em !important;\n",
       "  stroke-width: 0;\n",
       "  stroke: currentColor;\n",
       "  fill: currentColor;\n",
       "}\n",
       "</style><pre class='xr-text-repr-fallback'>&lt;xarray.DataArray &#x27;volume&#x27; ()&gt;\n",
       "dask.array&lt;getitem, shape=(), dtype=float64, chunksize=(), chunktype=numpy.ndarray&gt;\n",
       "Coordinates:\n",
       "    T_ma     float64 -8.5\n",
       "    offset   float64 -0.37</pre><div class='xr-wrap' style='display:none'><div class='xr-header'><div class='xr-obj-type'>xarray.DataArray</div><div class='xr-array-name'>'volume'</div></div><ul class='xr-sections'><li class='xr-section-item'><div class='xr-array-wrap'><input id='section-d3c4e201-cb09-4c97-bce1-527ab0d274b9' class='xr-array-in' type='checkbox' checked><label for='section-d3c4e201-cb09-4c97-bce1-527ab0d274b9' title='Show/hide data repr'><svg class='icon xr-icon-database'><use xlink:href='#icon-database'></use></svg></label><div class='xr-array-preview xr-preview'><span>dask.array&lt;chunksize=(), meta=np.ndarray&gt;</span></div><div class='xr-array-data'><table>\n",
       "    <tr>\n",
       "        <td>\n",
       "            <table style=\"border-collapse: collapse;\">\n",
       "                <thead>\n",
       "                    <tr>\n",
       "                        <td> </td>\n",
       "                        <th> Array </th>\n",
       "                        <th> Chunk </th>\n",
       "                    </tr>\n",
       "                </thead>\n",
       "                <tbody>\n",
       "                    \n",
       "                    <tr>\n",
       "                        <th> Bytes </th>\n",
       "                        <td> 8 B </td>\n",
       "                        <td> 8 B </td>\n",
       "                    </tr>\n",
       "                    \n",
       "                    <tr>\n",
       "                        <th> Shape </th>\n",
       "                        <td> () </td>\n",
       "                        <td> () </td>\n",
       "                    </tr>\n",
       "                    <tr>\n",
       "                        <th> Dask graph </th>\n",
       "                        <td colspan=\"2\"> 1 chunks in 4 graph layers </td>\n",
       "                    </tr>\n",
       "                    <tr>\n",
       "                        <th> Data type </th>\n",
       "                        <td colspan=\"2\"> float64 numpy.ndarray </td>\n",
       "                    </tr>\n",
       "                </tbody>\n",
       "            </table>\n",
       "        </td>\n",
       "        <td>\n",
       "        \n",
       "        </td>\n",
       "    </tr>\n",
       "</table></div></div></li><li class='xr-section-item'><input id='section-0c26b2d9-7cd7-4b24-aa5c-9f4d8e0fdd55' class='xr-section-summary-in' type='checkbox'  checked><label for='section-0c26b2d9-7cd7-4b24-aa5c-9f4d8e0fdd55' class='xr-section-summary' >Coordinates: <span>(2)</span></label><div class='xr-section-inline-details'></div><div class='xr-section-details'><ul class='xr-var-list'><li class='xr-var-item'><div class='xr-var-name'><span>T_ma</span></div><div class='xr-var-dims'>()</div><div class='xr-var-dtype'>float64</div><div class='xr-var-preview xr-preview'>-8.5</div><input id='attrs-fb95b741-d3ec-4ac0-b3c8-477b96da9e84' class='xr-var-attrs-in' type='checkbox' disabled><label for='attrs-fb95b741-d3ec-4ac0-b3c8-477b96da9e84' title='Show/Hide attributes'><svg class='icon xr-icon-file-text2'><use xlink:href='#icon-file-text2'></use></svg></label><input id='data-016b5c4a-adf1-4b81-876d-cbc3af1a0e55' class='xr-var-data-in' type='checkbox'><label for='data-016b5c4a-adf1-4b81-876d-cbc3af1a0e55' title='Show/Hide data repr'><svg class='icon xr-icon-database'><use xlink:href='#icon-database'></use></svg></label><div class='xr-var-attrs'><dl class='xr-attrs'></dl></div><div class='xr-var-data'><pre>array(-8.5)</pre></div></li><li class='xr-var-item'><div class='xr-var-name'><span>offset</span></div><div class='xr-var-dims'>()</div><div class='xr-var-dtype'>float64</div><div class='xr-var-preview xr-preview'>-0.37</div><input id='attrs-76689eed-890f-4a66-8761-d936ac77cb37' class='xr-var-attrs-in' type='checkbox' disabled><label for='attrs-76689eed-890f-4a66-8761-d936ac77cb37' title='Show/Hide attributes'><svg class='icon xr-icon-file-text2'><use xlink:href='#icon-file-text2'></use></svg></label><input id='data-d17df4d3-e5d7-4c18-829c-5a6d64106794' class='xr-var-data-in' type='checkbox'><label for='data-d17df4d3-e5d7-4c18-829c-5a6d64106794' title='Show/Hide data repr'><svg class='icon xr-icon-database'><use xlink:href='#icon-database'></use></svg></label><div class='xr-var-attrs'><dl class='xr-attrs'></dl></div><div class='xr-var-data'><pre>array(-0.37)</pre></div></li></ul></div></li><li class='xr-section-item'><input id='section-330f8ec0-f0b9-485e-8c94-804adbe2d28b' class='xr-section-summary-in' type='checkbox' disabled ><label for='section-330f8ec0-f0b9-485e-8c94-804adbe2d28b' class='xr-section-summary'  title='Expand/collapse section'>Indexes: <span>(0)</span></label><div class='xr-section-inline-details'></div><div class='xr-section-details'><ul class='xr-var-list'></ul></div></li><li class='xr-section-item'><input id='section-6ea88893-85e8-4ee7-8fc4-4df5e6720061' class='xr-section-summary-in' type='checkbox' disabled ><label for='section-6ea88893-85e8-4ee7-8fc4-4df5e6720061' class='xr-section-summary'  title='Expand/collapse section'>Attributes: <span>(0)</span></label><div class='xr-section-inline-details'></div><div class='xr-section-details'><dl class='xr-attrs'></dl></div></li></ul></div></div>"
      ],
      "text/plain": [
       "<xarray.DataArray 'volume' ()>\n",
       "dask.array<getitem, shape=(), dtype=float64, chunksize=(), chunktype=numpy.ndarray>\n",
       "Coordinates:\n",
       "    T_ma     float64 -8.5\n",
       "    offset   float64 -0.37"
      ]
     },
     "execution_count": 288,
     "metadata": {},
     "output_type": "execute_result"
    }
   ],
   "source": [
    "src['volume']"
   ]
  },
  {
   "cell_type": "markdown",
   "id": "7d45d899-d5ca-4a39-91a4-c650e62e09f8",
   "metadata": {},
   "source": [
    "Follow Greeve and Blatter (2009), we define the ice base as: \n",
    "$$\n",
    "z_{\\rm b} = b(x) - z = 0\n",
    "$$\n",
    "where $b(x)$ is the bed elevation and $z$ is the vertical coordinate. Note $b(x)$ is constant in time.\n",
    "\n",
    "In order to calculate the basal mass balance, we first need thr unit normal vector, \n",
    "$$\n",
    "\\mathbf{n} = \\frac{\\nabla z_{\\rm b}}{|\\nabla z_{\\rm b}|} = \\frac{1}{N_{\\rm b}} \n",
    "\\begin{pmatrix}\n",
    "-\\frac{\\partial z_{\\rm b}}{\\partial x} \\\\\n",
    "1\n",
    "\\end{pmatrix}\n",
    "$$\n",
    "which points from bedrock into the ice. $N_{\\rm b}$ is the gradient norm, \n",
    "$$\n",
    "N_{\\rm b} = |\\nabla z_{\\rm b}| = \\left(1 + \\left(\\frac{\\partial z_{\\rm b}}{\\partial x}\\right)^2\\right)^{1/2} . \n",
    "$$\n",
    "\n",
    "Using the reference data, let's calculate $\\mathbf{n}$. "
   ]
  },
  {
   "cell_type": "code",
   "execution_count": 122,
   "id": "09eb50e3-2d4c-4964-bd6b-34b28d3cd559",
   "metadata": {},
   "outputs": [],
   "source": [
    "# x coordinate along the bed\n",
    "x_b = src.X.isel(coord_2=0)\n",
    "# bed elevation is NOT time dependent \n",
    "z_b = src.Z.isel(coord_2=0, t=-1)\n",
    "\n",
    "# number of horizontal coordinates\n",
    "nx = z_b.size\n",
    "\n",
    "# calculate bed gradient in the x direction\n",
    "dbdx = np.gradient(z_b, x_b)\n",
    "\n",
    "# caclulate gardient norm \n",
    "N_b = (1 + dbdx**2)**(1/2)\n",
    "\n",
    "# calculate the unit normal vector \n",
    "normal = (1/N_b) * np.stack((-dbdx , np.ones(nx)), 0)"
   ]
  },
  {
   "cell_type": "markdown",
   "id": "3c0059a8-5f26-402f-93a3-47bd21936395",
   "metadata": {},
   "source": [
    "Next we will create a geothermal heat flux vector $\\mathbf{g_{\\rm geo}}$: "
   ]
  },
  {
   "cell_type": "code",
   "execution_count": 123,
   "id": "f090684a-9911-41d7-8739-2715adfd640f",
   "metadata": {},
   "outputs": [],
   "source": [
    "ghf = 0.055 * spy\n",
    "# create a geothermal heat flux vector\n",
    "q_geo = np.stack((np.zeros(nx) , ghf*np.ones(nx)), 0)"
   ]
  },
  {
   "cell_type": "markdown",
   "id": "b70e67ed-4fd0-4bfe-8b61-89ac1da33f47",
   "metadata": {},
   "source": [
    "Next we will compute the enthalpy flux into the ice \n",
    "$$\n",
    "\\mathbf{q} = -\\kappa \\nabla H = -\\kappa \\begin{pmatrix} \n",
    "                                        \\frac{\\partial H}{\\partial x} \\\\\n",
    "                                        \\frac{\\partial H}{\\partial z} \n",
    "                                        \\end{pmatrix}\n",
    "$$"
   ]
  },
  {
   "cell_type": "code",
   "execution_count": 269,
   "id": "18401a84-5b03-4d03-84af-408eec5bbe20",
   "metadata": {},
   "outputs": [],
   "source": [
    "# only interested in a single (the final) timestep for now\n",
    "sub = src.isel(t=-1).compute()\n",
    "# compute heat flux into the ice \n",
    "q_ice = calc_heat_flux(sub)\n",
    "# find mask of temperate bed\n",
    "mask = check_temperate(sub, 0)\n",
    "# extract temperature along the ice-base\n",
    "T_b = sub.temperature.isel(coord_2=0)\n",
    "# find the glacier lenght [km] for plotting purposes \n",
    "L = float(calc_length(sub))"
   ]
  },
  {
   "cell_type": "code",
   "execution_count": 221,
   "id": "ce818d09-3058-47ff-a2e1-bcd06b173b54",
   "metadata": {},
   "outputs": [],
   "source": [
    "# calculate the basal mass balance! \n",
    "bmb = -(q_geo * normal - q_ice * normal).sum(axis=0) / (H*910) # [m a-1]\n",
    "\n",
    "# bmb is only valid where bed is temperate \n",
    "bmb = np.where(~mask, 0, bmb)"
   ]
  },
  {
   "cell_type": "code",
   "execution_count": 281,
   "id": "91a93164-6cc4-4624-9d69-fa1909e40178",
   "metadata": {},
   "outputs": [
    {
     "data": {
      "image/png": "[encoded data removed]",
      "text/plain": [
       "<Figure size 650x300 with 2 Axes>"
      ]
     },
     "metadata": {},
     "output_type": "display_data"
    }
   ],
   "source": [
    "fig, ax1 = plt.subplots(figsize=(6.5, 3))\n",
    "ax2 = ax1.twinx()\n",
    "\n",
    "ax1.plot(x_b[::-1]/1e3, bmb*1e3, color='k', lw=1.0, label='Basal Mass Balance')\n",
    "ax2.plot(x_b[::-1]/1e3, T_b, color='tab:green', lw=1.0, label='Basal Temperature')\n",
    "\n",
    "\n",
    "# ax1.legend(loc='center left')\n",
    "# ax2.legend(loc='lower left', bbox_to_anchor=(0.001, 0.525))\n",
    "\n",
    "ax1.set_ylabel('Basal mass balance (mm w.e. a$^{-1}$)')\n",
    "ax2.set_ylabel('Homologous Basal Temperatue ($^\\circ$ C)',\n",
    "               rotation=270, labelpad=15)\n",
    "\n",
    "ax2.yaxis.label.set_color('tab:green')\n",
    "ax2.tick_params(axis='y', colors='tab:green')\n",
    "ax2.spines['right'].set_color('tab:green')\n",
    "ax1.set_xlabel('Distance [km]')\n",
    "\n",
    "ax1.set_xlim(0, L)\n",
    "\n",
    "fig.savefig('figs/crmpt12/ref_glacier_BMB.pdf')\n",
    "fig.savefig('figs/crmpt12/ref_glacier_BMB.png', dpi=600)"
   ]
  },
  {
   "cell_type": "code",
   "execution_count": null,
   "id": "2ba0494b-0fb3-4b11-b04f-73b140d5c10a",
   "metadata": {},
   "outputs": [],
   "source": []
  },
  {
   "cell_type": "code",
   "execution_count": null,
   "id": "6d60d60d-61ea-4b21-bf2e-d68edbf061d3",
   "metadata": {},
   "outputs": [],
   "source": [
    "\n",
    "\n",
    "bmb = (q_geo * normal + kappa*grad_T_b * normal ).sum(axis=0) / (H*910)\n",
    "bmb = xr.where(omega >= 1e-3, bmb, 0.0)\n",
    "\n",
    "smb = src['mass balance'].isel(t=-1).compute()"
   ]
  },
  {
   "cell_type": "code",
   "execution_count": 15,
   "id": "a41d05fe-c7ad-4c82-aadc-66e9e1588a9c",
   "metadata": {},
   "outputs": [
    {
     "name": "stdout",
     "output_type": "stream",
     "text": [
      "print maximum basal mass balance is -68.28 cm\n"
     ]
    }
   ],
   "source": [
    "max_bmb = float(bmb.min())*100\n",
    "\n",
    "print(f'print maximum basal mass balance is {max_bmb:.2f} cm')"
   ]
  },
  {
   "cell_type": "code",
   "execution_count": 16,
   "id": "037d5f3f-9396-46bf-8329-687754de6d2b",
   "metadata": {},
   "outputs": [
    {
     "data": {
      "text/plain": [
       "-0.6827677058024271"
      ]
     },
     "execution_count": 16,
     "metadata": {},
     "output_type": "execute_result"
    }
   ],
   "source": [
    "max_bmb/100"
   ]
  },
  {
   "cell_type": "code",
   "execution_count": null,
   "id": "db152c7d-c675-4041-8bbc-30e55a848014",
   "metadata": {},
   "outputs": [],
   "source": [
    "plt.pcolormesh(sub.X[:,::-1], \n",
    "               sub.Z, \n",
    "               dTdz, \n",
    "               vmin=-0.05, vmax=0.05, \n",
    "               shading='gouraud')\n",
    "\n",
    "plt.colorbar()"
   ]
  },
  {
   "cell_type": "code",
   "execution_count": null,
   "id": "c14d06bb-e244-4544-a739-48c8a11ad0ca",
   "metadata": {},
   "outputs": [],
   "source": [
    "dTdz.max()"
   ]
  },
  {
   "cell_type": "code",
   "execution_count": null,
   "id": "91e55da4-b943-427a-a7db-44c080c71dd6",
   "metadata": {},
   "outputs": [],
   "source": [
    "M_s = src['mass balance'].isel(t=-1).compute()"
   ]
  },
  {
   "cell_type": "code",
   "execution_count": null,
   "id": "941c18aa-b579-4811-b4ae-ab376f037376",
   "metadata": {},
   "outputs": [],
   "source": [
    "def vertical_gradient(ds): \n",
    "    return xr.apply_ufunc(np.gradient,\n",
    "                          ds.temperature,\n",
    "                          ds.Z,\n",
    "                          input_core_dims=[[\"coord_2\"], [\"coord_2\"]],\n",
    "                          output_core_dims=[[\"coord_2\"]],\n",
    "                          kwargs={\"axis\": -1})\n",
    "    \n",
    "full = sub.groupby('coord_1').apply(vertical_gradient)"
   ]
  },
  {
   "cell_type": "code",
   "execution_count": null,
   "id": "811854b0-34db-4c1f-92b5-71c86287a92c",
   "metadata": {},
   "outputs": [],
   "source": [
    "x = np.linspace(0,1,11)**2"
   ]
  },
  {
   "cell_type": "code",
   "execution_count": null,
   "id": "bc9c2452-7586-4938-bed4-4c11ace610e6",
   "metadata": {},
   "outputs": [],
   "source": [
    "sin = np.sin(x)\n",
    "cos = np.cos(x)"
   ]
  },
  {
   "cell_type": "code",
   "execution_count": null,
   "id": "7462fb85-43c9-4d30-a930-9a7e2ea9fbb1",
   "metadata": {},
   "outputs": [],
   "source": [
    "(sin[1] - sin[0]) / (x[1] - x[0])"
   ]
  },
  {
   "cell_type": "code",
   "execution_count": null,
   "id": "6a0f271d-fa61-4677-a6a5-2102b7a8b269",
   "metadata": {},
   "outputs": [],
   "source": [
    "def calc_weights(k, xbar, x, n): \n",
    "\n",
    "    A = np.ones((n,n))\n",
    "    \n",
    "    xrow = x[:] - xbar\n",
    "    \n",
    "    for i in range(2,n+1): \n",
    "        A[i-1] = xrow ** (i-1) / factorial(i-1)\n",
    "\n",
    "    b = np.zeros((n))\n",
    "    b[k] = 1\n",
    "    \n",
    "    c = np.linalg.solve(A,b)\n",
    "    \n",
    "    return c"
   ]
  },
  {
   "cell_type": "code",
   "execution_count": null,
   "id": "6ac23288-2a50-4c3f-b8cd-816a5b42f529",
   "metadata": {},
   "outputs": [],
   "source": [
    "for n in range(2, 6): \n",
    "    # calculate weights\n",
    "    c = calc_weights(1, x[0], x[:n], n)\n",
    "    # calculate the finite difference approximation\n",
    "    x_prime = (c * sin[:n]).sum()\n",
    "    # second order graident using numpy\n",
    "    gradient = np.gradient(sin,x,edge_order=2)\n",
    "    \n",
    "    print(f'{cos[0] - x_prime:.3e}, {gradient[0] - x_prime:.3e}')"
   ]
  },
  {
   "cell_type": "code",
   "execution_count": null,
   "id": "56e70363-340b-4b0f-84c4-2dffc3a51db0",
   "metadata": {},
   "outputs": [],
   "source": [
    "c = np.linalg.solve(A,b)"
   ]
  },
  {
   "cell_type": "code",
   "execution_count": null,
   "id": "5d5c74e0-96e1-4512-b23c-97aacda7978b",
   "metadata": {},
   "outputs": [],
   "source": [
    "calc_weights(1, x[1], x[0:3], 3) * 0.1"
   ]
  },
  {
   "cell_type": "code",
   "execution_count": null,
   "id": "49d30c0b-d003-41eb-b93f-a3287a73121a",
   "metadata": {},
   "outputs": [],
   "source": [
    "np.diag(np.ones(nx -1), k=-1) + np.diag(np.ones(nx -1), k=1)  "
   ]
  },
  {
   "cell_type": "code",
   "execution_count": null,
   "id": "387adb16-0f76-4fee-a3cb-879bab50148f",
   "metadata": {},
   "outputs": [],
   "source": [
    "z = sub.Z.values\n",
    "T = sub.temperature.values\n",
    "\n",
    "nx = src.coord_1.size\n",
    "nz = src.coord_2.size"
   ]
  },
  {
   "cell_type": "code",
   "execution_count": null,
   "id": "caa624b9-e965-4936-8ad1-bcca875eab14",
   "metadata": {},
   "outputs": [],
   "source": [
    "print(z.shape)"
   ]
  },
  {
   "cell_type": "code",
   "execution_count": null,
   "id": "db706f43-2906-44cf-bd0a-6dfce928b19c",
   "metadata": {},
   "outputs": [],
   "source": [
    "coefs = np.zeros((nz,nz,nx))\n",
    "\n",
    "for j in range(nx): \n",
    "\n",
    "    coefs[0,  0:3, j] = calc_weights(1, z[0,j],  z[0:3, j].flatten(), 3)\n",
    "    coefs[-1, -3:, j] = calc_weights(1, z[-1,j], z[-3:, j].flatten(), 3)\n",
    "\n",
    "    for i in range(1,nz-1): \n",
    "        coefs[i, i-1:i+2, j] = calc_weights(1, z[i,j], z[i-1:i+2, j].flatten(), 3)\n",
    "\n",
    "    "
   ]
  },
  {
   "cell_type": "code",
   "execution_count": null,
   "id": "b8776ec6-1222-461d-a0ed-255cb76eef4c",
   "metadata": {},
   "outputs": [],
   "source": [
    "np.gradient(T[:,j].flatten(), z[:,j] .flatten(), edge_order=2)"
   ]
  },
  {
   "cell_type": "code",
   "execution_count": null,
   "id": "1ab98ad1-889e-409c-a311-32274756bc88",
   "metadata": {},
   "outputs": [],
   "source": [
    "coefs[:,:,j] @ T[:,j] "
   ]
  },
  {
   "cell_type": "code",
   "execution_count": null,
   "id": "270d75e1-e428-44ad-983c-e850e9bb57dc",
   "metadata": {},
   "outputs": [],
   "source": [
    "einsum = np.einsum('ijk, jk -> ik', coefs, T)"
   ]
  },
  {
   "cell_type": "code",
   "execution_count": null,
   "id": "d069d002-9e2a-4bef-848e-9ef75d54b2b9",
   "metadata": {},
   "outputs": [],
   "source": [
    "np_grad = np.zeros_like(T)\n",
    "\n",
    "for j in range(nx): \n",
    "    np_grad[:, j] = np.gradient(T[:,j], z[:,j], edge_order=2)"
   ]
  },
  {
   "cell_type": "code",
   "execution_count": null,
   "id": "6f42e6cb-3a74-4393-bf57-b73c3c38ff71",
   "metadata": {},
   "outputs": [],
   "source": [
    "np.linalg.norm(np_grad - einsum)"
   ]
  },
  {
   "cell_type": "code",
   "execution_count": null,
   "id": "a561afa5-2c42-4774-a709-03cad2daeef3",
   "metadata": {},
   "outputs": [],
   "source": [
    "from sympy import finite_diff_weights, S"
   ]
  },
  {
   "cell_type": "code",
   "execution_count": null,
   "id": "5defa768-9744-4624-85de-37e3b7f2ab72",
   "metadata": {},
   "outputs": [],
   "source": [
    "finite_diff_weights(1, z[i-1:i+2, j].flatten(), z[i,j])[1][-1]"
   ]
  },
  {
   "cell_type": "code",
   "execution_count": null,
   "id": "6b888140-fb33-41df-a4b3-b73723284089",
   "metadata": {},
   "outputs": [],
   "source": [
    "coefs[i, i-1:i+2, j]"
   ]
  },
  {
   "cell_type": "code",
   "execution_count": null,
   "id": "08747fb2-1def-4929-a793-a7dc5f6f269c",
   "metadata": {},
   "outputs": [],
   "source": [
    "from sympy import finite_diff_weights, symbols"
   ]
  },
  {
   "cell_type": "code",
   "execution_count": null,
   "id": "9b11d4da-43e3-4b02-ac7a-bcfad19f994b",
   "metadata": {},
   "outputs": [],
   "source": [
    "x, h_ip1, h_im1 = symbols('x h_{i+1} h_{i-1}')"
   ]
  },
  {
   "cell_type": "code",
   "execution_count": null,
   "id": "0e465996-7108-4b94-8d67-e8bf35c9999e",
   "metadata": {},
   "outputs": [],
   "source": [
    "x_list = ["
   ]
  },
  {
   "cell_type": "code",
   "execution_count": null,
   "id": "801fbb58-526e-435f-ae3e-1d0f8058f357",
   "metadata": {},
   "outputs": [],
   "source": [
    "from __future__ import print_function\n",
    "from sympy import *\n",
    "init_printing() \n",
    "#https://docs.sympy.org/latest/explanation/special_topics/finite_diff_derivatives.html?highlight=finite+difference\n",
    "x, x0, h_im1, h_ip1 = symbols('x, x_0, h_s, h_d')\n",
    "Fi, Fip1, Fip2 = symbols('f(x_{i}), f(x_{i}-h_s), f(x_{i}+h_d)')\n",
    "n = 3 # there are the coefficients c_0=Fi, c_1=dF/dx, c_2=d**2F/dx**2\n",
    "c = symbols('c:3')\n",
    "def P(x, x0, c, n):\n",
    "    return sum( ((1/factorial(i))*c[i] * (x-x0)**i for i in range(n)) )"
   ]
  },
  {
   "cell_type": "code",
   "execution_count": null,
   "id": "7f4aabad-a8c3-4081-94c6-dbacf8587f32",
   "metadata": {},
   "outputs": [],
   "source": [
    "R = Matrix([[Fi], [Fip1], [Fip2]])"
   ]
  },
  {
   "cell_type": "code",
   "execution_count": null,
   "id": "c71c78a9-a282-48f1-9685-66bf45b9a972",
   "metadata": {},
   "outputs": [],
   "source": [
    "m11 = P(x0 , x0, c, n).diff(c[0])\n",
    "m12 = P(x0 , x0, c, n).diff(c[1])\n",
    "m13 = P(x0 , x0, c, n).diff(c[2])"
   ]
  },
  {
   "cell_type": "code",
   "execution_count": null,
   "id": "beac5dc5-c477-4ac1-a93e-16c26c79ef61",
   "metadata": {},
   "outputs": [],
   "source": [
    "m21 = P(x0-h_im1, x0, c, n).diff(c[0])\n",
    "m22 = P(x0-h_im1, x0, c, n).diff(c[1])\n",
    "m23 = P(x0-h_im1, x0, c, n).diff(c[2])"
   ]
  },
  {
   "cell_type": "code",
   "execution_count": null,
   "id": "7a6ae9b2-5b82-490f-9ab0-065ae463d3ac",
   "metadata": {},
   "outputs": [],
   "source": [
    "m31 = P(x0+h_ip1, x0, c, n).diff(c[0])\n",
    "m32 = P(x0+h_ip1, x0, c, n).diff(c[1])\n",
    "m33 = P(x0+h_ip1, x0, c, n).diff(c[2])"
   ]
  },
  {
   "cell_type": "code",
   "execution_count": null,
   "id": "c00a965a-e6c1-4ec7-9502-ff5743a030d3",
   "metadata": {},
   "outputs": [],
   "source": [
    "M = Matrix([[m11, m12, m13], [m21, m22, m23], [m31, m32, m33]])"
   ]
  },
  {
   "cell_type": "code",
   "execution_count": null,
   "id": "c770270e-d3bc-42c9-9555-5ec1e259447c",
   "metadata": {},
   "outputs": [],
   "source": [
    "X =  M.inv() * R"
   ]
  },
  {
   "cell_type": "code",
   "execution_count": null,
   "id": "619ba674-43df-4013-8b54-a148c064c80c",
   "metadata": {},
   "outputs": [],
   "source": [
    "together(X[1])"
   ]
  },
  {
   "cell_type": "code",
   "execution_count": null,
   "id": "10f1f525-80ad-4e7e-84cc-789bdd9d920a",
   "metadata": {},
   "outputs": [],
   "source": [
    "from __future__ import print_function\n",
    "from sympy import *\n",
    "init_printing() \n",
    "\n",
    "x, x0, h_im1, h_ip1 = symbols('x, x_0, h_s, h_d')\n",
    "Fi, Fip1, Fip2 = symbols('F_{i}, F_{i-1}, F_{i-2}')\n",
    "n = 3 # there are the coefficients c_0=Fi, c_1=dF/dx, c_2=d**2F/dx**2\n",
    "c = symbols('c:3')\n",
    "def P(x, x0, c, n):\n",
    "    return sum( ((1/factorial(i))*c[i] * (x-x0)**i for i in range(n)) )"
   ]
  },
  {
   "cell_type": "code",
   "execution_count": null,
   "id": "e96aaee2-1925-4637-ae5c-7f6ddfaf328a",
   "metadata": {},
   "outputs": [],
   "source": [
    "R = Matrix([[Fi], [Fip1], [Fip2]])"
   ]
  },
  {
   "cell_type": "code",
   "execution_count": null,
   "id": "f1e69bea-62b9-460a-b9bb-5368d24de8f1",
   "metadata": {},
   "outputs": [],
   "source": [
    "m11 = P(x0 , x0, c, n).diff(c[0])\n",
    "m12 = P(x0 , x0, c, n).diff(c[1])\n",
    "m13 = P(x0 , x0, c, n).diff(c[2])"
   ]
  },
  {
   "cell_type": "code",
   "execution_count": null,
   "id": "f6ea4e2a-f5e9-487a-ba40-4c9a004ed5f8",
   "metadata": {},
   "outputs": [],
   "source": [
    "m21 = P(x0-h_im1, x0, c, n).diff(c[0])\n",
    "m22 = P(x0-h_im1, x0, c, n).diff(c[1])\n",
    "m23 = P(x0-h_im1, x0, c, n).diff(c[2])"
   ]
  },
  {
   "cell_type": "code",
   "execution_count": null,
   "id": "7f68e48e-509d-46e8-b74b-12e675a04469",
   "metadata": {},
   "outputs": [],
   "source": [
    "m31 = P(x0-h_ip1, x0, c, n).diff(c[0])\n",
    "m32 = P(x0-h_ip1, x0, c, n).diff(c[1])\n",
    "m33 = P(x0-h_ip1, x0, c, n).diff(c[2])"
   ]
  },
  {
   "cell_type": "code",
   "execution_count": null,
   "id": "4c0624f0-05ac-4630-93eb-ba3dac85dc08",
   "metadata": {},
   "outputs": [],
   "source": [
    "M = Matrix([[m11, m12, m13], [m21, m22, m23], [m31, m32, m33]])"
   ]
  },
  {
   "cell_type": "code",
   "execution_count": null,
   "id": "35fcfc85-0f82-4c76-877a-dbc1b5a194df",
   "metadata": {},
   "outputs": [],
   "source": [
    "X =  M.inv() * R"
   ]
  },
  {
   "cell_type": "code",
   "execution_count": null,
   "id": "bd53590c-e35e-4d9c-bea4-2983cfb183b4",
   "metadata": {},
   "outputs": [],
   "source": [
    "together(X[1])"
   ]
  },
  {
   "cell_type": "code",
   "execution_count": null,
   "id": "edc2427d-42bb-4b2f-9605-012b3061bd4f",
   "metadata": {},
   "outputs": [],
   "source": [
    "# euclidian distance along axis 0 at x_j\n",
    "dist = z[1:,j] - z[:-1,j]\n",
    "\n",
    "# get gridcell spacing at aread of interest\n",
    "hd = dist[1:, None]\n",
    "hs = dist[:-1,None]\n",
    "\n",
    "# super diagonal f(x+h_{i+1})\n",
    "# main diagonal  f(x)\n",
    "# sub diagonal   f(x-h_{i-1})\n",
    "interior = \\\n",
    "np.eye(nz-2, nz, 2)  * hs**2 + \\\n",
    "np.eye(nz-2, nz, 1)  * (hd**2 - hs**2)  + \\\n",
    "-np.eye(nz-2, nz, 0) * hd**2\n",
    "\n",
    "# scale the coefficent matrix by the proper denominatior\n",
    "interior /= hs*hd*(hs+hd)\n",
    "\n",
    "\n",
    "# weights = np.zeros((nz,nz))\n",
    "# # dump the interior matrix, i.e. centered finite difference \n",
    "# weights[1:-1, :] = interior\n",
    "# # use a first order difference along the boundaries\n",
    "# weights[0,  0:2] = [-1, 1] / dist[0]\n",
    "# weights[-1, -2:] = [-1, 1] / dist[-1]\n",
    "\n",
    "# np.linalg.norm((weights @ T[:,j]) - np.gradient(T[:,j], z[:,j]))"
   ]
  },
  {
   "cell_type": "code",
   "execution_count": null,
   "id": "7f97cb04-a6b9-46f5-a847-129d38c9d692",
   "metadata": {},
   "outputs": [],
   "source": [
    "j=100"
   ]
  },
  {
   "cell_type": "code",
   "execution_count": null,
   "id": "8b01f992-df9f-45e0-90de-efc385481556",
   "metadata": {},
   "outputs": [],
   "source": [
    "%%timeit 1000\n",
    "\n",
    "# create the template interior stencil array (nz-2, nz)\n",
    "# i.e. it's the interior stencil for a single x coordinate\n",
    "sup  =  np.eye(nz-2, nz, 2)\n",
    "main =  np.eye(nz-2, nz, 1)\n",
    "sub  = -np.eye(nz-2, nz, 0) \n",
    "# ref: https://stackoverflow.com/a/55513250/10221482\n",
    "\n",
    "# euclidian distance for every x coordinate\n",
    "dist = np.diff(z, axis=0)\n",
    "\n",
    "# get gridcell spacing at aread of interest\n",
    "hd = dist[ 1:, :]\n",
    "hs = dist[:-1, :]\n",
    "\n",
    "# get the denomaintor \n",
    "denom = (hs*hd*(hs+hd))\n",
    "\n",
    "# broadcast template stencil array (nz-2, nz)gridcellspacing array(nz-1, nz) to be (nz-2, nz, nx) \n",
    "# where: \n",
    "#      i -- nz-2\n",
    "#      j -- nx\n",
    "#      k -- nz\n",
    "interior = np.einsum('ij,ik->ikj', hs**2/denom, sup)  + \\\n",
    "           np.einsum('ij,ik->ikj', (hd**2 - hs**2)/denom, main) +\\\n",
    "           np.einsum('ij,ik->ikj', hd**2/denom, sub)\n",
    "\n",
    "# create the full coefs vector (nz, nz, nx),\n",
    "# i.e. a (nz, nz) matrix for every x gridpoint \n",
    "# which is empty for now \n",
    "weights = np.zeros((nz,nz,nx))\n",
    "# dump the interior matrix, i.e. centered finite difference \n",
    "weights[1:-1, :, :] = interior\n",
    "\n",
    "# use a first order difference along the boundaries\n",
    "weights[0,  0:2, :] = (np.array([[-1], [1]]) * np.ones((1,nx))) / dist[0]\n",
    "weights[-1, -2:, :] = (np.array([[-1], [1]]) * np.ones((1,nx))) / dist[0]\n",
    "\n",
    "# compute the gradient!!\n",
    "np.einsum('ijk, jk -> ik', weights, T)\n",
    "\n",
    "# np_grad = np.zeros_like(T)\n",
    "\n",
    "# for j in range(nx): \n",
    "#     np_grad[:, j] = np.gradient(T[:,j], z[:,j])\n",
    "    \n",
    "# np.linalg.norm(np_grad - np.einsum('ijk, jk -> ik', weights, T))"
   ]
  },
  {
   "cell_type": "code",
   "execution_count": null,
   "id": "3afce2e6-465f-4371-a5b0-ec7dc7b72693",
   "metadata": {},
   "outputs": [],
   "source": [
    "def calc_coefs(shape, axis, dist, edge_order=1): \n",
    "    \"\"\"\n",
    "    input: \n",
    "        z (nz, nx) : \n",
    "    \n",
    "    output: \n",
    "        c (nz, nz, nx): i.e. a (nz,nz) coefficent matrix for every nx point in the domain\n",
    "        \n",
    "    input a two dimmesion Z coordinate array\n",
    "    \n",
    "    used to calculate the gridcell spacing, and with those spacing fill in the appropriate finite difference operator matrix \n",
    "    \"\"\"\n",
    "    # unpack the shape tuple\n",
    "    nz, nx = shape\n",
    "    \n",
    "    # determine the size of the interior stencil matrix \n",
    "    if axis==0: \n",
    "        # i.e. taking gradient along vertical (z) coordinate\n",
    "        int_m = nz-2\n",
    "        int_n = nz\n",
    "        # get the vertical gridcell spacing \n",
    "        hd = dist[ 1:, :]  # + an element, vertically \n",
    "        hs = dist[:-1, :]  # - an element, vertically \n",
    "        # summation indexes for doing array broadcasting \n",
    "        einsum_path = 'ij,ik->ikj'\n",
    "    elif axis==1: \n",
    "        # i.e. taking gradient along horizontal (x) coordinate\n",
    "        int_m = nx-2\n",
    "        int_n = nx\n",
    "        # get the vertical gridcell spacing \n",
    "        hd = dist[:, 1 :]  # + an element, horizontally \n",
    "        hs = dist[:, :-1]  # - an element, horizontally\n",
    "        # summation indexes for doing array broadcasting \n",
    "        einsum_path = 'ij,jk->ijk'\n",
    "\n",
    "    # create the template interior stencil array (nz-2, nz)\n",
    "    # i.e. it's the interior stencil for a single x coordinate\n",
    "    sup  =  np.eye(int_m, int_n, 2)\n",
    "    main =  np.eye(int_m, int_n, 1)\n",
    "    sub  = -np.eye(int_m, int_n, 0) \n",
    "    # ref: https://stackoverflow.com/a/55513250/10221482\n",
    "\n",
    "    # get the denomaintor \n",
    "    denom = (hs*hd*(hs+hd))\n",
    "\n",
    "    # broadcast template interior stencil arrays (nz-2, nz)  and \n",
    "    # gridcellspacing array(nz-2, nx) to be (nz-2, nz, nx) \n",
    "    # where: \n",
    "    #      i -- nz-2\n",
    "    #      j -- nx\n",
    "    #      k -- nz\n",
    "    interior = np.einsum(einsum_path, hs**2/denom, sup)  + \\\n",
    "               np.einsum(einsum_path, (hd**2 - hs**2)/denom, main) +\\\n",
    "               np.einsum(einsum_path, hd**2/denom, sub)\n",
    "\n",
    "    # create the full coefs vector (nz, nz, nx),\n",
    "    # i.e. a (nz, nz) matrix for every x gridpoint \n",
    "    # which is empty for now \n",
    "    if axis==0: \n",
    "        coefs = np.zeros((nz,nz,nx))\n",
    "        # dump the interior matrix, i.e. centered finite difference \n",
    "        coefs[1:-1, :, :] = interior\n",
    "\n",
    "        # use a first order difference along the boundaries\n",
    "        coefs[0,  0:2, :] = (np.array([[-1], [1]]) * np.ones((1,nx))) / dist[0,  :]\n",
    "        coefs[-1, -2:, :] = (np.array([[-1], [1]]) * np.ones((1,nx))) / dist[-1, :]\n",
    "    \n",
    "    elif axis==1: \n",
    "        coefs = np.zeros((nz,nx,nx))\n",
    "        # dump the interior matrix, i.e. centered finite difference \n",
    "        coefs[:,1:-1,:] = interior\n",
    "        \n",
    "        # use a first order difference along the boundaries\n",
    "        coefs[:, 0,  0:2] = (np.array([[-1, 1]]) * np.ones((nz,1))) / dist[:,   0:1]\n",
    "        coefs[:, -1, -2:] = (np.array([[-1, 1]]) * np.ones((nz,1))) / dist[:, -2:-1]\n",
    "    \n",
    "    return coefs"
   ]
  },
  {
   "cell_type": "code",
   "execution_count": null,
   "id": "1f73b824-83b3-4d20-bfa0-3f6701646cfc",
   "metadata": {},
   "outputs": [],
   "source": [
    "sub = src[['temperature', 'Z', 'X']].isel(t=-1).compute()\n",
    "\n",
    "z = sub.Z.values\n",
    "x = sub.X.values\n",
    "T = sub.temperature.values\n",
    "\n",
    "nx = src.coord_1.size\n",
    "nz = src.coord_2.size"
   ]
  },
  {
   "cell_type": "code",
   "execution_count": null,
   "id": "7e03fdea-0485-42a9-a9ef-6cc8fdd0c2eb",
   "metadata": {},
   "outputs": [],
   "source": [
    "# euclidian distance for every x coordinate\n",
    "# dist = np.diff(z, axis=0)\n",
    "dist = np.diff(x, axis=1)\n",
    "# dist[:,:] = 50\n",
    "\n",
    "# get gridcell spacing at aread of interest\n",
    "# hd = dist[ 1:, :]\n",
    "# hs = dist[:-1, :]\n",
    "# hd = dist[:,  1:]\n",
    "# hs = dist[:, :-1]\n",
    "\n",
    "coefs = calc_coefs((nz,nx), 1, dist)\n",
    "\n",
    "# compute the gradient!!\n",
    "\n",
    "# vertical gradient \n",
    "# grad_z = np.einsum('ijk, jk -> ik', coefs, T)\n",
    "\n",
    "# horizontal gradient \n",
    "grad_x = np.einsum('ijk, ik -> ij', coefs, T)\n",
    "\n",
    "\n",
    "np_grad = np.zeros_like(T)\n",
    "\n",
    "for j in range(nz): \n",
    "    np_grad[j, :] = np.gradient(T[j,:], x[j,:], edge_order=1)\n",
    "    \n",
    "np.linalg.norm(np_grad - grad_x)"
   ]
  },
  {
   "cell_type": "code",
   "execution_count": null,
   "id": "45860ceb-8d24-47fe-b7f5-0e0192b93a00",
   "metadata": {},
   "outputs": [],
   "source": [
    "if np.all(hs) & np.all(hd): \n",
    "    print('constant horizontal gridcell spacing')"
   ]
  },
  {
   "cell_type": "code",
   "execution_count": null,
   "id": "ed401ddd-4ae1-4ea4-b042-bbba3f0413a2",
   "metadata": {},
   "outputs": [],
   "source": [
    "def gradient(da, Z, X): \n",
    "    \"\"\" Take the gradient of a multidimensional scalar field. \n",
    "        \n",
    "        Note: this function does not support time dependent data. \n",
    "              To calculate the gradient as a fucntion of time first group by 'time' \n",
    "              then apply this function over:\n",
    "              ```\n",
    "              da.groupby('t').apply(graient)\n",
    "              ```\n",
    "        where: \n",
    "\n",
    "            da (nz, nx) --> is the multidimensional dataarray to take the gradient of \n",
    "            X  (nz, nx) --> is the x coordinate array, defined at every node\n",
    "            Z  (nz, nx) --> is the z coordinate array, defined ar every node\n",
    "    \n",
    "    \"\"\"\n",
    "    assert X.shape == Z.shape\n",
    "    \n",
    "    nz, nx = Z.shape\n",
    "    \n",
    "    # vertical gridceel spacing (nz-1, nx)\n",
    "    dz = np.diff(Z, axis=0)\n",
    "    # finite difference coefficent matrix (nz, nz, nx)\n",
    "    coefs = calc_coefs((nz,nx), 0, dz)\n",
    "    # compute the gradient!!\n",
    "    grad_z = np.einsum('ijk, jk -> ik', coefs, da)\n",
    "\n",
    "    # horizontal gridcell spacing (nz, nx-1)\n",
    "    dx = np.diff(X, axis=1)\n",
    "    # finite difference coefficent matrix (nz, nx, nx)\n",
    "    coefs = calc_coefs((nz,nx), 1, dx)\n",
    "    # compute the gradient!!\n",
    "    grad_x = np.einsum('ijk, ik -> ij', coefs, da)\n",
    "    \n",
    "    \n",
    "    return grad_z, grad_x"
   ]
  },
  {
   "cell_type": "code",
   "execution_count": null,
   "id": "e73c2f7c-dbd5-45ef-9289-6f872edf549a",
   "metadata": {},
   "outputs": [],
   "source": [
    "sub = src[['temperature', 'Z', 'X']].isel(t=-1).compute()\n",
    "\n",
    "z = sub.Z.values\n",
    "x = sub.X.values\n",
    "T = sub.temperature.values\n",
    "\n",
    "nx = src.coord_1.size\n",
    "nz = src.coord_2.size\n"
   ]
  },
  {
   "cell_type": "code",
   "execution_count": null,
   "id": "7b5b5a23-904d-449a-a8af-8fe9f74125f5",
   "metadata": {},
   "outputs": [],
   "source": [
    "%%timeit\n",
    "\n",
    "dTdz, dTdx = gradient(T, z, x)"
   ]
  },
  {
   "cell_type": "code",
   "execution_count": null,
   "id": "9f5f96b0-7270-4f10-963e-bc7647f22548",
   "metadata": {},
   "outputs": [],
   "source": [
    "%%timeit\n",
    "\n",
    "dTdz_np = np.zeros_like(T)\n",
    "dTdx_np = np.zeros_like(T)\n",
    "\n",
    "# for each horizontal column, compute the vertical temperature gradient\n",
    "for i in range(nz): \n",
    "    dTdx_np[i,:] = np.gradient(T[i,:], x[i,:])\n",
    "    \n",
    "# for each vertical layer, compute the horizontal temperature gradient\n",
    "for j in range(nx): \n",
    "    dTdz_np[:,j] = np.gradient(T[:,j], z[:,j])"
   ]
  },
  {
   "cell_type": "code",
   "execution_count": null,
   "id": "e4d95bf9-b1b3-48f8-875d-cb8c08bc0a05",
   "metadata": {},
   "outputs": [],
   "source": [
    "np.linalg.norm(dTdx - dTdx_np)"
   ]
  },
  {
   "cell_type": "code",
   "execution_count": null,
   "id": "df47ca81-fb92-4120-a1b7-0e82ab941124",
   "metadata": {},
   "outputs": [],
   "source": [
    "dTdz_np.shape"
   ]
  },
  {
   "cell_type": "code",
   "execution_count": null,
   "id": "5dc0076e-93b2-49bb-a05f-8e7e89679a4b",
   "metadata": {},
   "outputs": [],
   "source": [
    "gradient(T, x, z)"
   ]
  },
  {
   "cell_type": "code",
   "execution_count": null,
   "id": "d4b38170-a027-4b1a-9d53-f02eef746afc",
   "metadata": {},
   "outputs": [],
   "source": []
  },
  {
   "cell_type": "code",
   "execution_count": null,
   "id": "ba44f391-2fec-424f-87be-f584d4329224",
   "metadata": {},
   "outputs": [],
   "source": []
  }
 ],
 "metadata": {
  "kernelspec": {
   "display_name": "Python 3 (ipykernel)",
   "language": "python",
   "name": "python3"
  },
  "language_info": {
   "codemirror_mode": {
    "name": "ipython",
    "version": 3
   },
   "file_extension": ".py",
   "mimetype": "text/x-python",
   "name": "python",
   "nbconvert_exporter": "python",
   "pygments_lexer": "ipython3",
   "version": "3.9.13"
  }
 },
 "nbformat": 4,
 "nbformat_minor": 5
}
